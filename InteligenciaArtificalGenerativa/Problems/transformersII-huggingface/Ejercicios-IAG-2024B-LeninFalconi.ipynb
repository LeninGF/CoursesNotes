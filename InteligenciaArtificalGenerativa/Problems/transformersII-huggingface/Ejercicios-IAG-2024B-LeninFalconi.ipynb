{
 "cells": [
  {
   "cell_type": "markdown",
   "metadata": {},
   "source": [
    "## Ejericios Transformers con HuggingFace\n",
    "\n",
    "Coder: Lenin Falconí\n",
    "\n",
    "Fecha: 2024-12-16\n",
    "\n"
   ]
  },
  {
   "cell_type": "markdown",
   "metadata": {},
   "source": [
    "## Resumen de Texto\n"
   ]
  },
  {
   "cell_type": "code",
   "execution_count": null,
   "metadata": {},
   "outputs": [],
   "source": [
    "from transformers import Auto"
   ]
  }
 ],
 "metadata": {
  "kernelspec": {
   "display_name": "tfwin",
   "language": "python",
   "name": "python3"
  },
  "language_info": {
   "name": "python",
   "version": "3.9.20"
  }
 },
 "nbformat": 4,
 "nbformat_minor": 2
}
