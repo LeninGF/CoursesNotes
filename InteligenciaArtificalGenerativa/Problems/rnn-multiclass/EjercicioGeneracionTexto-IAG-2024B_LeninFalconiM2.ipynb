{
  "cells": [
    {
      "cell_type": "markdown",
      "metadata": {
        "id": "view-in-github",
        "colab_type": "text"
      },
      "source": [
        "<a href=\"https://colab.research.google.com/github/LeninGF/CoursesNotes/blob/main/InteligenciaArtificalGenerativa/Problems/rnn-multiclass/EjercicioGeneracionTexto-IAG-2024B_LeninFalconiM2.ipynb\" target=\"_parent\"><img src=\"https://colab.research.google.com/assets/colab-badge.svg\" alt=\"Open In Colab\"/></a>"
      ]
    },
    {
      "cell_type": "markdown",
      "id": "df781228",
      "metadata": {
        "id": "df781228",
        "papermill": {
          "duration": 0.003129,
          "end_time": "2024-11-18T21:09:47.480189",
          "exception": false,
          "start_time": "2024-11-18T21:09:47.477060",
          "status": "completed"
        },
        "tags": []
      },
      "source": [
        "# RNN Multiclase\n",
        "\n",
        "Coder: Lenin G. Falconí\n",
        "\n",
        "Asignatura: Tópicos Especiales (Inteligencia Artificial)\n",
        "\n",
        "Fecha: 2024-11-18"
      ]
    },
    {
      "cell_type": "markdown",
      "id": "553e228e",
      "metadata": {
        "id": "553e228e",
        "papermill": {
          "duration": 0.00307,
          "end_time": "2024-11-18T21:09:47.486515",
          "exception": false,
          "start_time": "2024-11-18T21:09:47.483445",
          "status": "completed"
        },
        "tags": []
      },
      "source": [
        "# Generación de Texto\n",
        "Usando la información presentada, programar el código para la generación de texto basado en las frases de Sheldon para ejecutar en Kaggle.\n",
        "Incluir la preparación de datos, definición del modelo, entrenamiento y generación de texto. Ajustar para mejorar resultados, comparar generación por caracteres vs. Generación por palabras. Probar para otros vocabularios.\n"
      ]
    },
    {
      "cell_type": "code",
      "execution_count": 24,
      "id": "8eea9738",
      "metadata": {
        "execution": {
          "iopub.execute_input": "2024-11-18T21:09:47.494943Z",
          "iopub.status.busy": "2024-11-18T21:09:47.494686Z",
          "iopub.status.idle": "2024-11-18T21:09:47.501863Z",
          "shell.execute_reply": "2024-11-18T21:09:47.501063Z"
        },
        "papermill": {
          "duration": 0.012638,
          "end_time": "2024-11-18T21:09:47.503334",
          "exception": false,
          "start_time": "2024-11-18T21:09:47.490696",
          "status": "completed"
        },
        "tags": [],
        "id": "8eea9738"
      },
      "outputs": [],
      "source": [
        "# chars_window = 20  # Tamaño de la ventana deslizante\n",
        "# step = 3           # Paso para mover la ventana\n",
        "# n_epochs = 5      # Número de épocas (ajustable)\n",
        "# batch_size = 128   # Tamaño del lote\n",
        "\n",
        "seq_length = 100"
      ]
    },
    {
      "cell_type": "markdown",
      "source": [
        "## Carga del Texto\n",
        "Se utiliza el libro de Don Quijote de la biblioteca Gutenberg. Se salta la parte de licencias"
      ],
      "metadata": {
        "id": "a1Px8i-ve2qq"
      },
      "id": "a1Px8i-ve2qq"
    },
    {
      "cell_type": "code",
      "execution_count": 1,
      "id": "21be66f2",
      "metadata": {
        "execution": {
          "iopub.execute_input": "2024-11-18T21:09:47.511025Z",
          "iopub.status.busy": "2024-11-18T21:09:47.510602Z",
          "iopub.status.idle": "2024-11-18T21:09:59.447754Z",
          "shell.execute_reply": "2024-11-18T21:09:59.446789Z"
        },
        "papermill": {
          "duration": 11.943148,
          "end_time": "2024-11-18T21:09:59.449792",
          "exception": false,
          "start_time": "2024-11-18T21:09:47.506644",
          "status": "completed"
        },
        "tags": [],
        "id": "21be66f2",
        "outputId": "eafafad9-0cc2-4698-85b0-01e52409bfd6",
        "colab": {
          "base_uri": "https://localhost:8080/"
        }
      },
      "outputs": [
        {
          "output_type": "stream",
          "name": "stdout",
          "text": [
            "Downloading data from https://www.gutenberg.org/files/2000/2000-0.txt\n",
            "\u001b[1m2226045/2226045\u001b[0m \u001b[32m━━━━━━━━━━━━━━━━━━━━\u001b[0m\u001b[37m\u001b[0m \u001b[1m2s\u001b[0m 1us/step\n"
          ]
        }
      ],
      "source": [
        "import numpy as np\n",
        "import tensorflow as tf\n",
        "from tensorflow.keras.models import Sequential\n",
        "from tensorflow.keras.layers import Dense, LSTM, Embedding\n",
        "\n",
        "# Load dataset\n",
        "path_to_file = tf.keras.utils.get_file('don_quijote.txt', 'https://www.gutenberg.org/files/2000/2000-0.txt')\n"
      ]
    },
    {
      "cell_type": "code",
      "source": [
        "# Read, then decode for py2 compat.\n",
        "text = open(path_to_file, 'rb').read().decode(encoding='utf-8')\n",
        "# length of text is the number of characters in it\n",
        "print(f'Length of text: {len(text)} characters')"
      ],
      "metadata": {
        "id": "XS_n9z8ddOut",
        "outputId": "d440c17a-b984-4404-a281-7ffc2f2464b4",
        "colab": {
          "base_uri": "https://localhost:8080/"
        }
      },
      "id": "XS_n9z8ddOut",
      "execution_count": 2,
      "outputs": [
        {
          "output_type": "stream",
          "name": "stdout",
          "text": [
            "Length of text: 2168460 characters\n"
          ]
        }
      ]
    },
    {
      "cell_type": "code",
      "source": [
        "start_of_text = text.find(\"El ingenioso hidalgo don Quijote de la Mancha\")\n",
        "text = text[start_of_text:]\n",
        "len(text)"
      ],
      "metadata": {
        "id": "E2xUKQNadsMk",
        "outputId": "895fea8b-6637-45cd-e7db-2fb76ec648f1",
        "colab": {
          "base_uri": "https://localhost:8080/"
        }
      },
      "id": "E2xUKQNadsMk",
      "execution_count": 10,
      "outputs": [
        {
          "output_type": "execute_result",
          "data": {
            "text/plain": [
              "2167576"
            ]
          },
          "metadata": {},
          "execution_count": 10
        }
      ]
    },
    {
      "cell_type": "code",
      "source": [
        "# Take a look at the first 250 characters in text\n",
        "print(text[:250])"
      ],
      "metadata": {
        "id": "_YRRK5eadWhu",
        "outputId": "f22db983-bb3e-47b1-bfa3-90582b71d654",
        "colab": {
          "base_uri": "https://localhost:8080/"
        }
      },
      "id": "_YRRK5eadWhu",
      "execution_count": 13,
      "outputs": [
        {
          "output_type": "stream",
          "name": "stdout",
          "text": [
            "El ingenioso hidalgo don Quijote de la Mancha\r\n",
            "\r\n",
            "\r\n",
            "\r\n",
            "por Miguel de Cervantes Saavedra\r\n",
            "\r\n",
            "\r\n",
            "\r\n",
            "\r\n",
            "\r\n",
            "El ingenioso hidalgo don Quijote de la Mancha\r\n",
            "\r\n",
            "\r\n",
            "  \r\n",
            "Tasa\r\n",
            "\r\n",
            "  \r\n",
            "Testimonio de las erratas\r\n",
            "\r\n",
            "  \r\n",
            "El Rey\r\n",
            "\r\n",
            "  \r\n",
            "Al Duque de Béjar\r\n",
            "\r\n",
            "  \r\n",
            "Prólogo\r\n",
            "\r\n",
            "  \r\n"
          ]
        }
      ]
    },
    {
      "cell_type": "code",
      "source": [
        "# Create a vocabulary\n",
        "vocab = sorted(set(text))\n",
        "print(f'{len(vocab)} unique characters')"
      ],
      "metadata": {
        "id": "dRdMB_MacZ_N",
        "outputId": "018c4c88-413a-43c3-c240-cf247a478ed6",
        "colab": {
          "base_uri": "https://localhost:8080/"
        }
      },
      "id": "dRdMB_MacZ_N",
      "execution_count": 14,
      "outputs": [
        {
          "output_type": "stream",
          "name": "stdout",
          "text": [
            "103 unique characters\n"
          ]
        }
      ]
    },
    {
      "cell_type": "markdown",
      "source": [
        "## Preprocesamiento\n",
        "Donde vectorizamos el texto usando algunas librerías"
      ],
      "metadata": {
        "id": "nrxii2ByfHd0"
      },
      "id": "nrxii2ByfHd0"
    },
    {
      "cell_type": "code",
      "source": [
        "example_texts = ['abcdefg', 'xyz']\n",
        "\n",
        "chars = tf.strings.unicode_split(example_texts, input_encoding='UTF-8')\n",
        "chars"
      ],
      "metadata": {
        "id": "zNElUANDfQY-",
        "outputId": "23a5cd29-a746-44ab-884d-4a3601f829e0",
        "colab": {
          "base_uri": "https://localhost:8080/"
        }
      },
      "id": "zNElUANDfQY-",
      "execution_count": 16,
      "outputs": [
        {
          "output_type": "execute_result",
          "data": {
            "text/plain": [
              "<tf.RaggedTensor [[b'a', b'b', b'c', b'd', b'e', b'f', b'g'], [b'x', b'y', b'z']]>"
            ]
          },
          "metadata": {},
          "execution_count": 16
        }
      ]
    },
    {
      "cell_type": "code",
      "source": [
        "char_to_index = tf.keras.layers.StringLookup(vocabulary=list(vocab), mask_token=None)\n",
        "index_to_char = tf.keras.layers.StringLookup(vocabulary=char_to_index.get_vocabulary(), invert=True, mask_token=None)\n",
        "example_ids = char_to_index(chars)\n",
        "example_ids"
      ],
      "metadata": {
        "id": "e0lYDpRverCM",
        "outputId": "6b53437f-3e31-4674-ff1a-1c146e1aa259",
        "colab": {
          "base_uri": "https://localhost:8080/"
        }
      },
      "id": "e0lYDpRverCM",
      "execution_count": 18,
      "outputs": [
        {
          "output_type": "execute_result",
          "data": {
            "text/plain": [
              "<tf.RaggedTensor [[57, 58, 59, 60, 61, 62, 63], [80, 81, 82]]>"
            ]
          },
          "metadata": {},
          "execution_count": 18
        }
      ]
    },
    {
      "cell_type": "code",
      "source": [
        "def text_from_ids(ids):\n",
        "  return tf.strings.reduce_join(index_to_char(ids), axis=-1)\n",
        "\n",
        "text_from_ids(example_ids)"
      ],
      "metadata": {
        "id": "gV55SCgxfzw-",
        "outputId": "cbb0e274-66e7-4667-db1b-ad0a857dc0ab",
        "colab": {
          "base_uri": "https://localhost:8080/"
        }
      },
      "id": "gV55SCgxfzw-",
      "execution_count": 20,
      "outputs": [
        {
          "output_type": "execute_result",
          "data": {
            "text/plain": [
              "<tf.Tensor: shape=(2,), dtype=string, numpy=array([b'abcdefg', b'xyz'], dtype=object)>"
            ]
          },
          "metadata": {},
          "execution_count": 20
        }
      ]
    },
    {
      "cell_type": "markdown",
      "source": [
        "## Generacion del Dataset"
      ],
      "metadata": {
        "id": "UZwgmpvrgwd8"
      },
      "id": "UZwgmpvrgwd8"
    },
    {
      "cell_type": "code",
      "source": [
        "all_ids = char_to_index(tf.strings.unicode_split(text, 'UTF-8'))\n",
        "all_ids"
      ],
      "metadata": {
        "id": "XQcmiidCg0Dg",
        "outputId": "8ed12bf1-20ba-4742-b407-f76d08b3a340",
        "colab": {
          "base_uri": "https://localhost:8080/"
        }
      },
      "id": "XQcmiidCg0Dg",
      "execution_count": 21,
      "outputs": [
        {
          "output_type": "execute_result",
          "data": {
            "text/plain": [
              "<tf.Tensor: shape=(2167576,), dtype=int64, numpy=array([34, 68,  3, ...,  1,  2,  1])>"
            ]
          },
          "metadata": {},
          "execution_count": 21
        }
      ]
    },
    {
      "cell_type": "code",
      "source": [
        "ids_dataset = tf.data.Dataset.from_tensor_slices(all_ids)"
      ],
      "metadata": {
        "id": "pk814bgGg82i"
      },
      "id": "pk814bgGg82i",
      "execution_count": 22,
      "outputs": []
    },
    {
      "cell_type": "code",
      "source": [
        "for ids in ids_dataset.take(20):\n",
        "    print(index_to_char(ids).numpy().decode('utf-8'))"
      ],
      "metadata": {
        "id": "QTvj5lRmg-jO",
        "outputId": "5f93aaba-d2e2-4297-bbfa-48bc2d6bddf5",
        "colab": {
          "base_uri": "https://localhost:8080/"
        }
      },
      "id": "QTvj5lRmg-jO",
      "execution_count": 23,
      "outputs": [
        {
          "output_type": "stream",
          "name": "stdout",
          "text": [
            "E\n",
            "l\n",
            " \n",
            "i\n",
            "n\n",
            "g\n",
            "e\n",
            "n\n",
            "i\n",
            "o\n",
            "s\n",
            "o\n",
            " \n",
            "h\n",
            "i\n",
            "d\n",
            "a\n",
            "l\n",
            "g\n",
            "o\n"
          ]
        }
      ]
    },
    {
      "cell_type": "markdown",
      "source": [
        "Se genera secuencias de tamaño 101"
      ],
      "metadata": {
        "id": "zwhAzTc0hjsr"
      },
      "id": "zwhAzTc0hjsr"
    },
    {
      "cell_type": "code",
      "source": [
        "sequences = ids_dataset.batch(seq_length+1, drop_remainder=True)\n",
        "\n",
        "for seq in sequences.take(1):\n",
        "  print(index_to_char(seq))"
      ],
      "metadata": {
        "id": "2NXBBrxLhZVN",
        "outputId": "2f99a237-20f8-41ef-cac5-204d2a59c920",
        "colab": {
          "base_uri": "https://localhost:8080/"
        }
      },
      "id": "2NXBBrxLhZVN",
      "execution_count": 25,
      "outputs": [
        {
          "output_type": "stream",
          "name": "stdout",
          "text": [
            "tf.Tensor(\n",
            "[b'E' b'l' b' ' b'i' b'n' b'g' b'e' b'n' b'i' b'o' b's' b'o' b' ' b'h'\n",
            " b'i' b'd' b'a' b'l' b'g' b'o' b' ' b'd' b'o' b'n' b' ' b'Q' b'u' b'i'\n",
            " b'j' b'o' b't' b'e' b' ' b'd' b'e' b' ' b'l' b'a' b' ' b'M' b'a' b'n'\n",
            " b'c' b'h' b'a' b'\\r' b'\\n' b'\\r' b'\\n' b'\\r' b'\\n' b'\\r' b'\\n' b'p' b'o'\n",
            " b'r' b' ' b'M' b'i' b'g' b'u' b'e' b'l' b' ' b'd' b'e' b' ' b'C' b'e'\n",
            " b'r' b'v' b'a' b'n' b't' b'e' b's' b' ' b'S' b'a' b'a' b'v' b'e' b'd'\n",
            " b'r' b'a' b'\\r' b'\\n' b'\\r' b'\\n' b'\\r' b'\\n' b'\\r' b'\\n' b'\\r' b'\\n'\n",
            " b'\\r' b'\\n' b'E' b'l' b' ' b'i'], shape=(101,), dtype=string)\n"
          ]
        }
      ]
    },
    {
      "cell_type": "markdown",
      "source": [
        "Para visualizar de mejor manera"
      ],
      "metadata": {
        "id": "snXG7Ulmhq7c"
      },
      "id": "snXG7Ulmhq7c"
    },
    {
      "cell_type": "code",
      "source": [
        "for seq in sequences.take(5):\n",
        "  print(text_from_ids(seq).numpy())"
      ],
      "metadata": {
        "id": "2S061Arzhs6o",
        "outputId": "6b3c8924-9949-45fd-b3d5-100169db346c",
        "colab": {
          "base_uri": "https://localhost:8080/"
        }
      },
      "id": "2S061Arzhs6o",
      "execution_count": 26,
      "outputs": [
        {
          "output_type": "stream",
          "name": "stdout",
          "text": [
            "b'El ingenioso hidalgo don Quijote de la Mancha\\r\\n\\r\\n\\r\\n\\r\\npor Miguel de Cervantes Saavedra\\r\\n\\r\\n\\r\\n\\r\\n\\r\\n\\r\\nEl i'\n",
            "b'ngenioso hidalgo don Quijote de la Mancha\\r\\n\\r\\n\\r\\n  \\r\\nTasa\\r\\n\\r\\n  \\r\\nTestimonio de las erratas\\r\\n\\r\\n  \\r\\nEl Re'\n",
            "b'y\\r\\n\\r\\n  \\r\\nAl Duque de B\\xc3\\xa9jar\\r\\n\\r\\n  \\r\\nPr\\xc3\\xb3logo\\r\\n\\r\\n  \\r\\nAl libro de don Quijote de la Mancha\\r\\n\\r\\n\\r\\n\\r\\nQue trat'\n",
            "b'a de la condici\\xc3\\xb3n y ejercicio del famoso\\r\\nhidalgo don Quijote de la Mancha\\r\\n\\r\\nQue trata de la primera'\n",
            "b' salida que de su tierra hizo\\r\\nel ingenioso don Quijote\\r\\n\\r\\nDonde se cuenta la graciosa manera que tuv'\n"
          ]
        }
      ]
    },
    {
      "cell_type": "markdown",
      "source": [
        "Separando el dataset en un texto de entrada y su etiqueta"
      ],
      "metadata": {
        "id": "0MVd-25YhxPt"
      },
      "id": "0MVd-25YhxPt"
    },
    {
      "cell_type": "code",
      "source": [
        "def split_input_target(sequence):\n",
        "    input_text = sequence[:-1]\n",
        "    target_text = sequence[1:]\n",
        "    return input_text, target_text"
      ],
      "metadata": {
        "id": "pjMu18TQh029"
      },
      "id": "pjMu18TQh029",
      "execution_count": 27,
      "outputs": []
    },
    {
      "cell_type": "code",
      "source": [
        "split_input_target(list(\"Tensorflow\"))"
      ],
      "metadata": {
        "id": "Hi08rx2vh40a",
        "outputId": "1b35e058-afef-46d0-c37c-49b5e294bb34",
        "colab": {
          "base_uri": "https://localhost:8080/"
        }
      },
      "id": "Hi08rx2vh40a",
      "execution_count": 28,
      "outputs": [
        {
          "output_type": "execute_result",
          "data": {
            "text/plain": [
              "(['T', 'e', 'n', 's', 'o', 'r', 'f', 'l', 'o'],\n",
              " ['e', 'n', 's', 'o', 'r', 'f', 'l', 'o', 'w'])"
            ]
          },
          "metadata": {},
          "execution_count": 28
        }
      ]
    },
    {
      "cell_type": "markdown",
      "source": [
        "En este caso se maneja el mismo tamaño de secuencia solo que se desplaza a la siguiente letra forazando a la red a aprender que letra sigue a la anterior"
      ],
      "metadata": {
        "id": "J6V91oQWh6r_"
      },
      "id": "J6V91oQWh6r_"
    },
    {
      "cell_type": "code",
      "source": [
        "dataset = sequences.map(split_input_target)"
      ],
      "metadata": {
        "id": "YqQdVtqViEvm"
      },
      "id": "YqQdVtqViEvm",
      "execution_count": 29,
      "outputs": []
    },
    {
      "cell_type": "code",
      "source": [
        "for input_example, target_example in dataset.take(1):\n",
        "    print(\"Input :\", text_from_ids(input_example).numpy())\n",
        "    print(\"Target:\", text_from_ids(target_example).numpy())"
      ],
      "metadata": {
        "id": "_6NZ6LN4iFs9",
        "outputId": "1445d6b9-00f0-4685-eb6b-dfe7293d1d1f",
        "colab": {
          "base_uri": "https://localhost:8080/"
        }
      },
      "id": "_6NZ6LN4iFs9",
      "execution_count": 31,
      "outputs": [
        {
          "output_type": "stream",
          "name": "stdout",
          "text": [
            "Input : b'El ingenioso hidalgo don Quijote de la Mancha\\r\\n\\r\\n\\r\\n\\r\\npor Miguel de Cervantes Saavedra\\r\\n\\r\\n\\r\\n\\r\\n\\r\\n\\r\\nEl '\n",
            "Target: b'l ingenioso hidalgo don Quijote de la Mancha\\r\\n\\r\\n\\r\\n\\r\\npor Miguel de Cervantes Saavedra\\r\\n\\r\\n\\r\\n\\r\\n\\r\\n\\r\\nEl i'\n"
          ]
        }
      ]
    },
    {
      "cell_type": "markdown",
      "source": [
        "Se generan batches para procesamiento"
      ],
      "metadata": {
        "id": "U98Q2HuqiXk_"
      },
      "id": "U98Q2HuqiXk_"
    },
    {
      "cell_type": "code",
      "source": [
        "# Batch size\n",
        "BATCH_SIZE = 64\n",
        "\n",
        "# Buffer size to shuffle the dataset\n",
        "# (TF data is designed to work with possibly infinite sequences,\n",
        "# so it doesn't attempt to shuffle the entire sequence in memory. Instead,\n",
        "# it maintains a buffer in which it shuffles elements).\n",
        "BUFFER_SIZE = 10000\n",
        "\n",
        "dataset = (\n",
        "    dataset\n",
        "    .shuffle(BUFFER_SIZE)\n",
        "    .batch(BATCH_SIZE, drop_remainder=True)\n",
        "    .prefetch(tf.data.experimental.AUTOTUNE))\n",
        "\n",
        "dataset"
      ],
      "metadata": {
        "id": "HQCTny44iZ6C",
        "outputId": "9799c1b6-4336-455c-dd06-740652d057f4",
        "colab": {
          "base_uri": "https://localhost:8080/"
        }
      },
      "id": "HQCTny44iZ6C",
      "execution_count": 32,
      "outputs": [
        {
          "output_type": "execute_result",
          "data": {
            "text/plain": [
              "<_PrefetchDataset element_spec=(TensorSpec(shape=(64, 100), dtype=tf.int64, name=None), TensorSpec(shape=(64, 100), dtype=tf.int64, name=None))>"
            ]
          },
          "metadata": {},
          "execution_count": 32
        }
      ]
    },
    {
      "cell_type": "markdown",
      "source": [
        "# Entrenamiento del Modelo\n",
        "\n",
        "Se procede a realizar elentrenamiento del Modelo, definiendo algunas constantes estructurales"
      ],
      "metadata": {
        "id": "SX0W-zusinkW"
      },
      "id": "SX0W-zusinkW"
    },
    {
      "cell_type": "code",
      "execution_count": 34,
      "id": "2161d0a0",
      "metadata": {
        "execution": {
          "iopub.execute_input": "2024-11-18T21:09:59.817835Z",
          "iopub.status.busy": "2024-11-18T21:09:59.817567Z",
          "iopub.status.idle": "2024-11-18T21:09:59.822534Z",
          "shell.execute_reply": "2024-11-18T21:09:59.821778Z"
        },
        "papermill": {
          "duration": 0.011386,
          "end_time": "2024-11-18T21:09:59.824169",
          "exception": false,
          "start_time": "2024-11-18T21:09:59.812783",
          "status": "completed"
        },
        "tags": [],
        "id": "2161d0a0"
      },
      "outputs": [],
      "source": [
        "# Length of the vocabulary in StringLookup Layer\n",
        "vocab_size = len(char_to_index.get_vocabulary())\n",
        "\n",
        "# The embedding dimension\n",
        "embedding_dim = 256\n",
        "\n",
        "# Number of RNN units\n",
        "rnn_units = 1024"
      ]
    },
    {
      "cell_type": "code",
      "source": [
        "def create_model(vocab_size, embedding_dim, rnn_units, input_length):\n",
        "    inputs = tf.keras.Input(shape=(input_length,))\n",
        "    x = tf.keras.layers.Embedding(vocab_size, embedding_dim)(inputs)\n",
        "    x = tf.keras.layers.LSTM(rnn_units, return_sequences=True)(x)\n",
        "    x = tf.keras.layers.Dropout(0.2)(x)  # Example dropout rate\n",
        "    outputs = tf.keras.layers.Dense(vocab_size)(x)\n",
        "\n",
        "    model = tf.keras.Model(inputs=inputs, outputs=outputs)\n",
        "    return model\n",
        "\n",
        "model = create_model(vocab_size=len(char_to_index.get_vocabulary()),\n",
        "                     embedding_dim=256,\n",
        "                     rnn_units=1024,\n",
        "                     input_length=100)"
      ],
      "metadata": {
        "id": "t1QOSUZLjEW5"
      },
      "id": "t1QOSUZLjEW5",
      "execution_count": 35,
      "outputs": []
    },
    {
      "cell_type": "code",
      "source": [
        "model.summary()"
      ],
      "metadata": {
        "id": "EOtb6qnzjNPA",
        "outputId": "b0014cb9-8397-49ec-ea72-59bab69a10fe",
        "colab": {
          "base_uri": "https://localhost:8080/",
          "height": 306
        }
      },
      "id": "EOtb6qnzjNPA",
      "execution_count": 36,
      "outputs": [
        {
          "output_type": "display_data",
          "data": {
            "text/plain": [
              "\u001b[1mModel: \"functional\"\u001b[0m\n"
            ],
            "text/html": [
              "<pre style=\"white-space:pre;overflow-x:auto;line-height:normal;font-family:Menlo,'DejaVu Sans Mono',consolas,'Courier New',monospace\"><span style=\"font-weight: bold\">Model: \"functional\"</span>\n",
              "</pre>\n"
            ]
          },
          "metadata": {}
        },
        {
          "output_type": "display_data",
          "data": {
            "text/plain": [
              "┏━━━━━━━━━━━━━━━━━━━━━━━━━━━━━━━━━━━━━━┳━━━━━━━━━━━━━━━━━━━━━━━━━━━━━┳━━━━━━━━━━━━━━━━━┓\n",
              "┃\u001b[1m \u001b[0m\u001b[1mLayer (type)                        \u001b[0m\u001b[1m \u001b[0m┃\u001b[1m \u001b[0m\u001b[1mOutput Shape               \u001b[0m\u001b[1m \u001b[0m┃\u001b[1m \u001b[0m\u001b[1m        Param #\u001b[0m\u001b[1m \u001b[0m┃\n",
              "┡━━━━━━━━━━━━━━━━━━━━━━━━━━━━━━━━━━━━━━╇━━━━━━━━━━━━━━━━━━━━━━━━━━━━━╇━━━━━━━━━━━━━━━━━┩\n",
              "│ input_layer (\u001b[38;5;33mInputLayer\u001b[0m)             │ (\u001b[38;5;45mNone\u001b[0m, \u001b[38;5;34m100\u001b[0m)                 │               \u001b[38;5;34m0\u001b[0m │\n",
              "├──────────────────────────────────────┼─────────────────────────────┼─────────────────┤\n",
              "│ embedding (\u001b[38;5;33mEmbedding\u001b[0m)                │ (\u001b[38;5;45mNone\u001b[0m, \u001b[38;5;34m100\u001b[0m, \u001b[38;5;34m256\u001b[0m)            │          \u001b[38;5;34m26,624\u001b[0m │\n",
              "├──────────────────────────────────────┼─────────────────────────────┼─────────────────┤\n",
              "│ lstm (\u001b[38;5;33mLSTM\u001b[0m)                          │ (\u001b[38;5;45mNone\u001b[0m, \u001b[38;5;34m100\u001b[0m, \u001b[38;5;34m1024\u001b[0m)           │       \u001b[38;5;34m5,246,976\u001b[0m │\n",
              "├──────────────────────────────────────┼─────────────────────────────┼─────────────────┤\n",
              "│ dropout (\u001b[38;5;33mDropout\u001b[0m)                    │ (\u001b[38;5;45mNone\u001b[0m, \u001b[38;5;34m100\u001b[0m, \u001b[38;5;34m1024\u001b[0m)           │               \u001b[38;5;34m0\u001b[0m │\n",
              "├──────────────────────────────────────┼─────────────────────────────┼─────────────────┤\n",
              "│ dense (\u001b[38;5;33mDense\u001b[0m)                        │ (\u001b[38;5;45mNone\u001b[0m, \u001b[38;5;34m100\u001b[0m, \u001b[38;5;34m104\u001b[0m)            │         \u001b[38;5;34m106,600\u001b[0m │\n",
              "└──────────────────────────────────────┴─────────────────────────────┴─────────────────┘\n"
            ],
            "text/html": [
              "<pre style=\"white-space:pre;overflow-x:auto;line-height:normal;font-family:Menlo,'DejaVu Sans Mono',consolas,'Courier New',monospace\">┏━━━━━━━━━━━━━━━━━━━━━━━━━━━━━━━━━━━━━━┳━━━━━━━━━━━━━━━━━━━━━━━━━━━━━┳━━━━━━━━━━━━━━━━━┓\n",
              "┃<span style=\"font-weight: bold\"> Layer (type)                         </span>┃<span style=\"font-weight: bold\"> Output Shape                </span>┃<span style=\"font-weight: bold\">         Param # </span>┃\n",
              "┡━━━━━━━━━━━━━━━━━━━━━━━━━━━━━━━━━━━━━━╇━━━━━━━━━━━━━━━━━━━━━━━━━━━━━╇━━━━━━━━━━━━━━━━━┩\n",
              "│ input_layer (<span style=\"color: #0087ff; text-decoration-color: #0087ff\">InputLayer</span>)             │ (<span style=\"color: #00d7ff; text-decoration-color: #00d7ff\">None</span>, <span style=\"color: #00af00; text-decoration-color: #00af00\">100</span>)                 │               <span style=\"color: #00af00; text-decoration-color: #00af00\">0</span> │\n",
              "├──────────────────────────────────────┼─────────────────────────────┼─────────────────┤\n",
              "│ embedding (<span style=\"color: #0087ff; text-decoration-color: #0087ff\">Embedding</span>)                │ (<span style=\"color: #00d7ff; text-decoration-color: #00d7ff\">None</span>, <span style=\"color: #00af00; text-decoration-color: #00af00\">100</span>, <span style=\"color: #00af00; text-decoration-color: #00af00\">256</span>)            │          <span style=\"color: #00af00; text-decoration-color: #00af00\">26,624</span> │\n",
              "├──────────────────────────────────────┼─────────────────────────────┼─────────────────┤\n",
              "│ lstm (<span style=\"color: #0087ff; text-decoration-color: #0087ff\">LSTM</span>)                          │ (<span style=\"color: #00d7ff; text-decoration-color: #00d7ff\">None</span>, <span style=\"color: #00af00; text-decoration-color: #00af00\">100</span>, <span style=\"color: #00af00; text-decoration-color: #00af00\">1024</span>)           │       <span style=\"color: #00af00; text-decoration-color: #00af00\">5,246,976</span> │\n",
              "├──────────────────────────────────────┼─────────────────────────────┼─────────────────┤\n",
              "│ dropout (<span style=\"color: #0087ff; text-decoration-color: #0087ff\">Dropout</span>)                    │ (<span style=\"color: #00d7ff; text-decoration-color: #00d7ff\">None</span>, <span style=\"color: #00af00; text-decoration-color: #00af00\">100</span>, <span style=\"color: #00af00; text-decoration-color: #00af00\">1024</span>)           │               <span style=\"color: #00af00; text-decoration-color: #00af00\">0</span> │\n",
              "├──────────────────────────────────────┼─────────────────────────────┼─────────────────┤\n",
              "│ dense (<span style=\"color: #0087ff; text-decoration-color: #0087ff\">Dense</span>)                        │ (<span style=\"color: #00d7ff; text-decoration-color: #00d7ff\">None</span>, <span style=\"color: #00af00; text-decoration-color: #00af00\">100</span>, <span style=\"color: #00af00; text-decoration-color: #00af00\">104</span>)            │         <span style=\"color: #00af00; text-decoration-color: #00af00\">106,600</span> │\n",
              "└──────────────────────────────────────┴─────────────────────────────┴─────────────────┘\n",
              "</pre>\n"
            ]
          },
          "metadata": {}
        },
        {
          "output_type": "display_data",
          "data": {
            "text/plain": [
              "\u001b[1m Total params: \u001b[0m\u001b[38;5;34m5,380,200\u001b[0m (20.52 MB)\n"
            ],
            "text/html": [
              "<pre style=\"white-space:pre;overflow-x:auto;line-height:normal;font-family:Menlo,'DejaVu Sans Mono',consolas,'Courier New',monospace\"><span style=\"font-weight: bold\"> Total params: </span><span style=\"color: #00af00; text-decoration-color: #00af00\">5,380,200</span> (20.52 MB)\n",
              "</pre>\n"
            ]
          },
          "metadata": {}
        },
        {
          "output_type": "display_data",
          "data": {
            "text/plain": [
              "\u001b[1m Trainable params: \u001b[0m\u001b[38;5;34m5,380,200\u001b[0m (20.52 MB)\n"
            ],
            "text/html": [
              "<pre style=\"white-space:pre;overflow-x:auto;line-height:normal;font-family:Menlo,'DejaVu Sans Mono',consolas,'Courier New',monospace\"><span style=\"font-weight: bold\"> Trainable params: </span><span style=\"color: #00af00; text-decoration-color: #00af00\">5,380,200</span> (20.52 MB)\n",
              "</pre>\n"
            ]
          },
          "metadata": {}
        },
        {
          "output_type": "display_data",
          "data": {
            "text/plain": [
              "\u001b[1m Non-trainable params: \u001b[0m\u001b[38;5;34m0\u001b[0m (0.00 B)\n"
            ],
            "text/html": [
              "<pre style=\"white-space:pre;overflow-x:auto;line-height:normal;font-family:Menlo,'DejaVu Sans Mono',consolas,'Courier New',monospace\"><span style=\"font-weight: bold\"> Non-trainable params: </span><span style=\"color: #00af00; text-decoration-color: #00af00\">0</span> (0.00 B)\n",
              "</pre>\n"
            ]
          },
          "metadata": {}
        }
      ]
    },
    {
      "cell_type": "markdown",
      "source": [
        "Probando el modelo sin entrenar"
      ],
      "metadata": {
        "id": "xGyGPOJijP-3"
      },
      "id": "xGyGPOJijP-3"
    },
    {
      "cell_type": "code",
      "source": [
        "for input_example_batch, target_example_batch in dataset.take(1):\n",
        "    example_batch_predictions = model(input_example_batch)\n",
        "    print(example_batch_predictions.shape, \"# (batch_size, sequence_length, vocab_size)\")"
      ],
      "metadata": {
        "id": "x56o6umEjTFU",
        "outputId": "e52088d3-0f2d-492e-e2d2-53d3321c2ec4",
        "colab": {
          "base_uri": "https://localhost:8080/"
        }
      },
      "id": "x56o6umEjTFU",
      "execution_count": 37,
      "outputs": [
        {
          "output_type": "stream",
          "name": "stdout",
          "text": [
            "(64, 100, 104) # (batch_size, sequence_length, vocab_size)\n"
          ]
        }
      ]
    },
    {
      "cell_type": "code",
      "source": [
        "sampled_indices = tf.random.categorical(example_batch_predictions[0], num_samples=1)\n",
        "sampled_indices = tf.squeeze(sampled_indices, axis=-1).numpy()\n",
        "sampled_indices"
      ],
      "metadata": {
        "id": "t-l6tNMDjtD-",
        "outputId": "c0b25e1b-6155-4de0-cbf8-9f1b1fe1b27d",
        "colab": {
          "base_uri": "https://localhost:8080/"
        }
      },
      "id": "t-l6tNMDjtD-",
      "execution_count": 39,
      "outputs": [
        {
          "output_type": "execute_result",
          "data": {
            "text/plain": [
              "array([ 32,  26,   9,  12,  47,  77,  90,  99,  23,  44,   7,  41,  52,\n",
              "        25,  32,  59,  81,  78,   7,  68,  45,  88,  22,  79,  73,  10,\n",
              "        74,  98,  90,  11,  88,  87,  62,  19,  16,  21,  57,  51,   3,\n",
              "        85,  13,  76,  58,   1, 101,  78,  40,  98,  28,  22,  14,  20,\n",
              "        13,  49,  72, 102,  67,  64,   2,  82,  42,  51,  82,   1, 100,\n",
              "        32,  27,  96,  29,  95,  49,  77,  19,  61, 102,  36,  67,  19,\n",
              "        72,  41,  43,  16, 101,  47,   3,  84,  78,  81, 102,  73,  24,\n",
              "        73,  58,  94,  50,  30,  99,  40,  27,  56])"
            ]
          },
          "metadata": {},
          "execution_count": 39
        }
      ]
    },
    {
      "cell_type": "code",
      "source": [
        "print(\"Input:\\n\", text_from_ids(input_example_batch[0]).numpy())\n",
        "print()\n",
        "print(\"Next Char Predictions:\\n\", text_from_ids(sampled_indices).numpy())"
      ],
      "metadata": {
        "id": "mhPKkwORjxGx",
        "outputId": "726eb8f0-4816-41dd-be33-1b872dbeab2b",
        "colab": {
          "base_uri": "https://localhost:8080/"
        }
      },
      "id": "mhPKkwORjxGx",
      "execution_count": 40,
      "outputs": [
        {
          "output_type": "stream",
          "name": "stdout",
          "text": [
            "Input:\n",
            " b', se tendi\\xc3\\xb3 en sus enjalmas y se dio a esperar a su\\r\\npuntual\\xc3\\xadsima Maritornes. Ya estaba Sancho bizma'\n",
            "\n",
            "Next Char Predictions:\n",
            " b'C:(,Ru\\xc3\\x91\\xc3\\xb37O%LW9Ccyv%lP\\xc3\\x896wq)r\\xc3\\xb1\\xc3\\x91*\\xc3\\x89\\xc3\\x81f305aV \\xc2\\xbb-tb\\n\\xc3\\xbavK\\xc3\\xb1?6.4-Tp\\xc3\\xbckh\\rzMVz\\n\\xc3\\xb9C;\\xc3\\xad@\\xc3\\xa9Tu3e\\xc3\\xbcGk3pLN0\\xc3\\xbaR \\xc2\\xabvy\\xc3\\xbcq8qb\\xc3\\xa1UA\\xc3\\xb3K;]'\n"
          ]
        }
      ]
    },
    {
      "cell_type": "markdown",
      "source": [
        "## Entrenamiento"
      ],
      "metadata": {
        "id": "bA2QaLBwj7Zh"
      },
      "id": "bA2QaLBwj7Zh"
    },
    {
      "cell_type": "code",
      "source": [
        "loss = tf.losses.SparseCategoricalCrossentropy(from_logits=True)\n",
        "model.compile(optimizer='adam', loss=loss, metrics=['accuracy'])"
      ],
      "metadata": {
        "id": "ez31VmfHj9CG"
      },
      "id": "ez31VmfHj9CG",
      "execution_count": 42,
      "outputs": []
    },
    {
      "cell_type": "markdown",
      "source": [
        "Se configuran callbacks para  guardar checkpoints del modelo"
      ],
      "metadata": {
        "id": "WTCIRJQ6kFq3"
      },
      "id": "WTCIRJQ6kFq3"
    },
    {
      "cell_type": "code",
      "source": [
        "import os\n",
        "\n",
        "# Directory where the checkpoints will be saved\n",
        "checkpoint_dir = './training_checkpoints'\n",
        "# Name of the checkpoint files\n",
        "checkpoint_prefix = os.path.join(checkpoint_dir, \"ckpt_{epoch}.weights.h5\")\n",
        "\n",
        "checkpoint_callback = tf.keras.callbacks.ModelCheckpoint(\n",
        "    filepath=checkpoint_prefix,\n",
        "    save_weights_only=True)"
      ],
      "metadata": {
        "id": "DZvMnMwGkJRh"
      },
      "id": "DZvMnMwGkJRh",
      "execution_count": 45,
      "outputs": []
    },
    {
      "cell_type": "code",
      "source": [
        "EPOCHS = 20"
      ],
      "metadata": {
        "id": "yGwRcj8wkapE"
      },
      "id": "yGwRcj8wkapE",
      "execution_count": 46,
      "outputs": []
    },
    {
      "cell_type": "code",
      "source": [
        "history = model.fit(dataset, epochs=EPOCHS, callbacks=[checkpoint_callback])"
      ],
      "metadata": {
        "id": "llNsYOSWkcad",
        "outputId": "7b778544-92e8-4310-81f5-fb302f14c213",
        "colab": {
          "base_uri": "https://localhost:8080/"
        }
      },
      "id": "llNsYOSWkcad",
      "execution_count": 47,
      "outputs": [
        {
          "output_type": "stream",
          "name": "stdout",
          "text": [
            "Epoch 1/20\n",
            "\u001b[1m335/335\u001b[0m \u001b[32m━━━━━━━━━━━━━━━━━━━━\u001b[0m\u001b[37m\u001b[0m \u001b[1m32s\u001b[0m 74ms/step - accuracy: 0.2714 - loss: 2.6740\n",
            "Epoch 2/20\n",
            "\u001b[1m335/335\u001b[0m \u001b[32m━━━━━━━━━━━━━━━━━━━━\u001b[0m\u001b[37m\u001b[0m \u001b[1m27s\u001b[0m 75ms/step - accuracy: 0.4536 - loss: 1.7795\n",
            "Epoch 3/20\n",
            "\u001b[1m335/335\u001b[0m \u001b[32m━━━━━━━━━━━━━━━━━━━━\u001b[0m\u001b[37m\u001b[0m \u001b[1m42s\u001b[0m 76ms/step - accuracy: 0.5251 - loss: 1.5347\n",
            "Epoch 4/20\n",
            "\u001b[1m335/335\u001b[0m \u001b[32m━━━━━━━━━━━━━━━━━━━━\u001b[0m\u001b[37m\u001b[0m \u001b[1m41s\u001b[0m 76ms/step - accuracy: 0.5583 - loss: 1.4152\n",
            "Epoch 5/20\n",
            "\u001b[1m335/335\u001b[0m \u001b[32m━━━━━━━━━━━━━━━━━━━━\u001b[0m\u001b[37m\u001b[0m \u001b[1m27s\u001b[0m 75ms/step - accuracy: 0.5779 - loss: 1.3427\n",
            "Epoch 6/20\n",
            "\u001b[1m335/335\u001b[0m \u001b[32m━━━━━━━━━━━━━━━━━━━━\u001b[0m\u001b[37m\u001b[0m \u001b[1m27s\u001b[0m 75ms/step - accuracy: 0.5917 - loss: 1.2935\n",
            "Epoch 7/20\n",
            "\u001b[1m335/335\u001b[0m \u001b[32m━━━━━━━━━━━━━━━━━━━━\u001b[0m\u001b[37m\u001b[0m \u001b[1m42s\u001b[0m 75ms/step - accuracy: 0.6016 - loss: 1.2561\n",
            "Epoch 8/20\n",
            "\u001b[1m335/335\u001b[0m \u001b[32m━━━━━━━━━━━━━━━━━━━━\u001b[0m\u001b[37m\u001b[0m \u001b[1m27s\u001b[0m 76ms/step - accuracy: 0.6098 - loss: 1.2261\n",
            "Epoch 9/20\n",
            "\u001b[1m335/335\u001b[0m \u001b[32m━━━━━━━━━━━━━━━━━━━━\u001b[0m\u001b[37m\u001b[0m \u001b[1m27s\u001b[0m 75ms/step - accuracy: 0.6177 - loss: 1.1984\n",
            "Epoch 10/20\n",
            "\u001b[1m335/335\u001b[0m \u001b[32m━━━━━━━━━━━━━━━━━━━━\u001b[0m\u001b[37m\u001b[0m \u001b[1m41s\u001b[0m 75ms/step - accuracy: 0.6246 - loss: 1.1751\n",
            "Epoch 11/20\n",
            "\u001b[1m335/335\u001b[0m \u001b[32m━━━━━━━━━━━━━━━━━━━━\u001b[0m\u001b[37m\u001b[0m \u001b[1m41s\u001b[0m 76ms/step - accuracy: 0.6316 - loss: 1.1506\n",
            "Epoch 12/20\n",
            "\u001b[1m335/335\u001b[0m \u001b[32m━━━━━━━━━━━━━━━━━━━━\u001b[0m\u001b[37m\u001b[0m \u001b[1m41s\u001b[0m 75ms/step - accuracy: 0.6370 - loss: 1.1310\n",
            "Epoch 13/20\n",
            "\u001b[1m335/335\u001b[0m \u001b[32m━━━━━━━━━━━━━━━━━━━━\u001b[0m\u001b[37m\u001b[0m \u001b[1m42s\u001b[0m 75ms/step - accuracy: 0.6440 - loss: 1.1084\n",
            "Epoch 14/20\n",
            "\u001b[1m335/335\u001b[0m \u001b[32m━━━━━━━━━━━━━━━━━━━━\u001b[0m\u001b[37m\u001b[0m \u001b[1m27s\u001b[0m 76ms/step - accuracy: 0.6488 - loss: 1.0905\n",
            "Epoch 15/20\n",
            "\u001b[1m335/335\u001b[0m \u001b[32m━━━━━━━━━━━━━━━━━━━━\u001b[0m\u001b[37m\u001b[0m \u001b[1m27s\u001b[0m 75ms/step - accuracy: 0.6552 - loss: 1.0702\n",
            "Epoch 16/20\n",
            "\u001b[1m335/335\u001b[0m \u001b[32m━━━━━━━━━━━━━━━━━━━━\u001b[0m\u001b[37m\u001b[0m \u001b[1m27s\u001b[0m 75ms/step - accuracy: 0.6619 - loss: 1.0488\n",
            "Epoch 17/20\n",
            "\u001b[1m335/335\u001b[0m \u001b[32m━━━━━━━━━━━━━━━━━━━━\u001b[0m\u001b[37m\u001b[0m \u001b[1m27s\u001b[0m 75ms/step - accuracy: 0.6677 - loss: 1.0290\n",
            "Epoch 18/20\n",
            "\u001b[1m335/335\u001b[0m \u001b[32m━━━━━━━━━━━━━━━━━━━━\u001b[0m\u001b[37m\u001b[0m \u001b[1m27s\u001b[0m 75ms/step - accuracy: 0.6742 - loss: 1.0082\n",
            "Epoch 19/20\n",
            "\u001b[1m335/335\u001b[0m \u001b[32m━━━━━━━━━━━━━━━━━━━━\u001b[0m\u001b[37m\u001b[0m \u001b[1m41s\u001b[0m 75ms/step - accuracy: 0.6797 - loss: 0.9900\n",
            "Epoch 20/20\n",
            "\u001b[1m335/335\u001b[0m \u001b[32m━━━━━━━━━━━━━━━━━━━━\u001b[0m\u001b[37m\u001b[0m \u001b[1m27s\u001b[0m 76ms/step - accuracy: 0.6861 - loss: 0.9686\n"
          ]
        }
      ]
    },
    {
      "cell_type": "code",
      "source": [
        "# prompt: code to plot the training loss and accuracy in separate plots and with grid\n",
        "\n",
        "import matplotlib.pyplot as plt\n",
        "\n",
        "# Assuming 'history' is the object returned by model.fit\n",
        "plt.figure(figsize=(10, 5))\n",
        "plt.plot(history.history['loss'])\n",
        "plt.title('Training Loss')\n",
        "plt.xlabel('Epoch')\n",
        "plt.ylabel('Loss')\n",
        "plt.grid(True)\n",
        "plt.show()\n",
        "\n",
        "plt.figure(figsize=(10, 5))\n",
        "plt.plot(history.history['accuracy'])\n",
        "plt.title('Training Accuracy')\n",
        "plt.xlabel('Epoch')\n",
        "plt.ylabel('Accuracy')\n",
        "plt.grid(True)\n",
        "plt.show()"
      ],
      "metadata": {
        "id": "2pUIz5ONm8nh",
        "outputId": "0ce42e1f-d6fb-4f9c-db3a-df8fe624361d",
        "colab": {
          "base_uri": "https://localhost:8080/",
          "height": 957
        }
      },
      "id": "2pUIz5ONm8nh",
      "execution_count": 49,
      "outputs": [
        {
          "output_type": "display_data",
          "data": {
            "text/plain": [
              "<Figure size 1000x500 with 1 Axes>"
            ],
            "image/png": "[encoded data removed]"
          },
          "metadata": {}
        },
        {
          "output_type": "display_data",
          "data": {
            "text/plain": [
              "<Figure size 1000x500 with 1 Axes>"
            ],
            "image/png": "[encoded data removed]"
          },
          "metadata": {}
        }
      ]
    },
    {
      "cell_type": "raw",
      "id": "4d2f8717",
      "metadata": {
        "papermill": {
          "duration": 0.004196,
          "end_time": "2024-11-18T21:10:06.165429",
          "exception": false,
          "start_time": "2024-11-18T21:10:06.161233",
          "status": "completed"
        },
        "tags": [],
        "id": "4d2f8717"
      },
      "source": [
        "Crear batches"
      ]
    },
    {
      "cell_type": "markdown",
      "id": "26a9ae13",
      "metadata": {
        "papermill": {
          "duration": 0.003993,
          "end_time": "2024-11-18T21:10:06.192838",
          "exception": false,
          "start_time": "2024-11-18T21:10:06.188845",
          "status": "completed"
        },
        "tags": [],
        "id": "26a9ae13"
      },
      "source": [
        "Modelo"
      ]
    },
    {
      "cell_type": "markdown",
      "id": "3951dbf4",
      "metadata": {
        "papermill": {
          "duration": 0.154072,
          "end_time": "2024-11-18T21:14:39.546860",
          "exception": false,
          "start_time": "2024-11-18T21:14:39.392788",
          "status": "completed"
        },
        "tags": [],
        "id": "3951dbf4"
      },
      "source": [
        "Generar Texto"
      ]
    },
    {
      "cell_type": "code",
      "source": [
        "import tensorflow as tf\n",
        "\n",
        "def pad_to_seq_length(input_ids):\n",
        "  \"\"\"Pads the input sequence to length 100 with zeros.\n",
        "\n",
        "  Args:\n",
        "    input_ids: The input sequence as a 1D tensor.\n",
        "\n",
        "  Returns:\n",
        "    A padded sequence with shape (1, 100).\n",
        "  \"\"\"\n",
        "  # Calculate the padding length\n",
        "  padding_length = 100 - tf.shape(input_ids)[0]\n",
        "\n",
        "  # If padding is needed, pad with zeros\n",
        "  if padding_length > 0:\n",
        "    padding = tf.zeros([padding_length], dtype=input_ids.dtype)\n",
        "    padded_input_ids = tf.concat([input_ids, padding], axis=0)\n",
        "  else:\n",
        "    padded_input_ids = input_ids\n",
        "\n",
        "  # Reshape to (1, 100) for the model\n",
        "  return tf.reshape(padded_input_ids, [1, 100])\n",
        "\n",
        "\n",
        "start_string = \"el ingenioso hidalgo don quijote de la mancha\"\n",
        "input_ids = char_to_index(tf.strings.unicode_split(start_string, 'UTF-8'))\n",
        "\n",
        "# Pad the input_ids\n",
        "input_ids = pad_to_seq_length(input_ids)\n",
        "\n",
        "# Now input_ids should have shape (1, 100)\n",
        "y = model(input_ids)"
      ],
      "metadata": {
        "id": "nHe769eopFzZ"
      },
      "id": "nHe769eopFzZ",
      "execution_count": 88,
      "outputs": []
    },
    {
      "cell_type": "code",
      "source": [
        "y = tf.random.categorical(y[0], num_samples=1)\n",
        "y = tf.squeeze(y, axis=-1).numpy()\n",
        "y"
      ],
      "metadata": {
        "id": "Kp4RjNRhu8ih",
        "outputId": "cea9a5da-8d59-4c46-c4bd-049f987ab475",
        "colab": {
          "base_uri": "https://localhost:8080/"
        }
      },
      "id": "Kp4RjNRhu8ih",
      "execution_count": 89,
      "outputs": [
        {
          "output_type": "execute_result",
          "data": {
            "text/plain": [
              "array([74,  3, 59, 70, 57, 61, 70, 65, 71, 75, 71,  3, 61, 65, 60, 57, 68,\n",
              "       63, 71,  3, 61, 71, 70,  3, 46, 77, 65, 61, 71, 76, 61,  3, 68, 61,\n",
              "        3, 68, 57,  3, 42, 57, 68, 71, 64, 57, 63, 60, 14,  2,  3,  2, 57,\n",
              "        2, 12, 74, 10, 74, 71, 75, 12, 12,  3,  9, 72, 12, 16, 63, 15, 63,\n",
              "       16, 76, 63,  2, 61, 61, 12,  2, 12,  2, 61,  2, 61,  3,  2,  3,  3,\n",
              "        2, 61,  2, 61,  2,  3, 13, 48, 13,  3, 54, 34, 61, 61,  9])"
            ]
          },
          "metadata": {},
          "execution_count": 89
        }
      ]
    },
    {
      "cell_type": "code",
      "source": [
        "y.shape"
      ],
      "metadata": {
        "id": "-aiTbtY2w5WG",
        "outputId": "42e0d20c-9873-4f9a-f6c3-f249337b9787",
        "colab": {
          "base_uri": "https://localhost:8080/"
        }
      },
      "id": "-aiTbtY2w5WG",
      "execution_count": 99,
      "outputs": [
        {
          "output_type": "execute_result",
          "data": {
            "text/plain": [
              "(100,)"
            ]
          },
          "metadata": {},
          "execution_count": 99
        }
      ]
    },
    {
      "cell_type": "code",
      "source": [
        "text_from_ids(y).numpy()"
      ],
      "metadata": {
        "id": "wKRDvU8OvyZa",
        "outputId": "a51fa12a-f33a-461b-b486-07a800854ad9",
        "colab": {
          "base_uri": "https://localhost:8080/"
        }
      },
      "id": "wKRDvU8OvyZa",
      "execution_count": 95,
      "outputs": [
        {
          "output_type": "execute_result",
          "data": {
            "text/plain": [
              "b'r cnaenioso eidalgo eon Quieote le la Malohagd.\\r \\ra\\r,r)ros,, (p,0g/g0tg\\ree,\\r,\\re\\re \\r  \\re\\re\\r -S- YEee('"
            ]
          },
          "metadata": {},
          "execution_count": 95
        }
      ]
    },
    {
      "cell_type": "code",
      "source": [
        "print(text_from_ids(y).numpy())"
      ],
      "metadata": {
        "id": "CoL11X3hvZP0",
        "outputId": "3d21bdc1-3526-4b6c-aea9-95300d571a67",
        "colab": {
          "base_uri": "https://localhost:8080/"
        }
      },
      "id": "CoL11X3hvZP0",
      "execution_count": 92,
      "outputs": [
        {
          "output_type": "stream",
          "name": "stdout",
          "text": [
            "b'r cnaenioso eidalgo eon Quieote le la Malohagd.\\r \\ra\\r,r)ros,, (p,0g/g0tg\\ree,\\r,\\re\\re \\r  \\re\\re\\r -S- YEee('\n"
          ]
        }
      ]
    },
    {
      "cell_type": "code",
      "source": [
        "def generate_text(model, start_string, num_generate=10, temperature=1.0):\n",
        "    input_ids = char_to_index(tf.strings.unicode_split(start_string, 'UTF-8'))\n",
        "    input_ids = pad_to_seq_length(input_ids)  # Pad to sequence length\n",
        "\n",
        "    text_generated = []\n",
        "\n",
        "    for i in range(num_generate):\n",
        "        # Get prediction for the next character\n",
        "        predictions = model(input_ids)\n",
        "\n",
        "        # Apply temperature for randomness\n",
        "        predictions = predictions / temperature\n",
        "\n",
        "        # Get the predicted character index\n",
        "        predicted_id = tf.random.categorical(predictions[0, -1:, :], num_samples=1)[-1, 0].numpy()\n",
        "\n",
        "        # Convert predicted index back to character\n",
        "        predicted_char = index_to_char(predicted_id).numpy().decode('utf-8')\n",
        "\n",
        "        # Append predicted character to generated text\n",
        "        text_generated.append(predicted_char)\n",
        "\n",
        "        # Slide the input window: Remove the first character and add the predicted one\n",
        "        input_ids = tf.concat([input_ids[:, 1:], tf.reshape(predicted_id, [1, 1])], axis=1)\n",
        "\n",
        "    return start_string + ''.join(text_generated)"
      ],
      "metadata": {
        "id": "_Zo4gNXTyAFC"
      },
      "id": "_Zo4gNXTyAFC",
      "execution_count": 100,
      "outputs": []
    },
    {
      "cell_type": "code",
      "source": [
        "print(generate_text(model, start_string=\"Sancho\", temperature=0.5, num_generate=200))"
      ],
      "metadata": {
        "id": "jqd1TbERyEIj",
        "outputId": "fb0ec6fd-a01d-4046-984f-50cf77f7ae63",
        "colab": {
          "base_uri": "https://localhost:8080/"
        }
      },
      "id": "jqd1TbERyEIj",
      "execution_count": 117,
      "outputs": [
        {
          "output_type": "stream",
          "name": "stdout",
          "text": [
            "Sancho, A LAPENT\r\n",
            "LIALINY, ACHIANTE\r\n",
            "\r\n",
            "Soneto\r\n",
            "\r\n",
            "El caballero andante y se llamó a la mano el duque y la duquesa, y la cabeza a\r\n",
            "la ventana y el labrador le avisase de su aldea, y así, por no dejar de la\r\n",
            "p\n"
          ]
        }
      ]
    },
    {
      "cell_type": "markdown",
      "source": [
        "A momentos se obtienen predicciones coherentes. Pero en otros casos se obtiene predicciones extravagantes y en inglés. Esto sugiere que se debe remover el texto en inglés del libro ya que lo afecta. Posiblemente. Esto no se nota al usar datasets como el de Shakespear"
      ],
      "metadata": {
        "id": "-l_JkfvXzxS_"
      },
      "id": "-l_JkfvXzxS_"
    }
  ],
  "metadata": {
    "accelerator": "GPU",
    "colab": {
      "gpuType": "T4",
      "provenance": [],
      "toc_visible": true,
      "include_colab_link": true
    },
    "kaggle": {
      "accelerator": "nvidiaTeslaT4",
      "dataSources": [
        {
          "sourceId": 119408755,
          "sourceType": "kernelVersion"
        }
      ],
      "dockerImageVersionId": 30787,
      "isGpuEnabled": true,
      "isInternetEnabled": true,
      "language": "python",
      "sourceType": "notebook"
    },
    "kernelspec": {
      "display_name": "Python 3",
      "language": "python",
      "name": "python3"
    },
    "language_info": {
      "codemirror_mode": {
        "name": "ipython",
        "version": 3
      },
      "file_extension": ".py",
      "mimetype": "text/x-python",
      "name": "python",
      "nbconvert_exporter": "python",
      "pygments_lexer": "ipython3",
      "version": "3.10.14"
    },
    "papermill": {
      "default_parameters": {},
      "duration": 299.73746,
      "end_time": "2024-11-18T21:14:44.817101",
      "environment_variables": {},
      "exception": null,
      "input_path": "__notebook__.ipynb",
      "output_path": "__notebook__.ipynb",
      "parameters": {},
      "start_time": "2024-11-18T21:09:45.079641",
      "version": "2.6.0"
    }
  },
  "nbformat": 4,
  "nbformat_minor": 5
}