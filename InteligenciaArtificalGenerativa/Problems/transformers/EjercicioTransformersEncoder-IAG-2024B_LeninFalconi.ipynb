{
 "cells": [
  {
   "cell_type": "markdown",
   "id": "95db9fd6",
   "metadata": {
    "id": "view-in-github",
    "papermill": {
     "duration": 0.002549,
     "end_time": "2024-12-04T20:02:41.181854",
     "exception": false,
     "start_time": "2024-12-04T20:02:41.179305",
     "status": "completed"
    },
    "tags": []
   },
   "source": [
    "<a href=\"https://colab.research.google.com/github/LeninGF/CoursesNotes/blob/main/InteligenciaArtificalGenerativa/Problems/LSTM-GRU/EjercicioEmbeddingLSTM-GRU-IAG-2024B_LeninFalconi.ipynb\" target=\"_parent\"><img src=\"https://colab.research.google.com/assets/colab-badge.svg\" alt=\"Open In Colab\"/></a>"
   ]
  },
  {
   "cell_type": "markdown",
   "id": "5f32028e",
   "metadata": {
    "id": "j_meEkMh7c8P",
    "papermill": {
     "duration": 0.001948,
     "end_time": "2024-12-04T20:02:41.186222",
     "exception": false,
     "start_time": "2024-12-04T20:02:41.184274",
     "status": "completed"
    },
    "tags": []
   },
   "source": [
    "# Transformers Encoder\n",
    "\n",
    "\n",
    "\n",
    "Coder: Lenin G. Falconí\n",
    "\n",
    "\n",
    "\n",
    "Asignatura: Tópicos Especiales (Inteligencia Artificial)\n",
    "\n",
    "\n",
    "\n",
    "Fecha: 2024-12-02"
   ]
  },
  {
   "cell_type": "markdown",
   "id": "9972e5f1",
   "metadata": {
    "papermill": {
     "duration": 0.001771,
     "end_time": "2024-12-04T20:02:41.190006",
     "exception": false,
     "start_time": "2024-12-04T20:02:41.188235",
     "status": "completed"
    },
    "tags": []
   },
   "source": [
    "## Transformer Encoder\n",
    "- https://www.datacamp.com/tutorial/building-a-transformer-with-py-torch\n",
    "- https://campus.datacamp.com/es/courses/introduction-to-llms-in-python/building-a-transformer-architecture?ex=15\n"
   ]
  },
  {
   "cell_type": "code",
   "execution_count": 1,
   "id": "a903f88d",
   "metadata": {
    "execution": {
     "iopub.execute_input": "2024-12-04T20:02:41.194886Z",
     "iopub.status.busy": "2024-12-04T20:02:41.194604Z",
     "iopub.status.idle": "2024-12-04T20:02:44.080400Z",
     "shell.execute_reply": "2024-12-04T20:02:44.079272Z"
    },
    "papermill": {
     "duration": 2.89072,
     "end_time": "2024-12-04T20:02:44.082652",
     "exception": false,
     "start_time": "2024-12-04T20:02:41.191932",
     "status": "completed"
    },
    "tags": []
   },
   "outputs": [],
   "source": [
    "import torch\n",
    "import torch.nn as nn\n",
    "import torch.optim as optim\n",
    "import torch.utils.data as data\n",
    "import math\n",
    "import copy"
   ]
  },
  {
   "cell_type": "markdown",
   "id": "f3ef16ce",
   "metadata": {
    "papermill": {
     "duration": 0.001832,
     "end_time": "2024-12-04T20:02:44.087862",
     "exception": false,
     "start_time": "2024-12-04T20:02:44.086030",
     "status": "completed"
    },
    "tags": []
   },
   "source": [
    "## Transformer Decoder"
   ]
  },
  {
   "cell_type": "code",
   "execution_count": 2,
   "id": "0d04d934",
   "metadata": {
    "execution": {
     "iopub.execute_input": "2024-12-04T20:02:44.092834Z",
     "iopub.status.busy": "2024-12-04T20:02:44.092524Z",
     "iopub.status.idle": "2024-12-04T20:02:44.099151Z",
     "shell.execute_reply": "2024-12-04T20:02:44.098473Z"
    },
    "papermill": {
     "duration": 0.01097,
     "end_time": "2024-12-04T20:02:44.100716",
     "exception": false,
     "start_time": "2024-12-04T20:02:44.089746",
     "status": "completed"
    },
    "tags": []
   },
   "outputs": [],
   "source": [
    "import torch\n",
    "import torch.nn as nn\n",
    "import torch.nn.functional as F\n",
    "\n",
    "class PositionalEncoding(nn.Module):\n",
    "    def __init__(self, d_model, max_len=5000):\n",
    "        super(PositionalEncoding, self).__init__()\n",
    "        pe = torch.zeros(max_len, d_model)\n",
    "        position = torch.arange(0, max_len, dtype=torch.float).unsqueeze(1)\n",
    "        div_term = torch.exp(torch.arange(0, d_model, 2).float() * -(torch.log(torch.tensor(10000.0)) / d_model))\n",
    "        pe[:, 0::2] = torch.sin(position * div_term)\n",
    "        pe[:, 1::2] = torch.cos(position * div_term)\n",
    "        pe = pe.unsqueeze(0).transpose(0, 1)\n",
    "        self.register_buffer('pe', pe)\n",
    "\n",
    "    def forward(self, x):\n",
    "        x = x + self.pe[:x.size(0), :]\n",
    "        return x\n",
    "\n"
   ]
  },
  {
   "cell_type": "code",
   "execution_count": 3,
   "id": "785f4e31",
   "metadata": {
    "execution": {
     "iopub.execute_input": "2024-12-04T20:02:44.105885Z",
     "iopub.status.busy": "2024-12-04T20:02:44.105667Z",
     "iopub.status.idle": "2024-12-04T20:02:44.112270Z",
     "shell.execute_reply": "2024-12-04T20:02:44.111521Z"
    },
    "papermill": {
     "duration": 0.010884,
     "end_time": "2024-12-04T20:02:44.113751",
     "exception": false,
     "start_time": "2024-12-04T20:02:44.102867",
     "status": "completed"
    },
    "tags": []
   },
   "outputs": [],
   "source": [
    "class DecoderLayer(nn.Module):\n",
    "    def __init__(self, d_model, nhead, dim_feedforward=2048, dropout=0.1):\n",
    "        super(DecoderLayer, self).__init__()\n",
    "        self.self_attn = nn.MultiheadAttention(d_model, nhead, dropout=dropout)\n",
    "        self.multihead_attn = nn.MultiheadAttention(d_model, nhead, dropout=dropout)\n",
    "        self.linear1 = nn.Linear(d_model, dim_feedforward)\n",
    "        self.dropout = nn.Dropout(dropout)\n",
    "        self.linear2 = nn.Linear(dim_feedforward, d_model)\n",
    "        self.norm1 = nn.LayerNorm(d_model)\n",
    "        self.norm2 = nn.LayerNorm(d_model)\n",
    "        self.norm3 = nn.LayerNorm(d_model)\n",
    "        self.dropout1 = nn.Dropout(dropout)\n",
    "        self.dropout2 = nn.Dropout(dropout)\n",
    "        self.dropout3 = nn.Dropout(dropout)\n",
    "\n",
    "    def forward(self, tgt, memory):\n",
    "        tgt2 = self.self_attn(tgt, tgt, tgt)[0]\n",
    "        tgt = tgt + self.dropout1(tgt2)\n",
    "        tgt = self.norm1(tgt)\n",
    "        tgt2 = self.multihead_attn(tgt, memory, memory)[0]\n",
    "        tgt = tgt + self.dropout2(tgt2)\n",
    "        tgt = self.norm2(tgt)\n",
    "        tgt2 = self.linear2(self.dropout(F.relu(self.linear1(tgt))))\n",
    "        tgt = tgt + self.dropout3(tgt2)\n",
    "        tgt = self.norm3(tgt)\n",
    "        return tgt\n",
    "\n"
   ]
  },
  {
   "cell_type": "code",
   "execution_count": 4,
   "id": "06a3e07d",
   "metadata": {
    "execution": {
     "iopub.execute_input": "2024-12-04T20:02:44.118840Z",
     "iopub.status.busy": "2024-12-04T20:02:44.118601Z",
     "iopub.status.idle": "2024-12-04T20:02:44.123756Z",
     "shell.execute_reply": "2024-12-04T20:02:44.122967Z"
    },
    "papermill": {
     "duration": 0.009681,
     "end_time": "2024-12-04T20:02:44.125505",
     "exception": false,
     "start_time": "2024-12-04T20:02:44.115824",
     "status": "completed"
    },
    "tags": []
   },
   "outputs": [],
   "source": [
    "class Decoder(nn.Module):\n",
    "    def __init__(self, d_model, nhead, num_layers, dim_feedforward=2048, dropout=0.1):\n",
    "        super(Decoder, self).__init__()\n",
    "        self.layers = nn.ModuleList([DecoderLayer(d_model, nhead, dim_feedforward, dropout) for _ in range(num_layers)])\n",
    "        self.norm = nn.LayerNorm(d_model)\n",
    "        self.pe = PositionalEncoding(d_model)\n",
    "\n",
    "    def forward(self, tgt, memory):\n",
    "        tgt = self.pe(tgt)\n",
    "        for layer in self.layers:\n",
    "            tgt = layer(tgt, memory)\n",
    "        tgt = self.norm(tgt)\n",
    "        return tgt\n",
    "\n"
   ]
  },
  {
   "cell_type": "code",
   "execution_count": 5,
   "id": "0db1aa3d",
   "metadata": {
    "execution": {
     "iopub.execute_input": "2024-12-04T20:02:44.130278Z",
     "iopub.status.busy": "2024-12-04T20:02:44.129997Z",
     "iopub.status.idle": "2024-12-04T20:02:44.818542Z",
     "shell.execute_reply": "2024-12-04T20:02:44.817093Z"
    },
    "papermill": {
     "duration": 0.692984,
     "end_time": "2024-12-04T20:02:44.820409",
     "exception": false,
     "start_time": "2024-12-04T20:02:44.127425",
     "status": "completed"
    },
    "tags": []
   },
   "outputs": [
    {
     "name": "stdout",
     "output_type": "stream",
     "text": [
      "torch.Size([20, 32, 512])\n"
     ]
    }
   ],
   "source": [
    "# Example usage\n",
    "d_model = 512\n",
    "nhead = 8\n",
    "num_layers = 6\n",
    "decoder = Decoder(d_model, nhead, num_layers)\n",
    "memory = torch.rand(10, 32, d_model)\n",
    "tgt = torch.rand(20, 32, d_model)\n",
    "output = decoder(tgt, memory)\n",
    "print(output.shape)\n"
   ]
  }
 ],
 "metadata": {
  "accelerator": "GPU",
  "colab": {
   "gpuType": "T4",
   "include_colab_link": true,
   "provenance": [],
   "toc_visible": true
  },
  "kaggle": {
   "accelerator": "gpu",
   "dataSources": [
    {
     "sourceId": 119408755,
     "sourceType": "kernelVersion"
    }
   ],
   "dockerImageVersionId": 30805,
   "isGpuEnabled": true,
   "isInternetEnabled": true,
   "language": "python",
   "sourceType": "notebook"
  },
  "kernelspec": {
   "display_name": "Python 3",
   "language": "python",
   "name": "python3"
  },
  "language_info": {
   "codemirror_mode": {
    "name": "ipython",
    "version": 3
   },
   "file_extension": ".py",
   "mimetype": "text/x-python",
   "name": "python",
   "nbconvert_exporter": "python",
   "pygments_lexer": "ipython3",
   "version": "3.10.14"
  },
  "papermill": {
   "default_parameters": {},
   "duration": 6.896552,
   "end_time": "2024-12-04T20:02:45.742633",
   "environment_variables": {},
   "exception": null,
   "input_path": "__notebook__.ipynb",
   "output_path": "__notebook__.ipynb",
   "parameters": {},
   "start_time": "2024-12-04T20:02:38.846081",
   "version": "2.6.0"
  }
 },
 "nbformat": 4,
 "nbformat_minor": 5
}
