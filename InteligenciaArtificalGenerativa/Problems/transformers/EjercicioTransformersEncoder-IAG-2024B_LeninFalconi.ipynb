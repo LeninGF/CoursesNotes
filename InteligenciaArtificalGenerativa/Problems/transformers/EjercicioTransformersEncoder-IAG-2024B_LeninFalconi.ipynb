{
 "cells": [
  {
   "cell_type": "markdown",
   "id": "01f58154",
   "metadata": {
    "id": "view-in-github",
    "papermill": {
     "duration": 0.00397,
     "end_time": "2024-11-18T21:09:47.473623",
     "exception": false,
     "start_time": "2024-11-18T21:09:47.469653",
     "status": "completed"
    },
    "tags": []
   },
   "source": [
    "<a href=\"https://colab.research.google.com/github/LeninGF/CoursesNotes/blob/main/InteligenciaArtificalGenerativa/Problems/LSTM-GRU/EjercicioEmbeddingLSTM-GRU-IAG-2024B_LeninFalconi.ipynb\" target=\"_parent\"><img src=\"https://colab.research.google.com/assets/colab-badge.svg\" alt=\"Open In Colab\"/></a>"
   ]
  },
  {
   "cell_type": "markdown",
   "id": "df781228",
   "metadata": {
    "id": "j_meEkMh7c8P",
    "papermill": {
     "duration": 0.003129,
     "end_time": "2024-11-18T21:09:47.480189",
     "exception": false,
     "start_time": "2024-11-18T21:09:47.477060",
     "status": "completed"
    },
    "tags": []
   },
   "source": [
    "# Transformers Encoder\n",
    "\n",
    "Coder: Lenin G. Falconí\n",
    "\n",
    "Asignatura: Tópicos Especiales (Inteligencia Artificial)\n",
    "\n",
    "Fecha: 2024-12-02"
   ]
  },
  {
   "cell_type": "code",
   "execution_count": null,
   "id": "6b70e67c",
   "metadata": {},
   "outputs": [],
   "source": []
  }
 ],
 "metadata": {
  "accelerator": "GPU",
  "colab": {
   "gpuType": "T4",
   "include_colab_link": true,
   "provenance": [],
   "toc_visible": true
  },
  "kaggle": {
   "accelerator": "nvidiaTeslaT4",
   "dataSources": [
    {
     "sourceId": 119408755,
     "sourceType": "kernelVersion"
    }
   ],
   "dockerImageVersionId": 30787,
   "isGpuEnabled": true,
   "isInternetEnabled": true,
   "language": "python",
   "sourceType": "notebook"
  },
  "kernelspec": {
   "display_name": "LLMs",
   "language": "python",
   "name": "python3"
  },
  "language_info": {
   "codemirror_mode": {
    "name": "ipython",
    "version": 3
   },
   "file_extension": ".py",
   "mimetype": "text/x-python",
   "name": "python",
   "nbconvert_exporter": "python",
   "pygments_lexer": "ipython3",
   "version": "3.12.6"
  },
  "papermill": {
   "default_parameters": {},
   "duration": 299.73746,
   "end_time": "2024-11-18T21:14:44.817101",
   "environment_variables": {},
   "exception": null,
   "input_path": "__notebook__.ipynb",
   "output_path": "__notebook__.ipynb",
   "parameters": {},
   "start_time": "2024-11-18T21:09:45.079641",
   "version": "2.6.0"
  }
 },
 "nbformat": 4,
 "nbformat_minor": 5
}
