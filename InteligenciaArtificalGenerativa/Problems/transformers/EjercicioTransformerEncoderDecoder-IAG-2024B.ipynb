{
  "cells": [
    {
      "cell_type": "markdown",
      "metadata": {
        "id": "view-in-github",
        "colab_type": "text"
      },
      "source": [
        "<a href=\"https://colab.research.google.com/github/LeninGF/CoursesNotes/blob/main/InteligenciaArtificalGenerativa/Problems/transformers/EjercicioTransformerEncoderDecoder-IAG-2024B.ipynb\" target=\"_parent\"><img src=\"https://colab.research.google.com/assets/colab-badge.svg\" alt=\"Open In Colab\"/></a>"
      ]
    },
    {
      "cell_type": "markdown",
      "id": "5f32028e",
      "metadata": {
        "id": "5f32028e",
        "papermill": {
          "duration": 0.001948,
          "end_time": "2024-12-04T20:02:41.186222",
          "exception": false,
          "start_time": "2024-12-04T20:02:41.184274",
          "status": "completed"
        },
        "tags": []
      },
      "source": [
        "# Transformer Encoder Decoder\n",
        "\n",
        "\n",
        "\n",
        "Coder: Lenin G. Falconí\n",
        "\n",
        "\n",
        "\n",
        "Asignatura: Tópicos Especiales (Inteligencia Artificial)\n",
        "\n",
        "\n",
        "\n",
        "Fecha: 2024-12-11"
      ]
    },
    {
      "cell_type": "markdown",
      "source": [
        "Para realizar un transformer Encoder Decoder se requiere de cross attention para conectar las capas de encoder a las de decoder:\n",
        "\n",
        "1. Embedding Layer\n",
        "2. Positional Encoding\n",
        "3. Pila de capas de Encoder\n",
        "3. Cross Attention\n",
        "3. Pila de capas de Decoder\n",
        "4. La salida que sería un sequence to sequence"
      ],
      "metadata": {
        "id": "XbBuXn88Xo5H"
      },
      "id": "XbBuXn88Xo5H"
    },
    {
      "cell_type": "code",
      "source": [
        "import torch\n",
        "import torch.nn as nn\n",
        "import torch.optim as optim\n",
        "import torch.utils.data as data\n",
        "import math\n",
        "import copy"
      ],
      "metadata": {
        "id": "X59gz0VMX41c"
      },
      "id": "X59gz0VMX41c",
      "execution_count": 2,
      "outputs": []
    },
    {
      "cell_type": "markdown",
      "source": [
        "### MultiHead attention\n",
        " the MultiHeadAttention class encapsulates the multi-head attention mechanism commonly used in transformer models. It takes care of splitting the input into multiple attention heads, applying attention to each head, and then combining the results. By doing so, the model can capture various relationships in the input data at different scales, improving the expressive ability of the model.\n",
        "`scaled_dot_product_attention`: the attention scores are calculated by taking the dot product of queries (Q) and keys (K), and then scaling by the square root of the key dimension (d_k).\n",
        "\n",
        "`attn_scores = torch.matmul(Q, K.transpose(-2, -1)) / math.sqrt(self.d_k)`\n",
        "\n",
        "`split_heads`: This method reshapes the input x into the shape (batch_size, num_heads, seq_length, d_k). It enables the model to process multiple attention heads concurrently, allowing for parallel computation.\n",
        "\n",
        "`combine_heads`: combines the results back into a single tensor of shape (batch_size, seq_length, d_model)\n",
        "\n",
        "`forward`: The forward method is where the actual computation happens:"
      ],
      "metadata": {
        "id": "11qGlN6Iau4-"
      },
      "id": "11qGlN6Iau4-"
    },
    {
      "cell_type": "code",
      "source": [
        "class MultiHeadAttention(nn.Module):\n",
        "  \"\"\"\n",
        "  d_model: Dimensionality of the input.\n",
        "  num_heads: The number of attention heads to split the input into.\n",
        "  d_model is divisible by num_heads\n",
        "\n",
        "  \"\"\"\n",
        "  def __init__(self, d_model, num_heads):\n",
        "    super(MultiHeadAttention, self).__init__()\n",
        "    # Ensure that the model dimension (d_model) is divisible by the number of heads\n",
        "    assert d_model % num_heads == 0, \"d_model must be divisible by num_heads\"\n",
        "\n",
        "    # Initialize dimensions\n",
        "    self.d_model = d_model # Model's dimension\n",
        "    self.num_heads = num_heads # Number of attention heads\n",
        "    self.d_k = d_model // num_heads # Dimension of each head's key, query, and value\n",
        "\n",
        "    # Linear layers for transforming inputs\n",
        "    self.W_q = nn.Linear(d_model, d_model) # Query transformation\n",
        "    self.W_k = nn.Linear(d_model, d_model) # Key transformation\n",
        "    self.W_v = nn.Linear(d_model, d_model) # Value transformation\n",
        "    self.W_o = nn.Linear(d_model, d_model) # Output transformation\n",
        "\n",
        "  def scaled_dot_product_attention(self, Q, K, V, mask=None):\n",
        "    # Calculate attention scores\n",
        "    attn_scores = torch.matmul(Q, K.transpose(-2, -1)) / math.sqrt(self.d_k)\n",
        "\n",
        "    # Apply mask if provided (useful for preventing attention to certain parts like padding)\n",
        "    if mask is not None:\n",
        "        attn_scores = attn_scores.masked_fill(mask == 0, -1e9)\n",
        "\n",
        "    # Softmax is applied to obtain attention probabilities\n",
        "    attn_probs = torch.softmax(attn_scores, dim=-1)\n",
        "\n",
        "    # Multiply by values to obtain the final output\n",
        "    output = torch.matmul(attn_probs, V)\n",
        "    return output\n",
        "\n",
        "  def split_heads(self, x):\n",
        "    # Reshape the input to have num_heads for multi-head attention\n",
        "    batch_size, seq_length, d_model = x.size()\n",
        "    return x.view(batch_size, seq_length, self.num_heads, self.d_k).transpose(1, 2)\n",
        "\n",
        "  def combine_heads(self, x):\n",
        "    # Combine the multiple heads back to original shape\n",
        "    batch_size, _, seq_length, d_k = x.size()\n",
        "    return x.transpose(1, 2).contiguous().view(batch_size, seq_length, self.d_model)\n",
        "\n",
        "  def forward(self, Q, K, V, mask=None):\n",
        "    # Apply linear transformations and split heads\n",
        "    Q = self.split_heads(self.W_q(Q))\n",
        "    K = self.split_heads(self.W_k(K))\n",
        "    V = self.split_heads(self.W_v(V))\n",
        "\n",
        "    # Perform scaled dot-product attention\n",
        "    attn_output = self.scaled_dot_product_attention(Q, K, V, mask)\n",
        "\n",
        "    # Combine heads and apply output transformation\n",
        "    output = self.W_o(self.combine_heads(attn_output))\n",
        "    return output"
      ],
      "metadata": {
        "id": "g9esaIUXaw6h"
      },
      "id": "g9esaIUXaw6h",
      "execution_count": 3,
      "outputs": []
    },
    {
      "cell_type": "markdown",
      "source": [
        "### Position Wise Feed Forward\n",
        "defines a position-wise feed-forward neural network that consists of two linear layers with a ReLU activation function in between. In the context of transformer models, this feed-forward network is applied to each position separately and identically. It helps in transforming the features learned by the attention mechanisms within the transformer, acting as an additional processing step for the attention outputs."
      ],
      "metadata": {
        "id": "vro4H5JZchHl"
      },
      "id": "vro4H5JZchHl"
    },
    {
      "cell_type": "code",
      "source": [
        "class PositionWiseFeedForward(nn.Module):\n",
        "  \"\"\"\n",
        "  d_model: Dimensionality of the input.\n",
        "  d_ff: Dimensionality of the inner layer in the feed-forward network.\n",
        "  \"\"\"\n",
        "\n",
        "  def __init__(self, d_model, d_ff):\n",
        "    super(PositionWiseFeedForward, self).__init__()\n",
        "    self.fc1 = nn.Linear(d_model, d_ff)\n",
        "    self.fc2 = nn.Linear(d_ff, d_model)\n",
        "    self.relu = nn.ReLU()\n",
        "\n",
        "  def forward(self, x):\n",
        "    return self.fc2(self.relu(self.fc1(x)))"
      ],
      "metadata": {
        "id": "q13-TuLLcgFx"
      },
      "id": "q13-TuLLcgFx",
      "execution_count": 4,
      "outputs": []
    },
    {
      "cell_type": "markdown",
      "source": [
        "### Positional Encoding\n",
        "The PositionalEncoding class adds information about the position of tokens within the sequence. Since the transformer model lacks inherent knowledge of the order of tokens (due to its self-attention mechanism), this class helps the model to consider the position of tokens in the sequence. The sinusoidal functions used are chosen to allow the model to easily learn to attend to relative positions, as they produce a unique and smooth encoding for each position in the sequence.\n",
        "\n",
        "`max_seq_length`: The maximum length of the sequence for which positional encodings are pre-computed.\n",
        "`pe`: A tensor filled with zeros, which will be populated with positional encodings.\n",
        "`position`: A tensor containing the position indices for each position in the sequence.\n",
        "`div_term`: A term used to scale the position indices in a specific way.\n",
        "\n",
        "The sine function is applied to the even indices and the cosine function to the odd indices of pe."
      ],
      "metadata": {
        "id": "lEWej5ILdGkl"
      },
      "id": "lEWej5ILdGkl"
    },
    {
      "cell_type": "code",
      "source": [
        "class PositionalEncoding(nn.Module):\n",
        "    def __init__(self, d_model, max_seq_length):\n",
        "        super(PositionalEncoding, self).__init__()\n",
        "\n",
        "        pe = torch.zeros(max_seq_length, d_model)\n",
        "        position = torch.arange(0, max_seq_length, dtype=torch.float).unsqueeze(1)\n",
        "        div_term = torch.exp(torch.arange(0, d_model, 2).float() * -(math.log(10000.0) / d_model))\n",
        "\n",
        "        pe[:, 0::2] = torch.sin(position * div_term)\n",
        "        pe[:, 1::2] = torch.cos(position * div_term)\n",
        "\n",
        "        self.register_buffer('pe', pe.unsqueeze(0))\n",
        "\n",
        "    def forward(self, x):\n",
        "        return x + self.pe[:, :x.size(1)]"
      ],
      "metadata": {
        "id": "C2YTutDrdJ8H"
      },
      "id": "C2YTutDrdJ8H",
      "execution_count": 5,
      "outputs": []
    },
    {
      "cell_type": "markdown",
      "source": [
        "###  Encoder Layer\n",
        "\n",
        "The EncoderLayer class defines a single layer of the transformer's encoder. It encapsulates a multi-head self-attention mechanism followed by position-wise feed-forward neural network, with residual connections, layer normalization, and dropout applied as appropriate. These components together allow the encoder to capture complex relationships in the input data and transform them into a useful representation for downstream tasks. Typically, multiple such encoder layers are stacked to form the complete encoder part of a transformer model."
      ],
      "metadata": {
        "id": "LjIEZlNUreDl"
      },
      "id": "LjIEZlNUreDl"
    },
    {
      "cell_type": "code",
      "source": [
        "class EncoderLayer(nn.Module):\n",
        "    def __init__(self, d_model, num_heads, d_ff, dropout):\n",
        "        super(EncoderLayer, self).__init__()\n",
        "        self.self_attn = MultiHeadAttention(d_model, num_heads)\n",
        "        self.feed_forward = PositionWiseFeedForward(d_model, d_ff)\n",
        "        self.norm1 = nn.LayerNorm(d_model)\n",
        "        self.norm2 = nn.LayerNorm(d_model)\n",
        "        self.dropout = nn.Dropout(dropout)\n",
        "\n",
        "    def forward(self, x, mask):\n",
        "        attn_output = self.self_attn(x, x, x, mask)\n",
        "        x = self.norm1(x + self.dropout(attn_output))\n",
        "        ff_output = self.feed_forward(x)\n",
        "        x = self.norm2(x + self.dropout(ff_output))\n",
        "        return x"
      ],
      "metadata": {
        "id": "dV2U9gU5rhuH"
      },
      "id": "dV2U9gU5rhuH",
      "execution_count": 6,
      "outputs": []
    },
    {
      "cell_type": "markdown",
      "source": [
        "### Encoder Transformer"
      ],
      "metadata": {
        "id": "jVdd5xHCsjpo"
      },
      "id": "jVdd5xHCsjpo"
    },
    {
      "cell_type": "code",
      "source": [
        "class TransformerEncoder(nn.Module):\n",
        "    def __init__(self, vocab_size, d_model, num_heads, num_layers, d_ff, dropout, num_classes, max_sequence_length):\n",
        "        super(TransformerEncoder, self).__init__()\n",
        "        self.embedding = nn.Linear(vocab_size, d_model)\n",
        "        self.positional_encoding = PositionalEncoding(d_model, max_sequence_length)\n",
        "        self.encoder_layers = nn.ModuleList(\n",
        "            [EncoderLayer(d_model, num_heads, d_ff, dropout) for _ in range(num_layers)]\n",
        "        )\n",
        "        self.fc = nn.Linear(d_model, num_classes)\n",
        "\n",
        "    def forward(self, x, mask=None):\n",
        "        x = self.embedding(x)\n",
        "        x = self.positional_encoding(x)\n",
        "        for layer in self.encoder_layers:\n",
        "            x = layer(x, mask)\n",
        "        x = x.mean(dim=1)  # Global average pooling\n",
        "        x = self.fc(x)\n",
        "        return x\n"
      ],
      "metadata": {
        "id": "0bIxXCrBuXxM"
      },
      "id": "0bIxXCrBuXxM",
      "execution_count": 7,
      "outputs": []
    },
    {
      "cell_type": "markdown",
      "source": [
        "## Decoder Layer\n",
        "\n",
        "The DecoderLayer class defines a single layer of the transformer's decoder. It consists of a multi-head self-attention mechanism, a multi-head cross-attention mechanism (that attends to the encoder's output), a position-wise feed-forward neural network, and the corresponding residual connections, layer normalization, and dropout layers. This combination enables the decoder to generate meaningful outputs based on the encoder's representations, taking into account both the target sequence and the source sequence. As with the encoder, multiple decoder layers are typically stacked to form the complete decoder part of a transformer model."
      ],
      "metadata": {
        "id": "oiHV4UT3HCae"
      },
      "id": "oiHV4UT3HCae"
    },
    {
      "cell_type": "code",
      "source": [
        "import torch\n",
        "import torch.nn as nn\n",
        "import torch.optim as optim\n",
        "\n",
        "class DecoderLayer(nn.Module):\n",
        "    def __init__(self, d_model, num_heads, d_ff, dropout):\n",
        "        super(DecoderLayer, self).__init__()\n",
        "        self.self_attn = MultiHeadAttention(d_model, num_heads)\n",
        "        self.cross_attn = MultiHeadAttention(d_model, num_heads)\n",
        "        self.feed_forward = PositionWiseFeedForward(d_model, d_ff)\n",
        "        self.norm1 = nn.LayerNorm(d_model)\n",
        "        self.norm2 = nn.LayerNorm(d_model)\n",
        "        self.norm3 = nn.LayerNorm(d_model)\n",
        "        self.dropout = nn.Dropout(dropout)\n",
        "\n",
        "    def forward(self, x, enc_output, src_mask, tgt_mask):\n",
        "        attn_output = self.self_attn(x, x, x, tgt_mask)\n",
        "        x = self.norm1(x + self.dropout(attn_output))\n",
        "        attn_output = self.cross_attn(x, enc_output, enc_output, src_mask)\n",
        "        x = self.norm2(x + self.dropout(attn_output))\n",
        "        ff_output = self.feed_forward(x)\n",
        "        x = self.norm3(x + self.dropout(ff_output))\n",
        "        return x\n",
        "\n"
      ],
      "metadata": {
        "id": "KwO2OUMDHB8Y"
      },
      "id": "KwO2OUMDHB8Y",
      "execution_count": 8,
      "outputs": []
    },
    {
      "cell_type": "markdown",
      "source": [
        "## Sequential Transformer"
      ],
      "metadata": {
        "id": "Ew5tkq-XHERE"
      },
      "id": "Ew5tkq-XHERE"
    },
    {
      "cell_type": "code",
      "source": [
        "class Transformer(nn.Module):\n",
        "    def __init__(self, src_vocab_size, tgt_vocab_size, d_model, num_heads, num_layers, d_ff, max_seq_length, dropout):\n",
        "        super(Transformer, self).__init__()\n",
        "        self.encoder_embedding = nn.Embedding(src_vocab_size, d_model)\n",
        "        self.decoder_embedding = nn.Embedding(tgt_vocab_size, d_model)\n",
        "        self.positional_encoding = PositionalEncoding(d_model, max_seq_length)\n",
        "\n",
        "        self.encoder_layers = nn.ModuleList([EncoderLayer(d_model, num_heads, d_ff, dropout) for _ in range(num_layers)])\n",
        "        self.decoder_layers = nn.ModuleList([DecoderLayer(d_model, num_heads, d_ff, dropout) for _ in range(num_layers)])\n",
        "\n",
        "        self.fc = nn.Linear(d_model, tgt_vocab_size)\n",
        "        self.dropout = nn.Dropout(dropout)\n",
        "\n",
        "    def generate_mask(self, src, tgt):\n",
        "        src_mask = (src != 0).unsqueeze(1).unsqueeze(2)\n",
        "        tgt_mask = (tgt != 0).unsqueeze(1).unsqueeze(3)\n",
        "        seq_length = tgt.size(1)\n",
        "        nopeak_mask = (1 - torch.triu(torch.ones(1, seq_length, seq_length), diagonal=1)).bool()\n",
        "        tgt_mask = tgt_mask & nopeak_mask\n",
        "        return src_mask, tgt_mask\n",
        "\n",
        "    def forward(self, src, tgt):\n",
        "        src_mask, tgt_mask = self.generate_mask(src, tgt)\n",
        "        src_embedded = self.dropout(self.positional_encoding(self.encoder_embedding(src)))\n",
        "        tgt_embedded = self.dropout(self.positional_encoding(self.decoder_embedding(tgt)))\n",
        "\n",
        "        enc_output = src_embedded\n",
        "        for enc_layer in self.encoder_layers:\n",
        "            enc_output = enc_layer(enc_output, src_mask)\n",
        "\n",
        "        dec_output = tgt_embedded\n",
        "        for dec_layer in self.decoder_layers:\n",
        "            dec_output = dec_layer(dec_output, enc_output, src_mask, tgt_mask)\n",
        "\n",
        "        output = self.fc(dec_output)\n",
        "        return output\n",
        "\n"
      ],
      "metadata": {
        "id": "aerp7qYHHN7D"
      },
      "id": "aerp7qYHHN7D",
      "execution_count": 9,
      "outputs": []
    },
    {
      "cell_type": "markdown",
      "source": [
        "## Prueba con Datos Aleatorios\n",
        "\n",
        "Se declara un dataset que genera datos sintéticos para evaluar el rendimiento del modelo en clasificacción"
      ],
      "metadata": {
        "id": "eHbPYyAluaLu"
      },
      "id": "eHbPYyAluaLu"
    },
    {
      "cell_type": "code",
      "source": [
        "d_model = 512\n",
        "num_heads = 8\n",
        "num_layers = 6\n",
        "d_ff = 2048\n",
        "vocab_size = 1000\n",
        "sequence_length = 64\n",
        "dropout = 0.1\n",
        "batch_size = 16"
      ],
      "metadata": {
        "id": "GEnAZ1Hux98u"
      },
      "id": "GEnAZ1Hux98u",
      "execution_count": 10,
      "outputs": []
    },
    {
      "cell_type": "code",
      "source": [
        "# Instantiate the model\n",
        "model = Transformer(vocab_size, vocab_size, d_model, num_heads, num_layers, d_ff, sequence_length, dropout) # Pass sequence_length and dropout while creating the instance\n",
        "criterion = nn.CrossEntropyLoss()\n",
        "optimizer = optim.Adam(model.parameters(), lr=0.0001)"
      ],
      "metadata": {
        "id": "F_zn614uySSO"
      },
      "id": "F_zn614uySSO",
      "execution_count": 11,
      "outputs": []
    },
    {
      "cell_type": "code",
      "source": [
        "device = torch.device(\"cuda\" if torch.cuda.is_available() else \"cpu\")\n",
        "print(f'Using device: {device}')\n"
      ],
      "metadata": {
        "id": "XTaNU4_G0W0T",
        "outputId": "9ae650aa-25b1-4302-9d73-a62138e4485e",
        "colab": {
          "base_uri": "https://localhost:8080/"
        }
      },
      "id": "XTaNU4_G0W0T",
      "execution_count": 12,
      "outputs": [
        {
          "output_type": "stream",
          "name": "stdout",
          "text": [
            "Using device: cuda\n"
          ]
        }
      ]
    },
    {
      "cell_type": "markdown",
      "source": [
        "Generando un dataset de secuencia de ejemplo"
      ],
      "metadata": {
        "id": "L_YopufjVAjn"
      },
      "id": "L_YopufjVAjn"
    },
    {
      "cell_type": "code",
      "source": [
        "import numpy as np\n",
        "\n",
        "# Create a simple sequence dataset\n",
        "def create_dataset(sequence_length, vocab_size, batch_size):\n",
        "    x = np.arange(vocab_size)\n",
        "    y = np.roll(x, -1)  # Shifted sequence\n",
        "    x = np.tile(x, (batch_size, 1))\n",
        "    y = np.tile(y, (batch_size, 1))\n",
        "    return torch.tensor(x, dtype=torch.long), torch.tensor(y, dtype=torch.long)\n",
        "\n",
        "# Dummy dataset\n",
        "src, tgt = create_dataset(sequence_length, vocab_size, batch_size)\n",
        "src = src[:, :sequence_length]\n",
        "tgt = tgt[:, :sequence_length]\n",
        "\n",
        "# Masks for padding (if necessary)\n",
        "src_mask = torch.nn.Transformer.generate_square_subsequent_mask(sequence_length).to(device)  # Call from torch.nn.Transformer\n",
        "tgt_mask = torch.nn.Transformer.generate_square_subsequent_mask(sequence_length).to(device)  # Call from torch.nn.Transformer\n"
      ],
      "metadata": {
        "id": "9IUIdlqfH4dk"
      },
      "id": "9IUIdlqfH4dk",
      "execution_count": 13,
      "outputs": []
    },
    {
      "cell_type": "code",
      "source": [
        "src.shape, tgt.shape, src_mask.shape, tgt_mask.shape"
      ],
      "metadata": {
        "colab": {
          "base_uri": "https://localhost:8080/"
        },
        "id": "346IUfKnWxzK",
        "outputId": "e8e19d7b-cfdb-4489-ac6a-1d103527d38a"
      },
      "id": "346IUfKnWxzK",
      "execution_count": 14,
      "outputs": [
        {
          "output_type": "execute_result",
          "data": {
            "text/plain": [
              "(torch.Size([16, 64]),\n",
              " torch.Size([16, 64]),\n",
              " torch.Size([64, 64]),\n",
              " torch.Size([64, 64]))"
            ]
          },
          "metadata": {},
          "execution_count": 14
        }
      ]
    },
    {
      "cell_type": "code",
      "source": [
        "src"
      ],
      "metadata": {
        "colab": {
          "base_uri": "https://localhost:8080/"
        },
        "id": "UJjgjtqXW0y4",
        "outputId": "79365c5b-73b9-44b0-c843-49de84576261"
      },
      "id": "UJjgjtqXW0y4",
      "execution_count": 15,
      "outputs": [
        {
          "output_type": "execute_result",
          "data": {
            "text/plain": [
              "tensor([[ 0,  1,  2,  ..., 61, 62, 63],\n",
              "        [ 0,  1,  2,  ..., 61, 62, 63],\n",
              "        [ 0,  1,  2,  ..., 61, 62, 63],\n",
              "        ...,\n",
              "        [ 0,  1,  2,  ..., 61, 62, 63],\n",
              "        [ 0,  1,  2,  ..., 61, 62, 63],\n",
              "        [ 0,  1,  2,  ..., 61, 62, 63]])"
            ]
          },
          "metadata": {},
          "execution_count": 15
        }
      ]
    },
    {
      "cell_type": "code",
      "source": [
        "tgt"
      ],
      "metadata": {
        "colab": {
          "base_uri": "https://localhost:8080/"
        },
        "id": "RxQhmfZAW4CP",
        "outputId": "abe1bbca-3223-4975-b1c3-9da2dc450f29"
      },
      "id": "RxQhmfZAW4CP",
      "execution_count": 16,
      "outputs": [
        {
          "output_type": "execute_result",
          "data": {
            "text/plain": [
              "tensor([[ 1,  2,  3,  ..., 62, 63, 64],\n",
              "        [ 1,  2,  3,  ..., 62, 63, 64],\n",
              "        [ 1,  2,  3,  ..., 62, 63, 64],\n",
              "        ...,\n",
              "        [ 1,  2,  3,  ..., 62, 63, 64],\n",
              "        [ 1,  2,  3,  ..., 62, 63, 64],\n",
              "        [ 1,  2,  3,  ..., 62, 63, 64]])"
            ]
          },
          "metadata": {},
          "execution_count": 16
        }
      ]
    },
    {
      "cell_type": "markdown",
      "source": [
        "## Train Loop\n",
        "\n",
        "Haciendo un lazo de entrenamiento"
      ],
      "metadata": {
        "id": "8hgJvBaxVQEV"
      },
      "id": "8hgJvBaxVQEV"
    },
    {
      "cell_type": "code",
      "source": [
        "def train_model(model, src, tgt, src_mask, tgt_mask, criterion, optimizer, epochs=10):\n",
        "    model.train()\n",
        "    for epoch in range(epochs):\n",
        "        optimizer.zero_grad()\n",
        "        output = model(src, tgt)\n",
        "        # Replacing view with reshape to handle non-contiguous tensors\n",
        "        loss = criterion(output.reshape(-1, vocab_size), tgt.reshape(-1))\n",
        "        loss.backward()\n",
        "        optimizer.step()\n",
        "        if epoch % 1 == 0:\n",
        "            print(f'Epoch {epoch+1}/{epochs}, Loss: {loss.item()}')\n",
        "\n",
        "# Train the model\n",
        "train_model(model, src, tgt, src_mask, tgt_mask, criterion, optimizer, epochs=20)"
      ],
      "metadata": {
        "colab": {
          "base_uri": "https://localhost:8080/"
        },
        "id": "7H5IT4wAVNUs",
        "outputId": "dd9a5b50-6640-4baa-b82e-a5478ec1be71"
      },
      "id": "7H5IT4wAVNUs",
      "execution_count": 17,
      "outputs": [
        {
          "output_type": "stream",
          "name": "stdout",
          "text": [
            "Epoch 1/20, Loss: 7.074044227600098\n",
            "Epoch 2/20, Loss: 5.888911724090576\n",
            "Epoch 3/20, Loss: 5.3721137046813965\n",
            "Epoch 4/20, Loss: 5.0026421546936035\n",
            "Epoch 5/20, Loss: 4.579066276550293\n",
            "Epoch 6/20, Loss: 4.084095001220703\n",
            "Epoch 7/20, Loss: 3.5255067348480225\n",
            "Epoch 8/20, Loss: 2.994144916534424\n",
            "Epoch 9/20, Loss: 2.5113799571990967\n",
            "Epoch 10/20, Loss: 2.061314582824707\n",
            "Epoch 11/20, Loss: 1.6499212980270386\n",
            "Epoch 12/20, Loss: 1.2756842374801636\n",
            "Epoch 13/20, Loss: 0.9752241373062134\n",
            "Epoch 14/20, Loss: 0.7245557904243469\n",
            "Epoch 15/20, Loss: 0.5365574359893799\n",
            "Epoch 16/20, Loss: 0.39553090929985046\n",
            "Epoch 17/20, Loss: 0.29862844944000244\n",
            "Epoch 18/20, Loss: 0.2305026799440384\n",
            "Epoch 19/20, Loss: 0.17853902280330658\n",
            "Epoch 20/20, Loss: 0.14106768369674683\n"
          ]
        }
      ]
    },
    {
      "cell_type": "markdown",
      "source": [
        "## Evaluation Loop\n",
        "Haciendo un lazo para evaluar el desempeño"
      ],
      "metadata": {
        "id": "wnu_Z5TLVVyN"
      },
      "id": "wnu_Z5TLVVyN"
    },
    {
      "cell_type": "code",
      "source": [
        "def evaluate_model(model, src, tgt, src_mask, tgt_mask, criterion):\n",
        "    model.eval()\n",
        "    total_loss = 0\n",
        "    with torch.no_grad():\n",
        "        output = model(src, tgt)\n",
        "        loss = criterion(output.reshape(-1, vocab_size), tgt.reshape(-1))\n",
        "        total_loss += loss.item()\n",
        "    avg_loss = total_loss / src.size(0)\n",
        "    perplexity = torch.exp(torch.tensor(avg_loss))\n",
        "    return avg_loss, perplexity\n",
        "\n",
        "# Evaluate the model\n",
        "avg_loss, perplexity = evaluate_model(model, src, tgt, src_mask, tgt_mask, criterion)\n",
        "print(f\"Average Loss: {avg_loss:.4f}, Perplexity: {perplexity:.4f}\")\n",
        "\n"
      ],
      "metadata": {
        "colab": {
          "base_uri": "https://localhost:8080/"
        },
        "id": "meZydM71VbVT",
        "outputId": "7f8b338e-847a-43be-8bec-e23a92e7709e"
      },
      "id": "meZydM71VbVT",
      "execution_count": 18,
      "outputs": [
        {
          "output_type": "stream",
          "name": "stdout",
          "text": [
            "Average Loss: 0.0035, Perplexity: 1.0035\n"
          ]
        }
      ]
    },
    {
      "cell_type": "code",
      "source": [
        "# prompt: generate a prediction for the src sequence and print the first 100 results given by the model\n",
        "\n",
        "# Assuming the model and necessary variables (src, tgt, etc.) are already defined as in the provided code.\n",
        "\n",
        "# Generate predictions\n",
        "def predict_sequence(model, src, max_len):\n",
        "    model.eval()\n",
        "    with torch.no_grad():\n",
        "        predictions = []\n",
        "        # Initialize the input sequence with the first token of src sequence.\n",
        "        input_seq = src[:, 0].unsqueeze(1)  # Start with the first token\n",
        "        for _ in range(max_len):\n",
        "          output = model(src, input_seq)\n",
        "          _, predicted_token = torch.max(output[:, -1, :], dim=-1)\n",
        "          predictions.append(predicted_token)\n",
        "          input_seq = torch.cat([input_seq, predicted_token.unsqueeze(1)], dim=1)\n",
        "        return torch.stack(predictions, dim=1)\n",
        "\n",
        "predicted_sequence = predict_sequence(model, src, sequence_length)\n",
        "\n",
        "# Print the first 100 results for the first sequence in the batch.\n",
        "print(predicted_sequence[0, :100])"
      ],
      "metadata": {
        "colab": {
          "base_uri": "https://localhost:8080/"
        },
        "id": "0OiwBnUgV3fc",
        "outputId": "b354d66e-4f79-4378-e222-02de6855bc16"
      },
      "id": "0OiwBnUgV3fc",
      "execution_count": 19,
      "outputs": [
        {
          "output_type": "stream",
          "name": "stdout",
          "text": [
            "tensor([2, 2, 2, 2, 2, 2, 2, 2, 2, 2, 2, 2, 2, 2, 2, 2, 2, 2, 2, 2, 2, 2, 2, 2,\n",
            "        2, 2, 2, 2, 2, 2, 2, 2, 2, 2, 2, 2, 2, 2, 2, 2, 2, 2, 2, 2, 2, 2, 2, 2,\n",
            "        2, 2, 2, 2, 2, 2, 2, 2, 2, 2, 2, 2, 2, 2, 2, 2])\n"
          ]
        }
      ]
    },
    {
      "cell_type": "code",
      "source": [
        "tgt[0][:100]"
      ],
      "metadata": {
        "colab": {
          "base_uri": "https://localhost:8080/"
        },
        "id": "4Q6hlAHpbd4R",
        "outputId": "a408d6ce-a734-4462-8d87-d479c8076118"
      },
      "id": "4Q6hlAHpbd4R",
      "execution_count": 23,
      "outputs": [
        {
          "output_type": "execute_result",
          "data": {
            "text/plain": [
              "tensor([ 1,  2,  3,  4,  5,  6,  7,  8,  9, 10, 11, 12, 13, 14, 15, 16, 17, 18,\n",
              "        19, 20, 21, 22, 23, 24, 25, 26, 27, 28, 29, 30, 31, 32, 33, 34, 35, 36,\n",
              "        37, 38, 39, 40, 41, 42, 43, 44, 45, 46, 47, 48, 49, 50, 51, 52, 53, 54,\n",
              "        55, 56, 57, 58, 59, 60, 61, 62, 63, 64])"
            ]
          },
          "metadata": {},
          "execution_count": 23
        }
      ]
    },
    {
      "cell_type": "code",
      "source": [
        "!pip install torchinfo"
      ],
      "metadata": {
        "id": "FR0a_HM33pxR",
        "outputId": "173694e1-9356-47ae-8905-bb9209098b15",
        "colab": {
          "base_uri": "https://localhost:8080/"
        }
      },
      "id": "FR0a_HM33pxR",
      "execution_count": 21,
      "outputs": [
        {
          "output_type": "stream",
          "name": "stdout",
          "text": [
            "Collecting torchinfo\n",
            "  Downloading torchinfo-1.8.0-py3-none-any.whl.metadata (21 kB)\n",
            "Downloading torchinfo-1.8.0-py3-none-any.whl (23 kB)\n",
            "Installing collected packages: torchinfo\n",
            "Successfully installed torchinfo-1.8.0\n"
          ]
        }
      ]
    },
    {
      "cell_type": "code",
      "source": [
        "from torchinfo import summary\n",
        "summary(model)"
      ],
      "metadata": {
        "id": "DGIsp_WKYg0G",
        "outputId": "3d95b810-5b1d-4cf0-f62a-6d3d1340ffbf",
        "colab": {
          "base_uri": "https://localhost:8080/"
        }
      },
      "id": "DGIsp_WKYg0G",
      "execution_count": 22,
      "outputs": [
        {
          "output_type": "execute_result",
          "data": {
            "text/plain": [
              "======================================================================\n",
              "Layer (type:depth-idx)                        Param #\n",
              "======================================================================\n",
              "Transformer                                   --\n",
              "├─Embedding: 1-1                              512,000\n",
              "├─Embedding: 1-2                              512,000\n",
              "├─PositionalEncoding: 1-3                     --\n",
              "├─ModuleList: 1-4                             --\n",
              "│    └─EncoderLayer: 2-1                      --\n",
              "│    │    └─MultiHeadAttention: 3-1           1,050,624\n",
              "│    │    └─PositionWiseFeedForward: 3-2      2,099,712\n",
              "│    │    └─LayerNorm: 3-3                    1,024\n",
              "│    │    └─LayerNorm: 3-4                    1,024\n",
              "│    │    └─Dropout: 3-5                      --\n",
              "│    └─EncoderLayer: 2-2                      --\n",
              "│    │    └─MultiHeadAttention: 3-6           1,050,624\n",
              "│    │    └─PositionWiseFeedForward: 3-7      2,099,712\n",
              "│    │    └─LayerNorm: 3-8                    1,024\n",
              "│    │    └─LayerNorm: 3-9                    1,024\n",
              "│    │    └─Dropout: 3-10                     --\n",
              "│    └─EncoderLayer: 2-3                      --\n",
              "│    │    └─MultiHeadAttention: 3-11          1,050,624\n",
              "│    │    └─PositionWiseFeedForward: 3-12     2,099,712\n",
              "│    │    └─LayerNorm: 3-13                   1,024\n",
              "│    │    └─LayerNorm: 3-14                   1,024\n",
              "│    │    └─Dropout: 3-15                     --\n",
              "│    └─EncoderLayer: 2-4                      --\n",
              "│    │    └─MultiHeadAttention: 3-16          1,050,624\n",
              "│    │    └─PositionWiseFeedForward: 3-17     2,099,712\n",
              "│    │    └─LayerNorm: 3-18                   1,024\n",
              "│    │    └─LayerNorm: 3-19                   1,024\n",
              "│    │    └─Dropout: 3-20                     --\n",
              "│    └─EncoderLayer: 2-5                      --\n",
              "│    │    └─MultiHeadAttention: 3-21          1,050,624\n",
              "│    │    └─PositionWiseFeedForward: 3-22     2,099,712\n",
              "│    │    └─LayerNorm: 3-23                   1,024\n",
              "│    │    └─LayerNorm: 3-24                   1,024\n",
              "│    │    └─Dropout: 3-25                     --\n",
              "│    └─EncoderLayer: 2-6                      --\n",
              "│    │    └─MultiHeadAttention: 3-26          1,050,624\n",
              "│    │    └─PositionWiseFeedForward: 3-27     2,099,712\n",
              "│    │    └─LayerNorm: 3-28                   1,024\n",
              "│    │    └─LayerNorm: 3-29                   1,024\n",
              "│    │    └─Dropout: 3-30                     --\n",
              "├─ModuleList: 1-5                             --\n",
              "│    └─DecoderLayer: 2-7                      --\n",
              "│    │    └─MultiHeadAttention: 3-31          1,050,624\n",
              "│    │    └─MultiHeadAttention: 3-32          1,050,624\n",
              "│    │    └─PositionWiseFeedForward: 3-33     2,099,712\n",
              "│    │    └─LayerNorm: 3-34                   1,024\n",
              "│    │    └─LayerNorm: 3-35                   1,024\n",
              "│    │    └─LayerNorm: 3-36                   1,024\n",
              "│    │    └─Dropout: 3-37                     --\n",
              "│    └─DecoderLayer: 2-8                      --\n",
              "│    │    └─MultiHeadAttention: 3-38          1,050,624\n",
              "│    │    └─MultiHeadAttention: 3-39          1,050,624\n",
              "│    │    └─PositionWiseFeedForward: 3-40     2,099,712\n",
              "│    │    └─LayerNorm: 3-41                   1,024\n",
              "│    │    └─LayerNorm: 3-42                   1,024\n",
              "│    │    └─LayerNorm: 3-43                   1,024\n",
              "│    │    └─Dropout: 3-44                     --\n",
              "│    └─DecoderLayer: 2-9                      --\n",
              "│    │    └─MultiHeadAttention: 3-45          1,050,624\n",
              "│    │    └─MultiHeadAttention: 3-46          1,050,624\n",
              "│    │    └─PositionWiseFeedForward: 3-47     2,099,712\n",
              "│    │    └─LayerNorm: 3-48                   1,024\n",
              "│    │    └─LayerNorm: 3-49                   1,024\n",
              "│    │    └─LayerNorm: 3-50                   1,024\n",
              "│    │    └─Dropout: 3-51                     --\n",
              "│    └─DecoderLayer: 2-10                     --\n",
              "│    │    └─MultiHeadAttention: 3-52          1,050,624\n",
              "│    │    └─MultiHeadAttention: 3-53          1,050,624\n",
              "│    │    └─PositionWiseFeedForward: 3-54     2,099,712\n",
              "│    │    └─LayerNorm: 3-55                   1,024\n",
              "│    │    └─LayerNorm: 3-56                   1,024\n",
              "│    │    └─LayerNorm: 3-57                   1,024\n",
              "│    │    └─Dropout: 3-58                     --\n",
              "│    └─DecoderLayer: 2-11                     --\n",
              "│    │    └─MultiHeadAttention: 3-59          1,050,624\n",
              "│    │    └─MultiHeadAttention: 3-60          1,050,624\n",
              "│    │    └─PositionWiseFeedForward: 3-61     2,099,712\n",
              "│    │    └─LayerNorm: 3-62                   1,024\n",
              "│    │    └─LayerNorm: 3-63                   1,024\n",
              "│    │    └─LayerNorm: 3-64                   1,024\n",
              "│    │    └─Dropout: 3-65                     --\n",
              "│    └─DecoderLayer: 2-12                     --\n",
              "│    │    └─MultiHeadAttention: 3-66          1,050,624\n",
              "│    │    └─MultiHeadAttention: 3-67          1,050,624\n",
              "│    │    └─PositionWiseFeedForward: 3-68     2,099,712\n",
              "│    │    └─LayerNorm: 3-69                   1,024\n",
              "│    │    └─LayerNorm: 3-70                   1,024\n",
              "│    │    └─LayerNorm: 3-71                   1,024\n",
              "│    │    └─Dropout: 3-72                     --\n",
              "├─Linear: 1-6                                 513,000\n",
              "├─Dropout: 1-7                                --\n",
              "======================================================================\n",
              "Total params: 45,675,496\n",
              "Trainable params: 45,675,496\n",
              "Non-trainable params: 0\n",
              "======================================================================"
            ]
          },
          "metadata": {},
          "execution_count": 22
        }
      ]
    },
    {
      "cell_type": "markdown",
      "source": [
        "# Generación de salidas aleatorias"
      ],
      "metadata": {
        "id": "fgseZcIbe2Qz"
      },
      "id": "fgseZcIbe2Qz"
    },
    {
      "cell_type": "code",
      "source": [
        "# Hyperparameters\n",
        "# Create a batch of random input sequences\n",
        "input_sequence = torch.randint(0, vocab_size, (batch_size, sequence_length))\n",
        "padding_mask = torch.randint(0, 2, (batch_size, sequence_length))\n",
        "causal_mask = torch.triu(torch.ones(sequence_length, sequence_length), diagonal=1).bool()\n",
        "\n",
        "# Instantiate the two transformer bodies\n",
        "encoder = TransformerEncoder(vocab_size, d_model, num_layers, num_heads, d_ff, dropout, max_sequence_length=sequence_length)\n",
        "decoder = TransformerDecoder(vocab_size, d_model, num_layers, num_heads, d_ff, dropout, max_sequence_length=sequence_length)\n",
        "\n",
        "# Pass the necessary masks as arguments to the encoder and the decoder\n",
        "encoder_output = encoder(input_sequence, padding_mask)\n",
        "decoder_output = decoder(input_sequence, causal_mask, encoder_output, padding_mask)\n",
        "print(\"Batch's output shape: \", decoder_output.shape)\n"
      ],
      "metadata": {
        "id": "44l1k8cke6D1",
        "outputId": "89b4b578-df14-4ab4-c873-6f6c95f80809",
        "colab": {
          "base_uri": "https://localhost:8080/",
          "height": 228
        }
      },
      "id": "44l1k8cke6D1",
      "execution_count": 1,
      "outputs": [
        {
          "output_type": "error",
          "ename": "NameError",
          "evalue": "name 'torch' is not defined",
          "traceback": [
            "\u001b[0;31m---------------------------------------------------------------------------\u001b[0m",
            "\u001b[0;31mNameError\u001b[0m                                 Traceback (most recent call last)",
            "\u001b[0;32m<ipython-input-1-f9e7ed0f5a23>\u001b[0m in \u001b[0;36m<cell line: 3>\u001b[0;34m()\u001b[0m\n\u001b[1;32m      1\u001b[0m \u001b[0;31m# Hyperparameters\u001b[0m\u001b[0;34m\u001b[0m\u001b[0;34m\u001b[0m\u001b[0m\n\u001b[1;32m      2\u001b[0m \u001b[0;31m# Create a batch of random input sequences\u001b[0m\u001b[0;34m\u001b[0m\u001b[0;34m\u001b[0m\u001b[0m\n\u001b[0;32m----> 3\u001b[0;31m \u001b[0minput_sequence\u001b[0m \u001b[0;34m=\u001b[0m \u001b[0mtorch\u001b[0m\u001b[0;34m.\u001b[0m\u001b[0mrandint\u001b[0m\u001b[0;34m(\u001b[0m\u001b[0;36m0\u001b[0m\u001b[0;34m,\u001b[0m \u001b[0mvocab_size\u001b[0m\u001b[0;34m,\u001b[0m \u001b[0;34m(\u001b[0m\u001b[0mbatch_size\u001b[0m\u001b[0;34m,\u001b[0m \u001b[0msequence_length\u001b[0m\u001b[0;34m)\u001b[0m\u001b[0;34m)\u001b[0m\u001b[0;34m\u001b[0m\u001b[0;34m\u001b[0m\u001b[0m\n\u001b[0m\u001b[1;32m      4\u001b[0m \u001b[0mpadding_mask\u001b[0m \u001b[0;34m=\u001b[0m \u001b[0mtorch\u001b[0m\u001b[0;34m.\u001b[0m\u001b[0mrandint\u001b[0m\u001b[0;34m(\u001b[0m\u001b[0;36m0\u001b[0m\u001b[0;34m,\u001b[0m \u001b[0;36m2\u001b[0m\u001b[0;34m,\u001b[0m \u001b[0;34m(\u001b[0m\u001b[0mbatch_size\u001b[0m\u001b[0;34m,\u001b[0m \u001b[0msequence_length\u001b[0m\u001b[0;34m)\u001b[0m\u001b[0;34m)\u001b[0m\u001b[0;34m\u001b[0m\u001b[0;34m\u001b[0m\u001b[0m\n\u001b[1;32m      5\u001b[0m \u001b[0mcausal_mask\u001b[0m \u001b[0;34m=\u001b[0m \u001b[0mtorch\u001b[0m\u001b[0;34m.\u001b[0m\u001b[0mtriu\u001b[0m\u001b[0;34m(\u001b[0m\u001b[0mtorch\u001b[0m\u001b[0;34m.\u001b[0m\u001b[0mones\u001b[0m\u001b[0;34m(\u001b[0m\u001b[0msequence_length\u001b[0m\u001b[0;34m,\u001b[0m \u001b[0msequence_length\u001b[0m\u001b[0;34m)\u001b[0m\u001b[0;34m,\u001b[0m \u001b[0mdiagonal\u001b[0m\u001b[0;34m=\u001b[0m\u001b[0;36m1\u001b[0m\u001b[0;34m)\u001b[0m\u001b[0;34m.\u001b[0m\u001b[0mbool\u001b[0m\u001b[0;34m(\u001b[0m\u001b[0;34m)\u001b[0m\u001b[0;34m\u001b[0m\u001b[0;34m\u001b[0m\u001b[0m\n",
            "\u001b[0;31mNameError\u001b[0m: name 'torch' is not defined"
          ]
        }
      ]
    },
    {
      "cell_type": "markdown",
      "id": "9972e5f1",
      "metadata": {
        "papermill": {
          "duration": 0.001771,
          "end_time": "2024-12-04T20:02:41.190006",
          "exception": false,
          "start_time": "2024-12-04T20:02:41.188235",
          "status": "completed"
        },
        "tags": [],
        "id": "9972e5f1"
      },
      "source": [
        "## Referencias\n",
        "- https://www.datacamp.com/tutorial/building-a-transformer-with-py-torch\n",
        "- https://campus.datacamp.com/es/courses/introduction-to-llms-in-python/building-a-transformer-architecture?ex=15\n"
      ]
    }
  ],
  "metadata": {
    "accelerator": "GPU",
    "colab": {
      "gpuType": "T4",
      "provenance": [],
      "toc_visible": true,
      "include_colab_link": true
    },
    "kaggle": {
      "accelerator": "gpu",
      "dataSources": [
        {
          "sourceId": 119408755,
          "sourceType": "kernelVersion"
        }
      ],
      "dockerImageVersionId": 30805,
      "isGpuEnabled": true,
      "isInternetEnabled": true,
      "language": "python",
      "sourceType": "notebook"
    },
    "kernelspec": {
      "display_name": "Python 3",
      "name": "python3"
    },
    "language_info": {
      "codemirror_mode": {
        "name": "ipython",
        "version": 3
      },
      "file_extension": ".py",
      "mimetype": "text/x-python",
      "name": "python",
      "nbconvert_exporter": "python",
      "pygments_lexer": "ipython3",
      "version": "3.10.14"
    },
    "papermill": {
      "default_parameters": {},
      "duration": 6.896552,
      "end_time": "2024-12-04T20:02:45.742633",
      "environment_variables": {},
      "exception": null,
      "input_path": "__notebook__.ipynb",
      "output_path": "__notebook__.ipynb",
      "parameters": {},
      "start_time": "2024-12-04T20:02:38.846081",
      "version": "2.6.0"
    }
  },
  "nbformat": 4,
  "nbformat_minor": 5
}