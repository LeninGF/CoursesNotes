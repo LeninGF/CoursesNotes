{
  "cells": [
    {
      "cell_type": "markdown",
      "metadata": {
        "id": "view-in-github",
        "colab_type": "text"
      },
      "source": [
        "<a href=\"https://colab.research.google.com/github/LeninGF/CoursesNotes/blob/main/InteligenciaArtificalGenerativa/Problems/LSTM-GRU/EjercicioEmbeddingLSTM-GRU-IAG-2024B_LeninFalconi.ipynb\" target=\"_parent\"><img src=\"https://colab.research.google.com/assets/colab-badge.svg\" alt=\"Open In Colab\"/></a>"
      ]
    },
    {
      "cell_type": "markdown",
      "metadata": {
        "id": "j_meEkMh7c8P"
      },
      "source": [
        "# Ejercicios sobre Redes Neuronales LSTM y GRU\n",
        "\n",
        "Coder: Lenin G. Falconí\n",
        "\n",
        "Asignatura: Tópicos Especiales (Inteligencia Artificial)\n",
        "\n",
        "Fecha: 2024-11-06"
      ]
    },
    {
      "cell_type": "markdown",
      "metadata": {
        "id": "HjYR2tST8VtQ"
      },
      "source": [
        "## Problema 1 Comparar One-Hot y Embedding\n",
        "Analice la representación one-hot y la de embedding. Inicializar las\n",
        "dependencias necesarias y adaptar el código para usarlo con IMDb Dataset de Movie Reviews.  "
      ]
    },
    {
      "cell_type": "code",
      "execution_count": null,
      "metadata": {
        "id": "4yW4OEJLPi66",
        "outputId": "10ffb70b-83bd-49ff-ecd6-925d2b355901",
        "colab": {
          "base_uri": "https://localhost:8080/"
        }
      },
      "outputs": [
        {
          "output_type": "stream",
          "name": "stdout",
          "text": [
            "2.17.0\n"
          ]
        }
      ],
      "source": [
        "import tensorflow as tf\n",
        "from tensorflow.keras.datasets import imdb\n",
        "from tensorflow.keras.preprocessing.sequence import pad_sequences\n",
        "from tensorflow.keras.models import Sequential\n",
        "from tensorflow.keras.layers import Dense, Flatten, Embedding, GRU, LSTM, Dropout\n",
        "\n",
        "# Parameters\n",
        "vocab_size = 10000 # 8000\n",
        "max_text_len = 200\n",
        "word_vec_dim = 300\n",
        "\n",
        "print(tf.__version__)"
      ]
    },
    {
      "cell_type": "markdown",
      "metadata": {
        "id": "4XIo7djfPi67"
      },
      "source": [
        "Cargando los datos del IMDB dataset"
      ]
    },
    {
      "cell_type": "code",
      "execution_count": null,
      "metadata": {
        "id": "gkz3my7mPi67",
        "outputId": "1c249ec9-4fee-446f-f913-1fe029e21b97",
        "colab": {
          "base_uri": "https://localhost:8080/"
        }
      },
      "outputs": [
        {
          "output_type": "stream",
          "name": "stdout",
          "text": [
            "Downloading data from https://storage.googleapis.com/tensorflow/tf-keras-datasets/imdb.npz\n",
            "\u001b[1m17464789/17464789\u001b[0m \u001b[32m━━━━━━━━━━━━━━━━━━━━\u001b[0m\u001b[37m\u001b[0m \u001b[1m0s\u001b[0m 0us/step\n"
          ]
        },
        {
          "output_type": "execute_result",
          "data": {
            "text/plain": [
              "((25000,), (25000,))"
            ]
          },
          "metadata": {},
          "execution_count": 2
        }
      ],
      "source": [
        "(x_train, y_train), (x_test, y_test) = imdb.load_data(num_words=vocab_size)\n",
        "x_train.shape, x_test.shape"
      ]
    },
    {
      "cell_type": "markdown",
      "metadata": {
        "id": "E5zBaRIkPi67"
      },
      "source": [
        "Pad sequences"
      ]
    },
    {
      "cell_type": "code",
      "execution_count": null,
      "metadata": {
        "id": "kt7S49_DPi67"
      },
      "outputs": [],
      "source": [
        "x_train = pad_sequences(x_train, maxlen=max_text_len)\n",
        "x_test = pad_sequences(x_test, maxlen=max_text_len)"
      ]
    },
    {
      "cell_type": "markdown",
      "source": [
        "## Modelo Simple RNN sin embedding"
      ],
      "metadata": {
        "id": "LjHV1veUalRO"
      }
    },
    {
      "cell_type": "code",
      "source": [
        "model_rnn = Sequential()\n",
        "model_rnn.add(SimpleRNN(32, input_shape=(max_tex_len, vocab_size)))\n",
        "model_rnn.add(Dense(1, activation='sigmoid'))\n",
        "\n",
        "# Compilar el modelo\n",
        "model_rnn.compile(optimizer='adam',\n",
        "              loss=BinaryCrossentropy(),\n",
        "              metrics=['accuracy'])\n",
        "\n",
        "# Entrenar el modelo\n",
        "history = model_rnn.fit(x_train, y_train,\n",
        "                    epochs=10,\n",
        "                    batch_size=batch_size,\n",
        "                    validation_split=0.2)\n",
        "\n",
        "# Evaluar el modelo\n",
        "score = model_rnn.evaluate(x_test, y_test, batch_size=batch_size)\n",
        "print(f\"Test loss: {score[0]}\")\n",
        "print(f\"Test accuracy: {score[1]}\")"
      ],
      "metadata": {
        "id": "oLvczudbapHQ"
      },
      "execution_count": null,
      "outputs": []
    },
    {
      "cell_type": "code",
      "source": [
        "model_rnn.summary()"
      ],
      "metadata": {
        "id": "Y36UrMO38NXC"
      },
      "execution_count": null,
      "outputs": []
    },
    {
      "cell_type": "markdown",
      "source": [
        "## Modelo Simple RNN con embeddings GloVec"
      ],
      "metadata": {
        "id": "VDyDF4vG9CMk"
      }
    },
    {
      "cell_type": "code",
      "source": [
        "# prompt: download of flove.6B.100.d.txt\n",
        "\n",
        "!wget http://nlp.stanford.edu/data/glove.6B.zip\n",
        "!unzip glove.6B.zip\n",
        "!ls"
      ],
      "metadata": {
        "id": "-bljbEIW13DS"
      },
      "execution_count": null,
      "outputs": []
    },
    {
      "cell_type": "code",
      "source": [
        "# prompt: please a model named model_rnn_globec that is used to classify imbd using simple RNN and an embedding layer from glovec\n",
        "\n",
        "import numpy as np\n",
        "\n",
        "# Assuming you have a GloVe embedding file (e.g., glove.6B.100d.txt)\n",
        "# and a function to load it (load_glove_embeddings)\n",
        "def load_glove_embeddings(file_path, embedding_dim):\n",
        "    glove_vector_dict = {}\n",
        "    with open(file_path, encoding=\"utf8\") as f:\n",
        "        for line in f:\n",
        "            word, coefs = line.split(maxsplit=1)\n",
        "            coefs = np.fromstring(coefs, \"f\", sep=\" \")\n",
        "            glove_vector_dict[word] = coefs\n",
        "\n",
        "    print(\"Found %s word vectors.\" % len(glove_vector_index))\n",
        "    return glove_vector_dict\n"
      ],
      "metadata": {
        "id": "cet-Geif9FuK"
      },
      "execution_count": null,
      "outputs": []
    },
    {
      "cell_type": "code",
      "source": [
        "# Load GloVe embeddings\n",
        "glove_file_path = \"glove.6B.100d.txt\" # Replace with the actual path\n",
        "embedding_dim = word_vec_dim # 100\n",
        "embeddings_index = load_glove_embeddings(glove_file_path, embedding_dim)\n"
      ],
      "metadata": {
        "id": "dMB0bP0U5X4g"
      },
      "execution_count": null,
      "outputs": []
    },
    {
      "cell_type": "code",
      "source": [
        "# Create embedding matrix\n",
        "word_index = imdb.get_word_index()\n",
        "embedding_matrix = np.zeros((vocab_size, embedding_dim))\n",
        "for word, i in word_index.items():\n",
        "    if i < vocab_size:\n",
        "        embedding_vector = embeddings_index.get(word)\n",
        "        if embedding_vector is not None:\n",
        "            embedding_matrix[i] = embedding_vector\n"
      ],
      "metadata": {
        "id": "t1kNxZBd5aSb"
      },
      "execution_count": null,
      "outputs": []
    },
    {
      "cell_type": "code",
      "source": [
        "# Model with GloVe embeddings\n",
        "model_rnn_globec = Sequential()\n",
        "model_rnn_globec.add(Embedding(vocab_size, embedding_dim, weights=[embedding_matrix], input_length=max_text_len, trainable=False))\n",
        "model_rnn_globec.add(SimpleRNN(32))\n",
        "model_rnn_globec.add(Dense(1, activation='sigmoid'))\n",
        "\n",
        "model_rnn_globec.compile(optimizer='adam', loss='binary_crossentropy', metrics=['accuracy'])\n",
        "model_rnn_globec.summary()"
      ],
      "metadata": {
        "id": "5d5gtaO85deu"
      },
      "execution_count": null,
      "outputs": []
    },
    {
      "cell_type": "code",
      "source": [
        "Train the model (example)\n",
        "history = model_rnn_globec.fit(x_train, y_train, epochs=10, batch_size=32, validation_split=0.2)"
      ],
      "metadata": {
        "id": "85ckMh2K5gzz"
      },
      "execution_count": null,
      "outputs": []
    },
    {
      "cell_type": "code",
      "source": [
        "# prompt: evaluate model_rnn_globec on test set\n",
        "\n",
        "# Evaluate the model\n",
        "score = model_rnn_globec.evaluate(x_test, y_test, batch_size=32)\n",
        "print(f\"Test loss: {score[0]}\")\n",
        "print(f\"Test accuracy: {score[1]}\")"
      ],
      "metadata": {
        "id": "umc1n0aZ6THn"
      },
      "execution_count": null,
      "outputs": []
    },
    {
      "cell_type": "markdown",
      "source": [
        "## Problema 2 Clasificación de Sentimientos con mayor complejidad\n",
        "\n",
        "- Se usa una capa Embedding para entrenar a los vectores de palabras en el dataset del ejemplo y\n",
        "dos LSTM layers para mantener textos más largos. Además se añade una capa densa adicional\n",
        "antes de la salida.  \n",
        "\n",
        "- Se usa un modelo pre-entrenado cargando sus pesos con el método `.load_weigths()` de la clase\n",
        "`keras.models.Sequential`. El modelo fue entrenado con 10 epochs y sus pesos están disponibles en\n",
        "el archivo `model_weights.h5`.\n",
        "\n",
        "### Instrucciones\n",
        "\n",
        "1. Cargar y preparar los datos:\n",
        "  -  Usar imdb.load_data para obtener el dataset IMDB de Keras, restringido a un vocabulario de tamaño 10000. Luego usar pad_sequences para que todas las secuencias tengan la misma longitud\n",
        "(max_text_len).\n",
        "2. Definir el modelo\n",
        "  - Añadir una capa de Embedding como la primera capa del modelo.\n",
        "  - Añadir una segunda capa de LSTM con 64 unidades returning las sequences.\n",
        "  - Añadir una capa Dense de 16 unidades.\n",
        "3. Entrenar el modelo: Entrenar el modelo con el conjunto de entrenamiento usando 5 épocas y un tamaño de lote de 64, validando el 20% de los datos de cada época.\n",
        "4. Evaluar el modelo: Guardar los pesos entrenados y evaluar el modelo en el conjunto de prueba imprimiendo la pérdida y la precisión."
      ],
      "metadata": {
        "id": "YNctaji5bqqT"
      }
    },
    {
      "cell_type": "code",
      "source": [
        "vocab_size = 10000 # 8000\n",
        "max_text_len = 200\n",
        "word_vec_dim =100"
      ],
      "metadata": {
        "id": "EolYUlKZeKiL"
      },
      "execution_count": null,
      "outputs": []
    },
    {
      "cell_type": "code",
      "source": [
        "(x_train, y_train), (x_test, y_test) = imdb.load_data(num_words=vocab_size)\n",
        "x_train.shape, x_test.shape"
      ],
      "metadata": {
        "colab": {
          "base_uri": "https://localhost:8080/"
        },
        "id": "M8if6zykfgJf",
        "outputId": "cd871815-dc30-4665-acfb-61cd2daa4df9"
      },
      "execution_count": null,
      "outputs": [
        {
          "output_type": "execute_result",
          "data": {
            "text/plain": [
              "((25000,), (25000,))"
            ]
          },
          "metadata": {},
          "execution_count": 12
        }
      ]
    },
    {
      "cell_type": "code",
      "source": [
        "x_train = pad_sequences(x_train, maxlen=max_text_len)\n",
        "x_test = pad_sequences(x_test, maxlen=max_text_len)"
      ],
      "metadata": {
        "id": "BWsF2shofkoI"
      },
      "execution_count": null,
      "outputs": []
    },
    {
      "cell_type": "code",
      "source": [
        "model = Sequential()\n",
        "model.add(Embedding(input_dim=vocab_size, output_dim=word_vec_dim, input_length=max_text_len, trainable=True, input_shape=(max_text_len,)))\n",
        "model.add(LSTM(64, return_sequences=True, dropout=0.2, recurrent_dropout=0.15))\n",
        "model.add(LSTM(64, return_sequences=False, dropout=0.2, recurrent_dropout=0.15))\n",
        "model.add(Dense(16, activation='relu'))\n",
        "model.add(Dropout(0.25))\n",
        "model.add(Dense(1, activation='sigmoid'))\n",
        "\n",
        "model.summary()"
      ],
      "metadata": {
        "colab": {
          "base_uri": "https://localhost:8080/",
          "height": 340
        },
        "id": "FCs_lpDhflRS",
        "outputId": "a6c2b259-32c8-4ac9-cfd4-1e10364b75a9"
      },
      "execution_count": null,
      "outputs": [
        {
          "output_type": "display_data",
          "data": {
            "text/plain": [
              "\u001b[1mModel: \"sequential\"\u001b[0m\n"
            ],
            "text/html": [
              "<pre style=\"white-space:pre;overflow-x:auto;line-height:normal;font-family:Menlo,'DejaVu Sans Mono',consolas,'Courier New',monospace\"><span style=\"font-weight: bold\">Model: \"sequential\"</span>\n",
              "</pre>\n"
            ]
          },
          "metadata": {}
        },
        {
          "output_type": "display_data",
          "data": {
            "text/plain": [
              "┏━━━━━━━━━━━━━━━━━━━━━━━━━━━━━━━━━━━━━━┳━━━━━━━━━━━━━━━━━━━━━━━━━━━━━┳━━━━━━━━━━━━━━━━━┓\n",
              "┃\u001b[1m \u001b[0m\u001b[1mLayer (type)                        \u001b[0m\u001b[1m \u001b[0m┃\u001b[1m \u001b[0m\u001b[1mOutput Shape               \u001b[0m\u001b[1m \u001b[0m┃\u001b[1m \u001b[0m\u001b[1m        Param #\u001b[0m\u001b[1m \u001b[0m┃\n",
              "┡━━━━━━━━━━━━━━━━━━━━━━━━━━━━━━━━━━━━━━╇━━━━━━━━━━━━━━━━━━━━━━━━━━━━━╇━━━━━━━━━━━━━━━━━┩\n",
              "│ embedding_1 (\u001b[38;5;33mEmbedding\u001b[0m)              │ (\u001b[38;5;45mNone\u001b[0m, \u001b[38;5;34m200\u001b[0m, \u001b[38;5;34m100\u001b[0m)            │       \u001b[38;5;34m1,000,000\u001b[0m │\n",
              "├──────────────────────────────────────┼─────────────────────────────┼─────────────────┤\n",
              "│ lstm (\u001b[38;5;33mLSTM\u001b[0m)                          │ (\u001b[38;5;45mNone\u001b[0m, \u001b[38;5;34m200\u001b[0m, \u001b[38;5;34m64\u001b[0m)             │          \u001b[38;5;34m42,240\u001b[0m │\n",
              "├──────────────────────────────────────┼─────────────────────────────┼─────────────────┤\n",
              "│ lstm_1 (\u001b[38;5;33mLSTM\u001b[0m)                        │ (\u001b[38;5;45mNone\u001b[0m, \u001b[38;5;34m64\u001b[0m)                  │          \u001b[38;5;34m33,024\u001b[0m │\n",
              "├──────────────────────────────────────┼─────────────────────────────┼─────────────────┤\n",
              "│ dense_3 (\u001b[38;5;33mDense\u001b[0m)                      │ (\u001b[38;5;45mNone\u001b[0m, \u001b[38;5;34m16\u001b[0m)                  │           \u001b[38;5;34m1,040\u001b[0m │\n",
              "├──────────────────────────────────────┼─────────────────────────────┼─────────────────┤\n",
              "│ dropout (\u001b[38;5;33mDropout\u001b[0m)                    │ (\u001b[38;5;45mNone\u001b[0m, \u001b[38;5;34m16\u001b[0m)                  │               \u001b[38;5;34m0\u001b[0m │\n",
              "├──────────────────────────────────────┼─────────────────────────────┼─────────────────┤\n",
              "│ dense_4 (\u001b[38;5;33mDense\u001b[0m)                      │ (\u001b[38;5;45mNone\u001b[0m, \u001b[38;5;34m1\u001b[0m)                   │              \u001b[38;5;34m17\u001b[0m │\n",
              "└──────────────────────────────────────┴─────────────────────────────┴─────────────────┘\n"
            ],
            "text/html": [
              "<pre style=\"white-space:pre;overflow-x:auto;line-height:normal;font-family:Menlo,'DejaVu Sans Mono',consolas,'Courier New',monospace\">┏━━━━━━━━━━━━━━━━━━━━━━━━━━━━━━━━━━━━━━┳━━━━━━━━━━━━━━━━━━━━━━━━━━━━━┳━━━━━━━━━━━━━━━━━┓\n",
              "┃<span style=\"font-weight: bold\"> Layer (type)                         </span>┃<span style=\"font-weight: bold\"> Output Shape                </span>┃<span style=\"font-weight: bold\">         Param # </span>┃\n",
              "┡━━━━━━━━━━━━━━━━━━━━━━━━━━━━━━━━━━━━━━╇━━━━━━━━━━━━━━━━━━━━━━━━━━━━━╇━━━━━━━━━━━━━━━━━┩\n",
              "│ embedding_1 (<span style=\"color: #0087ff; text-decoration-color: #0087ff\">Embedding</span>)              │ (<span style=\"color: #00d7ff; text-decoration-color: #00d7ff\">None</span>, <span style=\"color: #00af00; text-decoration-color: #00af00\">200</span>, <span style=\"color: #00af00; text-decoration-color: #00af00\">100</span>)            │       <span style=\"color: #00af00; text-decoration-color: #00af00\">1,000,000</span> │\n",
              "├──────────────────────────────────────┼─────────────────────────────┼─────────────────┤\n",
              "│ lstm (<span style=\"color: #0087ff; text-decoration-color: #0087ff\">LSTM</span>)                          │ (<span style=\"color: #00d7ff; text-decoration-color: #00d7ff\">None</span>, <span style=\"color: #00af00; text-decoration-color: #00af00\">200</span>, <span style=\"color: #00af00; text-decoration-color: #00af00\">64</span>)             │          <span style=\"color: #00af00; text-decoration-color: #00af00\">42,240</span> │\n",
              "├──────────────────────────────────────┼─────────────────────────────┼─────────────────┤\n",
              "│ lstm_1 (<span style=\"color: #0087ff; text-decoration-color: #0087ff\">LSTM</span>)                        │ (<span style=\"color: #00d7ff; text-decoration-color: #00d7ff\">None</span>, <span style=\"color: #00af00; text-decoration-color: #00af00\">64</span>)                  │          <span style=\"color: #00af00; text-decoration-color: #00af00\">33,024</span> │\n",
              "├──────────────────────────────────────┼─────────────────────────────┼─────────────────┤\n",
              "│ dense_3 (<span style=\"color: #0087ff; text-decoration-color: #0087ff\">Dense</span>)                      │ (<span style=\"color: #00d7ff; text-decoration-color: #00d7ff\">None</span>, <span style=\"color: #00af00; text-decoration-color: #00af00\">16</span>)                  │           <span style=\"color: #00af00; text-decoration-color: #00af00\">1,040</span> │\n",
              "├──────────────────────────────────────┼─────────────────────────────┼─────────────────┤\n",
              "│ dropout (<span style=\"color: #0087ff; text-decoration-color: #0087ff\">Dropout</span>)                    │ (<span style=\"color: #00d7ff; text-decoration-color: #00d7ff\">None</span>, <span style=\"color: #00af00; text-decoration-color: #00af00\">16</span>)                  │               <span style=\"color: #00af00; text-decoration-color: #00af00\">0</span> │\n",
              "├──────────────────────────────────────┼─────────────────────────────┼─────────────────┤\n",
              "│ dense_4 (<span style=\"color: #0087ff; text-decoration-color: #0087ff\">Dense</span>)                      │ (<span style=\"color: #00d7ff; text-decoration-color: #00d7ff\">None</span>, <span style=\"color: #00af00; text-decoration-color: #00af00\">1</span>)                   │              <span style=\"color: #00af00; text-decoration-color: #00af00\">17</span> │\n",
              "└──────────────────────────────────────┴─────────────────────────────┴─────────────────┘\n",
              "</pre>\n"
            ]
          },
          "metadata": {}
        },
        {
          "output_type": "display_data",
          "data": {
            "text/plain": [
              "\u001b[1m Total params: \u001b[0m\u001b[38;5;34m1,076,321\u001b[0m (4.11 MB)\n"
            ],
            "text/html": [
              "<pre style=\"white-space:pre;overflow-x:auto;line-height:normal;font-family:Menlo,'DejaVu Sans Mono',consolas,'Courier New',monospace\"><span style=\"font-weight: bold\"> Total params: </span><span style=\"color: #00af00; text-decoration-color: #00af00\">1,076,321</span> (4.11 MB)\n",
              "</pre>\n"
            ]
          },
          "metadata": {}
        },
        {
          "output_type": "display_data",
          "data": {
            "text/plain": [
              "\u001b[1m Trainable params: \u001b[0m\u001b[38;5;34m1,076,321\u001b[0m (4.11 MB)\n"
            ],
            "text/html": [
              "<pre style=\"white-space:pre;overflow-x:auto;line-height:normal;font-family:Menlo,'DejaVu Sans Mono',consolas,'Courier New',monospace\"><span style=\"font-weight: bold\"> Trainable params: </span><span style=\"color: #00af00; text-decoration-color: #00af00\">1,076,321</span> (4.11 MB)\n",
              "</pre>\n"
            ]
          },
          "metadata": {}
        },
        {
          "output_type": "display_data",
          "data": {
            "text/plain": [
              "\u001b[1m Non-trainable params: \u001b[0m\u001b[38;5;34m0\u001b[0m (0.00 B)\n"
            ],
            "text/html": [
              "<pre style=\"white-space:pre;overflow-x:auto;line-height:normal;font-family:Menlo,'DejaVu Sans Mono',consolas,'Courier New',monospace\"><span style=\"font-weight: bold\"> Non-trainable params: </span><span style=\"color: #00af00; text-decoration-color: #00af00\">0</span> (0.00 B)\n",
              "</pre>\n"
            ]
          },
          "metadata": {}
        }
      ]
    },
    {
      "cell_type": "code",
      "source": [
        "model.compile(optimizer='adam', loss='binary_crossentropy', metrics=['accuracy'])"
      ],
      "metadata": {
        "id": "PohlLPOHicI-"
      },
      "execution_count": null,
      "outputs": []
    },
    {
      "cell_type": "code",
      "source": [
        "from tensorflow.keras.callbacks import EarlyStopping, ModelCheckpoint\n",
        "early_stopping = EarlyStopping(\n",
        "    monitor='val_loss',  # Metric to monitor (e.g., validation loss)\n",
        "    patience=3,          # Number of epochs with no improvement after which training will be stopped\n",
        "    restore_best_weights=True # Restore model weights from the epoch with the best value of the monitored quantity.\n",
        ")\n",
        "\n",
        "# Define the checkpoint callback\n",
        "checkpoint = ModelCheckpoint('best_model_weights.keras',\n",
        "                             monitor='val_accuracy',\n",
        "                             save_best_only=True,\n",
        "                             mode='max',\n",
        "                             verbose=1)"
      ],
      "metadata": {
        "id": "O0ZN-ltljF-Y"
      },
      "execution_count": null,
      "outputs": []
    },
    {
      "cell_type": "code",
      "source": [
        "history = model.fit(x_train, y_train, epochs=20, batch_size=64, validation_split=0.2, callbacks=[early_stopping, checkpoint])"
      ],
      "metadata": {
        "colab": {
          "base_uri": "https://localhost:8080/"
        },
        "id": "c-JEWDklihLZ",
        "outputId": "72424be1-41a5-4c28-a4b4-52086ef8b44c"
      },
      "execution_count": null,
      "outputs": [
        {
          "output_type": "stream",
          "name": "stdout",
          "text": [
            "Epoch 1/20\n",
            "\u001b[1m313/313\u001b[0m \u001b[32m━━━━━━━━━━━━━━━━━━━━\u001b[0m\u001b[37m\u001b[0m \u001b[1m0s\u001b[0m 665ms/step - accuracy: 0.6777 - loss: 0.5704\n",
            "Epoch 1: val_accuracy improved from -inf to 0.84680, saving model to best_model_weights.keras\n",
            "\u001b[1m313/313\u001b[0m \u001b[32m━━━━━━━━━━━━━━━━━━━━\u001b[0m\u001b[37m\u001b[0m \u001b[1m233s\u001b[0m 706ms/step - accuracy: 0.6780 - loss: 0.5701 - val_accuracy: 0.8468 - val_loss: 0.3855\n",
            "Epoch 2/20\n",
            "\u001b[1m313/313\u001b[0m \u001b[32m━━━━━━━━━━━━━━━━━━━━\u001b[0m\u001b[37m\u001b[0m \u001b[1m0s\u001b[0m 635ms/step - accuracy: 0.8641 - loss: 0.3408\n",
            "Epoch 2: val_accuracy did not improve from 0.84680\n",
            "\u001b[1m313/313\u001b[0m \u001b[32m━━━━━━━━━━━━━━━━━━━━\u001b[0m\u001b[37m\u001b[0m \u001b[1m243s\u001b[0m 674ms/step - accuracy: 0.8641 - loss: 0.3408 - val_accuracy: 0.8456 - val_loss: 0.3623\n",
            "Epoch 3/20\n",
            "\u001b[1m313/313\u001b[0m \u001b[32m━━━━━━━━━━━━━━━━━━━━\u001b[0m\u001b[37m\u001b[0m \u001b[1m0s\u001b[0m 635ms/step - accuracy: 0.8923 - loss: 0.2760\n",
            "Epoch 3: val_accuracy did not improve from 0.84680\n",
            "\u001b[1m313/313\u001b[0m \u001b[32m━━━━━━━━━━━━━━━━━━━━\u001b[0m\u001b[37m\u001b[0m \u001b[1m262s\u001b[0m 674ms/step - accuracy: 0.8922 - loss: 0.2760 - val_accuracy: 0.8230 - val_loss: 0.4277\n",
            "Epoch 4/20\n",
            "\u001b[1m313/313\u001b[0m \u001b[32m━━━━━━━━━━━━━━━━━━━━\u001b[0m\u001b[37m\u001b[0m \u001b[1m0s\u001b[0m 639ms/step - accuracy: 0.9120 - loss: 0.2371\n",
            "Epoch 4: val_accuracy improved from 0.84680 to 0.85300, saving model to best_model_weights.keras\n",
            "\u001b[1m313/313\u001b[0m \u001b[32m━━━━━━━━━━━━━━━━━━━━\u001b[0m\u001b[37m\u001b[0m \u001b[1m263s\u001b[0m 677ms/step - accuracy: 0.9120 - loss: 0.2371 - val_accuracy: 0.8530 - val_loss: 0.3839\n",
            "Epoch 5/20\n",
            "\u001b[1m313/313\u001b[0m \u001b[32m━━━━━━━━━━━━━━━━━━━━\u001b[0m\u001b[37m\u001b[0m \u001b[1m0s\u001b[0m 632ms/step - accuracy: 0.9203 - loss: 0.2161\n",
            "Epoch 5: val_accuracy did not improve from 0.85300\n",
            "\u001b[1m313/313\u001b[0m \u001b[32m━━━━━━━━━━━━━━━━━━━━\u001b[0m\u001b[37m\u001b[0m \u001b[1m260s\u001b[0m 671ms/step - accuracy: 0.9203 - loss: 0.2161 - val_accuracy: 0.8494 - val_loss: 0.4082\n"
          ]
        }
      ]
    },
    {
      "cell_type": "code",
      "source": [
        "import matplotlib.pyplot as plt\n",
        "\n",
        "# Plot training & validation accuracy values\n",
        "plt.figure(figsize=(10, 5))\n",
        "plt.subplot(1, 2, 1)\n",
        "plt.plot(history.history['accuracy'])\n",
        "plt.plot(history.history['val_accuracy'])\n",
        "plt.title('Model accuracy')\n",
        "plt.ylabel('Accuracy')\n",
        "plt.xlabel('Epoch')\n",
        "plt.legend(['Train', 'Validation'], loc='upper left')\n",
        "plt.grid()\n",
        "\n",
        "# Plot training & validation loss values\n",
        "plt.subplot(1, 2, 2)\n",
        "plt.plot(history.history['loss'])\n",
        "plt.plot(history.history['val_loss'])\n",
        "plt.title('Model loss')\n",
        "plt.ylabel('Loss')\n",
        "plt.xlabel('Epoch')\n",
        "plt.legend(['Train', 'Validation'], loc='upper left')\n",
        "plt.grid()\n",
        "plt.show()\n"
      ],
      "metadata": {
        "colab": {
          "base_uri": "https://localhost:8080/",
          "height": 487
        },
        "id": "gf1m9qupnBbT",
        "outputId": "d01d194c-0d60-4c4a-ef02-e20517b966fd"
      },
      "execution_count": null,
      "outputs": [
        {
          "output_type": "display_data",
          "data": {
            "text/plain": [
              "<Figure size 1000x500 with 2 Axes>"
            ],
            "image/png": "[encoded data removed]"
          },
          "metadata": {}
        }
      ]
    },
    {
      "cell_type": "code",
      "source": [
        "loss, accuracy = model.evaluate(x_test, y_test, verbose=1)\n",
        "print('Test Loss:', loss)\n",
        "print('Test Accuracy:', accuracy)"
      ],
      "metadata": {
        "colab": {
          "base_uri": "https://localhost:8080/"
        },
        "id": "UbYzZcM1nFEo",
        "outputId": "82c9d983-0253-4a67-8c54-c23e02e068de"
      },
      "execution_count": null,
      "outputs": [
        {
          "output_type": "stream",
          "name": "stdout",
          "text": [
            "\u001b[1m782/782\u001b[0m \u001b[32m━━━━━━━━━━━━━━━━━━━━\u001b[0m\u001b[37m\u001b[0m \u001b[1m125s\u001b[0m 160ms/step - accuracy: 0.8406 - loss: 0.3732\n",
            "Test Loss: 0.36812323331832886\n",
            "Test Accuracy: 0.8402799963951111\n"
          ]
        }
      ]
    },
    {
      "cell_type": "code",
      "source": [
        "# prompt: I would like to evaluate my tensorflow model with classification report\n",
        "\n",
        "from sklearn.metrics import classification_report\n",
        "\n",
        "# Make predictions on the test set\n",
        "y_pred = model.predict(x_test)\n",
        "y_pred = (y_pred > 0.5).astype(int) # Convert probabilities to binary predictions\n",
        "\n",
        "# Generate the classification report\n",
        "print(classification_report(y_test, y_pred))"
      ],
      "metadata": {
        "colab": {
          "base_uri": "https://localhost:8080/"
        },
        "id": "AqH89qUczNNB",
        "outputId": "6aac77a2-c7da-4e97-f91b-b7b7e487d8b8"
      },
      "execution_count": null,
      "outputs": [
        {
          "output_type": "stream",
          "name": "stdout",
          "text": [
            "\u001b[1m782/782\u001b[0m \u001b[32m━━━━━━━━━━━━━━━━━━━━\u001b[0m\u001b[37m\u001b[0m \u001b[1m128s\u001b[0m 163ms/step\n",
            "              precision    recall  f1-score   support\n",
            "\n",
            "           0       0.90      0.76      0.83     12500\n",
            "           1       0.79      0.92      0.85     12500\n",
            "\n",
            "    accuracy                           0.84     25000\n",
            "   macro avg       0.85      0.84      0.84     25000\n",
            "weighted avg       0.85      0.84      0.84     25000\n",
            "\n"
          ]
        }
      ]
    },
    {
      "cell_type": "code",
      "source": [
        "from google.colab import drive\n",
        "drive.mount('/content/drive')"
      ],
      "metadata": {
        "colab": {
          "base_uri": "https://localhost:8080/"
        },
        "id": "wwfeo_ScxXR1",
        "outputId": "582a9346-4d2c-461d-cdc5-23744fcc8c8b"
      },
      "execution_count": null,
      "outputs": [
        {
          "output_type": "stream",
          "name": "stdout",
          "text": [
            "Mounted at /content/drive\n"
          ]
        }
      ]
    },
    {
      "cell_type": "code",
      "source": [
        "model.save('/content/drive/MyDrive/models/IAG2024B/sentiment_classificator.keras')"
      ],
      "metadata": {
        "id": "59u9x_Renruo"
      },
      "execution_count": null,
      "outputs": []
    },
    {
      "cell_type": "markdown",
      "source": [
        "Presenting some predictions forom dataset"
      ],
      "metadata": {
        "id": "zRIEhOfa1j9-"
      }
    },
    {
      "cell_type": "code",
      "source": [
        "# prompt: I want to see some of the predictions from the test set. could it be possible to see the text and predict its probability score? could we use random samples from test set\n",
        "\n",
        "import numpy as np\n",
        "\n",
        "# Assuming 'x_test' and 'y_test' are defined from the previous code\n",
        "# and 'word_index' is also available from the imdb dataset loading.\n",
        "\n",
        "# Reverse the word index to map indices back to words\n",
        "reverse_word_index = dict([(value, key) for (key, value) in imdb.get_word_index().items()])\n",
        "\n",
        "# Function to decode a sequence of indices into text\n",
        "def decode_review(text):\n",
        "    return \" \".join([reverse_word_index.get(i - 3, \"?\") for i in text])\n",
        "\n",
        "\n",
        "# Number of samples to display\n",
        "num_samples = 5\n",
        "\n",
        "# Generate random indices within the test set\n",
        "random_indices = np.random.choice(len(x_test), size=num_samples, replace=False)\n",
        "\n",
        "# Loop through the random samples and print predictions and text\n",
        "for index in random_indices:\n",
        "  prediction_probability = model.predict(np.expand_dims(x_test[index], axis=0))\n",
        "  predicted_class = (prediction_probability > 0.5).astype(int)[0, 0]\n",
        "  decoded_text = decode_review(x_test[index])\n",
        "  print(f\"Text: {decoded_text}\\nPredicted Class: {predicted_class}, Probability: {prediction_probability[0,0]:.4f}\\n\")"
      ],
      "metadata": {
        "id": "9eG9M85D1jeU",
        "outputId": "94890b4c-2df9-40a6-e381-a33527f0a39f",
        "colab": {
          "base_uri": "https://localhost:8080/"
        }
      },
      "execution_count": null,
      "outputs": [
        {
          "output_type": "stream",
          "name": "stdout",
          "text": [
            "Downloading data from https://storage.googleapis.com/tensorflow/tf-keras-datasets/imdb_word_index.json\n",
            "\u001b[1m1641221/1641221\u001b[0m \u001b[32m━━━━━━━━━━━━━━━━━━━━\u001b[0m\u001b[37m\u001b[0m \u001b[1m0s\u001b[0m 0us/step\n",
            "\u001b[1m1/1\u001b[0m \u001b[32m━━━━━━━━━━━━━━━━━━━━\u001b[0m\u001b[37m\u001b[0m \u001b[1m0s\u001b[0m 169ms/step\n",
            "Text: was 13 and since then it has always been my favorite when i'm waiting for a different book to come out this is the book i turn to to fill in the time i have 3 copies for god's sake anyways i knew this was not going to be anything like the book but come on they could have done a little better than this i mean seriously if i wanted to watch american werewolf in paris or london than i would watch those movies they took a perfectly good story and twisted it around into a copy of a story that has been told over and over again and quite frankly i'm tired of watching it i mean hello the best part of the whole f g sorry story is she ends up with gabriel he doesn't die what was that about and he's old in this movie gabriel is supposed to be only 24 not ? da it ? and ? who the he came up with the idea of ? being aunt no no no no ? and vivian hate each other ? anyways yeah that was my little rant seriously ? ed off hope this helped\n",
            "Predicted Class: 0, Probability: 0.0298\n",
            "\n",
            "\u001b[1m1/1\u001b[0m \u001b[32m━━━━━━━━━━━━━━━━━━━━\u001b[0m\u001b[37m\u001b[0m \u001b[1m0s\u001b[0m 154ms/step\n",
            "Text: award for best foreign language film and best actress at the national board of review and the award for best actress best director ? bergman and best film at the national society of film critics awards shame has good direction a good script good performances by both max von ? who plays jan and ? ? who plays eva good cinematography and good production design shame is a well acted and well made story of how people in a desperate situation will sometimes do whatever they can do in order to survive the film has a powerful message and is a good film the reason ? not rating this film higher is because it is not a masterpiece like some other ? bergman films like wild ? the seventh seal or persona for example the film didn't have as big an impact on me as i thought it would and it lacked ? ? thoughtful and philosophical dialog while nowhere close to being one of his best films there is still a lot to like about shame and it is a good movie i just probably would have liked it more having not seen some of those other bergman masterpieces\n",
            "Predicted Class: 1, Probability: 0.8684\n",
            "\n",
            "\u001b[1m1/1\u001b[0m \u001b[32m━━━━━━━━━━━━━━━━━━━━\u001b[0m\u001b[37m\u001b[0m \u001b[1m0s\u001b[0m 154ms/step\n",
            "Text: far superior to the sequel okay it s not a million miles away from the plot of seven but it s still compelling much of my praise has to do with ken s performance as red ? a policeman who seems to have led a very unlucky life and someone who has a terrible secret it d be easy for to go over the top but he plays the role in a fairly subtle way likewise the murders are very shocking but unlike the sequel where the murders are carried out ? in a rather ? manner there s actually little violence shown br br my only criticisms are that the red ? was too obviously a red ? which meant i ? t taken in by the shock twist and you would probably see the shock twist coming so i won t bother with a spoiler alert and that when the real murderer was revealed it seemed both slightly far fetched and caused a few plot holes to appear in the story if i remember correctly the sequel had similar problems once the murderer was revealed so maybe it d be a good idea not to make ? 3\n",
            "Predicted Class: 1, Probability: 0.6315\n",
            "\n",
            "\u001b[1m1/1\u001b[0m \u001b[32m━━━━━━━━━━━━━━━━━━━━\u001b[0m\u001b[37m\u001b[0m \u001b[1m0s\u001b[0m 164ms/step\n",
            "Text: ? ? ? ? ? ? ? ? ? ? ? ? ? ? ? ? ? ? ? ? ? ? ? ? ? ? ? ? ? ? ? ? ? ? ? ? ? ? ? ? ? ? ? don't get me wrong this was fun to watch it has some nice animation with exception of an odd looking bugs and some nice music and the standout scene was definitely elmer bugs and dance on the floor that was such a nice and fun touch as a matter of fact the whole cartoon is nice to watch but all in all it is not what i call exceptional like there are some very nice gags but they have been used before i feel and there wasn't much that i would ? hilarious and ? joining forces with elmer somehow seeing as he was a target of the hunter didn't it seem odd that he would be friends with him though i will admit it was nice having ? there the voice acting was above average too but somehow i missed mel ? br br all in all ? but very nice cartoon 7 10 ? cox\n",
            "Predicted Class: 1, Probability: 0.9878\n",
            "\n",
            "\u001b[1m1/1\u001b[0m \u001b[32m━━━━━━━━━━━━━━━━━━━━\u001b[0m\u001b[37m\u001b[0m \u001b[1m0s\u001b[0m 169ms/step\n",
            "Text: ? ? ? ? ? ? ? ? ? ? ? ? ? ? ? ? ? ? ? ? ? ? ? ? ? ? ? ? ? ? ? ? ? ? ? ? ? ? ? ? ? ? ? ? ? ? ? ? ? ? ? ? ? ? ? ? ? ? ? ? ? ? ? ? ? ? ? ? ? ? ? ? ? ? ? ? ? ? ? ? this movie makes ? look like ? list tarantino and the ? really need to consider more carefully before putting their names on a product green lighting a p o s like this regardless of the friendships involved is just bad business larry bishop needs to be kept away from a movie camera at all costs writer director producer actor bishop shows that his skills are ? for any of those jobs a vanity project gone south hell ride allows usually good actors to chew the scenery at least when the camera isn't centered on ? feeble attempts to steal every scene he's in which is virtually every scene my final three words on hell ride are stink ? ?\n",
            "Predicted Class: 0, Probability: 0.0241\n",
            "\n"
          ]
        }
      ]
    }
  ],
  "metadata": {
    "accelerator": "GPU",
    "colab": {
      "gpuType": "T4",
      "provenance": [],
      "include_colab_link": true
    },
    "kernelspec": {
      "display_name": "tfwin",
      "language": "python",
      "name": "python3"
    },
    "language_info": {
      "codemirror_mode": {
        "name": "ipython",
        "version": 3
      },
      "file_extension": ".py",
      "mimetype": "text/x-python",
      "name": "python",
      "nbconvert_exporter": "python",
      "pygments_lexer": "ipython3",
      "version": "3.9.20"
    }
  },
  "nbformat": 4,
  "nbformat_minor": 0
}