{
 "cells": [
  {
   "cell_type": "markdown",
   "id": "6ec05355",
   "metadata": {
    "id": "view-in-github",
    "papermill": {
     "duration": 0.007325,
     "end_time": "2024-11-18T03:53:32.655662",
     "exception": false,
     "start_time": "2024-11-18T03:53:32.648337",
     "status": "completed"
    },
    "tags": []
   },
   "source": [
    "<a href=\"https://colab.research.google.com/github/LeninGF/CoursesNotes/blob/main/InteligenciaArtificalGenerativa/Problems/LSTM-GRU/EjercicioEmbeddingLSTM-GRU-IAG-2024B_LeninFalconi.ipynb\" target=\"_parent\"><img src=\"https://colab.research.google.com/assets/colab-badge.svg\" alt=\"Open In Colab\"/></a>"
   ]
  },
  {
   "cell_type": "markdown",
   "id": "1404ce14",
   "metadata": {
    "id": "j_meEkMh7c8P",
    "papermill": {
     "duration": 0.006469,
     "end_time": "2024-11-18T03:53:32.668802",
     "exception": false,
     "start_time": "2024-11-18T03:53:32.662333",
     "status": "completed"
    },
    "tags": []
   },
   "source": [
    "# Clasificación de Noticias con el Dataset 20 News Groups\n",
    "\n",
    "Coder: Lenin G. Falconí\n",
    "\n",
    "Asignatura: Tópicos Especiales (Inteligencia Artificial)\n",
    "\n",
    "Fecha: 2024-11-11"
   ]
  },
  {
   "cell_type": "markdown",
   "id": "e96d4bc2",
   "metadata": {
    "id": "HjYR2tST8VtQ",
    "papermill": {
     "duration": 0.006324,
     "end_time": "2024-11-18T03:53:32.681604",
     "exception": false,
     "start_time": "2024-11-18T03:53:32.675280",
     "status": "completed"
    },
    "tags": []
   },
   "source": [
    "## Objetivo: \n",
    "Clasificar artículos de noticias en varias categorías usando el dataset 20 News Groups. Este \n",
    "ejercicio cubre el preprocesamiento, entrenamiento y evaluación de un modelo de \n",
    "clasificación de texto. "
   ]
  },
  {
   "cell_type": "markdown",
   "id": "1796171e",
   "metadata": {
    "papermill": {
     "duration": 0.006287,
     "end_time": "2024-11-18T03:53:32.695392",
     "exception": false,
     "start_time": "2024-11-18T03:53:32.689105",
     "status": "completed"
    },
    "tags": []
   },
   "source": [
    "## 1. Carga del Dataset\n",
    "\n",
    "Se usa Kaggle Input para llamar al dataset 20-News Groups Classification"
   ]
  },
  {
   "cell_type": "code",
   "execution_count": 1,
   "id": "ee498452",
   "metadata": {
    "execution": {
     "iopub.execute_input": "2024-11-18T03:53:32.709855Z",
     "iopub.status.busy": "2024-11-18T03:53:32.709517Z",
     "iopub.status.idle": "2024-11-18T03:53:44.001999Z",
     "shell.execute_reply": "2024-11-18T03:53:44.000603Z"
    },
    "papermill": {
     "duration": 11.303086,
     "end_time": "2024-11-18T03:53:44.005005",
     "exception": false,
     "start_time": "2024-11-18T03:53:32.701919",
     "status": "completed"
    },
    "tags": []
   },
   "outputs": [],
   "source": [
    "from sklearn.datasets import fetch_20newsgroups\n",
    "# Download train and test sets\n",
    "categories = ['alt.atheism', 'sci.space', 'soc.religion.christian']\n",
    "news_train = fetch_20newsgroups(subset='train', categories=categories)\n",
    "news_test = fetch_20newsgroups(subset='test', categories=categories)"
   ]
  },
  {
   "cell_type": "code",
   "execution_count": 2,
   "id": "d94695bb",
   "metadata": {
    "execution": {
     "iopub.execute_input": "2024-11-18T03:53:44.024225Z",
     "iopub.status.busy": "2024-11-18T03:53:44.023751Z",
     "iopub.status.idle": "2024-11-18T03:53:44.031610Z",
     "shell.execute_reply": "2024-11-18T03:53:44.030752Z"
    },
    "papermill": {
     "duration": 0.020965,
     "end_time": "2024-11-18T03:53:44.035100",
     "exception": false,
     "start_time": "2024-11-18T03:53:44.014135",
     "status": "completed"
    },
    "tags": []
   },
   "outputs": [
    {
     "data": {
      "text/plain": [
       "['alt.atheism', 'sci.space', 'soc.religion.christian']"
      ]
     },
     "execution_count": 2,
     "metadata": {},
     "output_type": "execute_result"
    }
   ],
   "source": [
    "news_train.target_names"
   ]
  },
  {
   "cell_type": "markdown",
   "id": "3adb4040",
   "metadata": {
    "papermill": {
     "duration": 0.009172,
     "end_time": "2024-11-18T03:53:44.054185",
     "exception": false,
     "start_time": "2024-11-18T03:53:44.045013",
     "status": "completed"
    },
    "tags": []
   },
   "source": [
    "## Preprocesamiento\n",
    "Transformar los textos en secuencias de índices numéricos y convertir las etiquetas a una \n",
    "representación one-hot. "
   ]
  },
  {
   "cell_type": "code",
   "execution_count": 3,
   "id": "c19195fb",
   "metadata": {
    "execution": {
     "iopub.execute_input": "2024-11-18T03:53:44.074029Z",
     "iopub.status.busy": "2024-11-18T03:53:44.073740Z",
     "iopub.status.idle": "2024-11-18T03:53:57.137588Z",
     "shell.execute_reply": "2024-11-18T03:53:57.136552Z"
    },
    "papermill": {
     "duration": 13.076207,
     "end_time": "2024-11-18T03:53:57.139721",
     "exception": false,
     "start_time": "2024-11-18T03:53:44.063514",
     "status": "completed"
    },
    "tags": []
   },
   "outputs": [
    {
     "data": {
      "text/plain": [
       "((1672, 400), (1672, 3))"
      ]
     },
     "execution_count": 3,
     "metadata": {},
     "output_type": "execute_result"
    }
   ],
   "source": [
    "import tensorflow as tf\n",
    "from tensorflow.keras.preprocessing.text import Tokenizer\n",
    "from tensorflow.keras.preprocessing.sequence import pad_sequences\n",
    "from tensorflow.keras.utils import to_categorical\n",
    "\n",
    "tokenizer = Tokenizer()\n",
    "tokenizer.fit_on_texts(news_train.data)\n",
    "\n",
    "# Crear X y Y\n",
    "X_train = tokenizer.texts_to_sequences(news_train.data)\n",
    "X_train = pad_sequences(X_train, maxlen=400)\n",
    "Y_train = to_categorical(news_train.target)\n",
    "\n",
    "# Tokenize and pad the test set \n",
    "X_test = tokenizer.texts_to_sequences(news_test.data) \n",
    "X_test = pad_sequences(X_test, maxlen=400)\n",
    "Y_test = to_categorical(news_test.target)\n",
    "\n",
    "X_train.shape, Y_train.shape"
   ]
  },
  {
   "cell_type": "markdown",
   "id": "1e6f9ffe",
   "metadata": {
    "papermill": {
     "duration": 0.007212,
     "end_time": "2024-11-18T03:53:57.155043",
     "exception": false,
     "start_time": "2024-11-18T03:53:57.147831",
     "status": "completed"
    },
    "tags": []
   },
   "source": [
    "## Paso 3: Crear el Modelo de Clasificación"
   ]
  },
  {
   "cell_type": "code",
   "execution_count": 4,
   "id": "e0073c0e",
   "metadata": {
    "execution": {
     "iopub.execute_input": "2024-11-18T03:53:57.170348Z",
     "iopub.status.busy": "2024-11-18T03:53:57.169764Z",
     "iopub.status.idle": "2024-11-18T03:53:58.452796Z",
     "shell.execute_reply": "2024-11-18T03:53:58.451723Z"
    },
    "papermill": {
     "duration": 1.294375,
     "end_time": "2024-11-18T03:53:58.456229",
     "exception": false,
     "start_time": "2024-11-18T03:53:57.161854",
     "status": "completed"
    },
    "tags": []
   },
   "outputs": [
    {
     "name": "stderr",
     "output_type": "stream",
     "text": [
      "/opt/conda/lib/python3.10/site-packages/keras/src/layers/core/embedding.py:90: UserWarning: Argument `input_length` is deprecated. Just remove it.\n",
      "  warnings.warn(\n",
      "/opt/conda/lib/python3.10/site-packages/keras/src/layers/core/embedding.py:93: UserWarning: Do not pass an `input_shape`/`input_dim` argument to a layer. When using Sequential models, prefer using an `Input(shape)` object as the first layer in the model instead.\n",
      "  super().__init__(**kwargs)\n"
     ]
    },
    {
     "data": {
      "text/html": [
       "<pre style=\"white-space:pre;overflow-x:auto;line-height:normal;font-family:Menlo,'DejaVu Sans Mono',consolas,'Courier New',monospace\"><span style=\"font-weight: bold\">Model: \"sequential\"</span>\n",
       "</pre>\n"
      ],
      "text/plain": [
       "\u001b[1mModel: \"sequential\"\u001b[0m\n"
      ]
     },
     "metadata": {},
     "output_type": "display_data"
    },
    {
     "data": {
      "text/html": [
       "<pre style=\"white-space:pre;overflow-x:auto;line-height:normal;font-family:Menlo,'DejaVu Sans Mono',consolas,'Courier New',monospace\">┏━━━━━━━━━━━━━━━━━━━━━━━━━━━━━━━━━┳━━━━━━━━━━━━━━━━━━━━━━━━┳━━━━━━━━━━━━━━━┓\n",
       "┃<span style=\"font-weight: bold\"> Layer (type)                    </span>┃<span style=\"font-weight: bold\"> Output Shape           </span>┃<span style=\"font-weight: bold\">       Param # </span>┃\n",
       "┡━━━━━━━━━━━━━━━━━━━━━━━━━━━━━━━━━╇━━━━━━━━━━━━━━━━━━━━━━━━╇━━━━━━━━━━━━━━━┩\n",
       "│ embedding (<span style=\"color: #0087ff; text-decoration-color: #0087ff\">Embedding</span>)           │ (<span style=\"color: #00d7ff; text-decoration-color: #00d7ff\">None</span>, <span style=\"color: #00af00; text-decoration-color: #00af00\">400</span>, <span style=\"color: #00af00; text-decoration-color: #00af00\">120</span>)       │     <span style=\"color: #00af00; text-decoration-color: #00af00\">1,200,000</span> │\n",
       "├─────────────────────────────────┼────────────────────────┼───────────────┤\n",
       "│ lstm (<span style=\"color: #0087ff; text-decoration-color: #0087ff\">LSTM</span>)                     │ (<span style=\"color: #00d7ff; text-decoration-color: #00d7ff\">None</span>, <span style=\"color: #00af00; text-decoration-color: #00af00\">128</span>)            │       <span style=\"color: #00af00; text-decoration-color: #00af00\">127,488</span> │\n",
       "├─────────────────────────────────┼────────────────────────┼───────────────┤\n",
       "│ dense (<span style=\"color: #0087ff; text-decoration-color: #0087ff\">Dense</span>)                   │ (<span style=\"color: #00d7ff; text-decoration-color: #00d7ff\">None</span>, <span style=\"color: #00af00; text-decoration-color: #00af00\">3</span>)              │           <span style=\"color: #00af00; text-decoration-color: #00af00\">387</span> │\n",
       "└─────────────────────────────────┴────────────────────────┴───────────────┘\n",
       "</pre>\n"
      ],
      "text/plain": [
       "┏━━━━━━━━━━━━━━━━━━━━━━━━━━━━━━━━━┳━━━━━━━━━━━━━━━━━━━━━━━━┳━━━━━━━━━━━━━━━┓\n",
       "┃\u001b[1m \u001b[0m\u001b[1mLayer (type)                   \u001b[0m\u001b[1m \u001b[0m┃\u001b[1m \u001b[0m\u001b[1mOutput Shape          \u001b[0m\u001b[1m \u001b[0m┃\u001b[1m \u001b[0m\u001b[1m      Param #\u001b[0m\u001b[1m \u001b[0m┃\n",
       "┡━━━━━━━━━━━━━━━━━━━━━━━━━━━━━━━━━╇━━━━━━━━━━━━━━━━━━━━━━━━╇━━━━━━━━━━━━━━━┩\n",
       "│ embedding (\u001b[38;5;33mEmbedding\u001b[0m)           │ (\u001b[38;5;45mNone\u001b[0m, \u001b[38;5;34m400\u001b[0m, \u001b[38;5;34m120\u001b[0m)       │     \u001b[38;5;34m1,200,000\u001b[0m │\n",
       "├─────────────────────────────────┼────────────────────────┼───────────────┤\n",
       "│ lstm (\u001b[38;5;33mLSTM\u001b[0m)                     │ (\u001b[38;5;45mNone\u001b[0m, \u001b[38;5;34m128\u001b[0m)            │       \u001b[38;5;34m127,488\u001b[0m │\n",
       "├─────────────────────────────────┼────────────────────────┼───────────────┤\n",
       "│ dense (\u001b[38;5;33mDense\u001b[0m)                   │ (\u001b[38;5;45mNone\u001b[0m, \u001b[38;5;34m3\u001b[0m)              │           \u001b[38;5;34m387\u001b[0m │\n",
       "└─────────────────────────────────┴────────────────────────┴───────────────┘\n"
      ]
     },
     "metadata": {},
     "output_type": "display_data"
    },
    {
     "data": {
      "text/html": [
       "<pre style=\"white-space:pre;overflow-x:auto;line-height:normal;font-family:Menlo,'DejaVu Sans Mono',consolas,'Courier New',monospace\"><span style=\"font-weight: bold\"> Total params: </span><span style=\"color: #00af00; text-decoration-color: #00af00\">1,327,875</span> (5.07 MB)\n",
       "</pre>\n"
      ],
      "text/plain": [
       "\u001b[1m Total params: \u001b[0m\u001b[38;5;34m1,327,875\u001b[0m (5.07 MB)\n"
      ]
     },
     "metadata": {},
     "output_type": "display_data"
    },
    {
     "data": {
      "text/html": [
       "<pre style=\"white-space:pre;overflow-x:auto;line-height:normal;font-family:Menlo,'DejaVu Sans Mono',consolas,'Courier New',monospace\"><span style=\"font-weight: bold\"> Trainable params: </span><span style=\"color: #00af00; text-decoration-color: #00af00\">1,327,875</span> (5.07 MB)\n",
       "</pre>\n"
      ],
      "text/plain": [
       "\u001b[1m Trainable params: \u001b[0m\u001b[38;5;34m1,327,875\u001b[0m (5.07 MB)\n"
      ]
     },
     "metadata": {},
     "output_type": "display_data"
    },
    {
     "data": {
      "text/html": [
       "<pre style=\"white-space:pre;overflow-x:auto;line-height:normal;font-family:Menlo,'DejaVu Sans Mono',consolas,'Courier New',monospace\"><span style=\"font-weight: bold\"> Non-trainable params: </span><span style=\"color: #00af00; text-decoration-color: #00af00\">0</span> (0.00 B)\n",
       "</pre>\n"
      ],
      "text/plain": [
       "\u001b[1m Non-trainable params: \u001b[0m\u001b[38;5;34m0\u001b[0m (0.00 B)\n"
      ]
     },
     "metadata": {},
     "output_type": "display_data"
    }
   ],
   "source": [
    "from tensorflow.keras.layers import LSTM, Embedding, Dense\n",
    "from tensorflow.keras.models import Sequential\n",
    "num_classes = Y_train.shape[1]\n",
    "model = Sequential()\n",
    "model.add(Embedding(input_dim=10000, output_dim=120, input_length=X_train.shape[1], input_shape=(X_train.shape[1],)))\n",
    "model.add(LSTM(128, dropout=0.2))\n",
    "model.add(Dense(num_classes, activation='softmax'))\n",
    "\n",
    "model.summary()\n"
   ]
  },
  {
   "cell_type": "markdown",
   "id": "d3474c43",
   "metadata": {
    "papermill": {
     "duration": 0.007509,
     "end_time": "2024-11-18T03:53:58.476492",
     "exception": false,
     "start_time": "2024-11-18T03:53:58.468983",
     "status": "completed"
    },
    "tags": []
   },
   "source": [
    "## Paso 4: Entrenar el Modelo \n",
    "\n"
   ]
  },
  {
   "cell_type": "code",
   "execution_count": 5,
   "id": "0059a121",
   "metadata": {
    "execution": {
     "iopub.execute_input": "2024-11-18T03:53:58.493004Z",
     "iopub.status.busy": "2024-11-18T03:53:58.492687Z",
     "iopub.status.idle": "2024-11-18T03:53:58.504811Z",
     "shell.execute_reply": "2024-11-18T03:53:58.504115Z"
    },
    "papermill": {
     "duration": 0.022593,
     "end_time": "2024-11-18T03:53:58.506743",
     "exception": false,
     "start_time": "2024-11-18T03:53:58.484150",
     "status": "completed"
    },
    "tags": []
   },
   "outputs": [],
   "source": [
    "model.compile(loss='categorical_crossentropy', optimizer='adam', metrics=['accuracy'])"
   ]
  },
  {
   "cell_type": "code",
   "execution_count": 6,
   "id": "c3a8e9a2",
   "metadata": {
    "execution": {
     "iopub.execute_input": "2024-11-18T03:53:58.523224Z",
     "iopub.status.busy": "2024-11-18T03:53:58.522925Z",
     "iopub.status.idle": "2024-11-18T03:57:49.253724Z",
     "shell.execute_reply": "2024-11-18T03:57:49.252697Z"
    },
    "papermill": {
     "duration": 230.741454,
     "end_time": "2024-11-18T03:57:49.255952",
     "exception": false,
     "start_time": "2024-11-18T03:53:58.514498",
     "status": "completed"
    },
    "tags": []
   },
   "outputs": [
    {
     "name": "stdout",
     "output_type": "stream",
     "text": [
      "Epoch 1/10\n",
      "\u001b[1m42/42\u001b[0m \u001b[32m━━━━━━━━━━━━━━━━━━━━\u001b[0m\u001b[37m\u001b[0m \u001b[1m27s\u001b[0m 552ms/step - accuracy: 0.4500 - loss: 1.0633 - val_accuracy: 0.7493 - val_loss: 0.6409\n",
      "Epoch 2/10\n",
      "\u001b[1m42/42\u001b[0m \u001b[32m━━━━━━━━━━━━━━━━━━━━\u001b[0m\u001b[37m\u001b[0m \u001b[1m23s\u001b[0m 540ms/step - accuracy: 0.7961 - loss: 0.5284 - val_accuracy: 0.8537 - val_loss: 0.4722\n",
      "Epoch 3/10\n",
      "\u001b[1m42/42\u001b[0m \u001b[32m━━━━━━━━━━━━━━━━━━━━\u001b[0m\u001b[37m\u001b[0m \u001b[1m23s\u001b[0m 537ms/step - accuracy: 0.9255 - loss: 0.2214 - val_accuracy: 0.8866 - val_loss: 0.2471\n",
      "Epoch 4/10\n",
      "\u001b[1m42/42\u001b[0m \u001b[32m━━━━━━━━━━━━━━━━━━━━\u001b[0m\u001b[37m\u001b[0m \u001b[1m23s\u001b[0m 540ms/step - accuracy: 0.9900 - loss: 0.0455 - val_accuracy: 0.8507 - val_loss: 0.4048\n",
      "Epoch 5/10\n",
      "\u001b[1m42/42\u001b[0m \u001b[32m━━━━━━━━━━━━━━━━━━━━\u001b[0m\u001b[37m\u001b[0m \u001b[1m23s\u001b[0m 540ms/step - accuracy: 0.9930 - loss: 0.0292 - val_accuracy: 0.8537 - val_loss: 0.3994\n",
      "Epoch 6/10\n",
      "\u001b[1m42/42\u001b[0m \u001b[32m━━━━━━━━━━━━━━━━━━━━\u001b[0m\u001b[37m\u001b[0m \u001b[1m22s\u001b[0m 535ms/step - accuracy: 0.9926 - loss: 0.0343 - val_accuracy: 0.8716 - val_loss: 0.4137\n",
      "Epoch 7/10\n",
      "\u001b[1m42/42\u001b[0m \u001b[32m━━━━━━━━━━━━━━━━━━━━\u001b[0m\u001b[37m\u001b[0m \u001b[1m23s\u001b[0m 542ms/step - accuracy: 0.9945 - loss: 0.0166 - val_accuracy: 0.8896 - val_loss: 0.3430\n",
      "Epoch 8/10\n",
      "\u001b[1m42/42\u001b[0m \u001b[32m━━━━━━━━━━━━━━━━━━━━\u001b[0m\u001b[37m\u001b[0m \u001b[1m23s\u001b[0m 541ms/step - accuracy: 0.9968 - loss: 0.0122 - val_accuracy: 0.8866 - val_loss: 0.3389\n",
      "Epoch 9/10\n",
      "\u001b[1m42/42\u001b[0m \u001b[32m━━━━━━━━━━━━━━━━━━━━\u001b[0m\u001b[37m\u001b[0m \u001b[1m22s\u001b[0m 536ms/step - accuracy: 0.9991 - loss: 0.0048 - val_accuracy: 0.8776 - val_loss: 0.4328\n",
      "Epoch 10/10\n",
      "\u001b[1m42/42\u001b[0m \u001b[32m━━━━━━━━━━━━━━━━━━━━\u001b[0m\u001b[37m\u001b[0m \u001b[1m23s\u001b[0m 537ms/step - accuracy: 0.9560 - loss: 0.2075 - val_accuracy: 0.8925 - val_loss: 0.2489\n"
     ]
    }
   ],
   "source": [
    "# Train the model with validation split \n",
    "history = model.fit(X_train, Y_train, epochs=10, batch_size=32, validation_split=0.2)"
   ]
  },
  {
   "cell_type": "code",
   "execution_count": 7,
   "id": "3416bd34",
   "metadata": {
    "execution": {
     "iopub.execute_input": "2024-11-18T03:57:49.340317Z",
     "iopub.status.busy": "2024-11-18T03:57:49.339966Z",
     "iopub.status.idle": "2024-11-18T03:57:49.828524Z",
     "shell.execute_reply": "2024-11-18T03:57:49.827605Z"
    },
    "papermill": {
     "duration": 0.533203,
     "end_time": "2024-11-18T03:57:49.831053",
     "exception": false,
     "start_time": "2024-11-18T03:57:49.297850",
     "status": "completed"
    },
    "tags": []
   },
   "outputs": [
    {
     "data": {
      "image/png": "[encoded data removed]",
      "text/plain": [
       "<Figure size 1200x400 with 2 Axes>"
      ]
     },
     "metadata": {},
     "output_type": "display_data"
    }
   ],
   "source": [
    "# Plot training vs validation accuracy and loss \n",
    "import matplotlib.pylab as plt\n",
    "plt.figure(figsize=(12, 4)) \n",
    "# Plot accuracy \n",
    "plt.subplot(1, 2, 1) \n",
    "plt.plot(history.history['accuracy'], label='Train Accuracy') \n",
    "plt.plot(history.history['val_accuracy'], label='Validation Accuracy') \n",
    "plt.title('Training vs Validation Accuracy') \n",
    "plt.xlabel('Epochs') \n",
    "plt.ylabel('Accuracy') \n",
    "plt.grid()\n",
    "plt.legend() \n",
    "# Plot loss \n",
    "plt.subplot(1, 2, 2) \n",
    "plt.plot(history.history['loss'], label='Train Loss') \n",
    "plt.plot(history.history['val_loss'], label='Validation Loss') \n",
    "plt.title('Training vs Validation Loss') \n",
    "plt.xlabel('Epochs') \n",
    "plt.ylabel('Loss') \n",
    "plt.legend()\n",
    "plt.grid()\n",
    "plt.show()"
   ]
  },
  {
   "cell_type": "markdown",
   "id": "e70400bf",
   "metadata": {
    "papermill": {
     "duration": 0.041873,
     "end_time": "2024-11-18T03:57:49.915677",
     "exception": false,
     "start_time": "2024-11-18T03:57:49.873804",
     "status": "completed"
    },
    "tags": []
   },
   "source": [
    "## Paso 5 Evaluación"
   ]
  },
  {
   "cell_type": "code",
   "execution_count": 8,
   "id": "a203ba8d",
   "metadata": {
    "execution": {
     "iopub.execute_input": "2024-11-18T03:57:50.000837Z",
     "iopub.status.busy": "2024-11-18T03:57:50.000517Z",
     "iopub.status.idle": "2024-11-18T03:57:55.098721Z",
     "shell.execute_reply": "2024-11-18T03:57:55.097928Z"
    },
    "papermill": {
     "duration": 5.142912,
     "end_time": "2024-11-18T03:57:55.100711",
     "exception": false,
     "start_time": "2024-11-18T03:57:49.957799",
     "status": "completed"
    },
    "tags": []
   },
   "outputs": [
    {
     "name": "stdout",
     "output_type": "stream",
     "text": [
      "\u001b[1m35/35\u001b[0m \u001b[32m━━━━━━━━━━━━━━━━━━━━\u001b[0m\u001b[37m\u001b[0m \u001b[1m5s\u001b[0m 144ms/step - accuracy: 0.8102 - loss: 0.4932\n"
     ]
    },
    {
     "data": {
      "text/plain": [
       "[0.4744947850704193, 0.8100810050964355]"
      ]
     },
     "execution_count": 8,
     "metadata": {},
     "output_type": "execute_result"
    }
   ],
   "source": [
    "model.evaluate(X_test, Y_test)"
   ]
  },
  {
   "cell_type": "markdown",
   "id": "d0a310b8",
   "metadata": {
    "papermill": {
     "duration": 0.045819,
     "end_time": "2024-11-18T03:57:55.192476",
     "exception": false,
     "start_time": "2024-11-18T03:57:55.146657",
     "status": "completed"
    },
    "tags": []
   },
   "source": [
    "Se nota que `Y_test` está en One-Hot"
   ]
  },
  {
   "cell_type": "code",
   "execution_count": 9,
   "id": "189e2f1f",
   "metadata": {
    "execution": {
     "iopub.execute_input": "2024-11-18T03:57:55.283814Z",
     "iopub.status.busy": "2024-11-18T03:57:55.283492Z",
     "iopub.status.idle": "2024-11-18T03:57:55.289646Z",
     "shell.execute_reply": "2024-11-18T03:57:55.288708Z"
    },
    "papermill": {
     "duration": 0.054065,
     "end_time": "2024-11-18T03:57:55.291555",
     "exception": false,
     "start_time": "2024-11-18T03:57:55.237490",
     "status": "completed"
    },
    "tags": []
   },
   "outputs": [
    {
     "data": {
      "text/plain": [
       "array([[0., 1., 0.],\n",
       "       [1., 0., 0.],\n",
       "       [1., 0., 0.],\n",
       "       [0., 0., 1.],\n",
       "       [1., 0., 0.]])"
      ]
     },
     "execution_count": 9,
     "metadata": {},
     "output_type": "execute_result"
    }
   ],
   "source": [
    "Y_test[:5]"
   ]
  },
  {
   "cell_type": "markdown",
   "id": "b3379b06",
   "metadata": {
    "papermill": {
     "duration": 0.045273,
     "end_time": "2024-11-18T03:57:55.382312",
     "exception": false,
     "start_time": "2024-11-18T03:57:55.337039",
     "status": "completed"
    },
    "tags": []
   },
   "source": [
    "Reporte de clasificación"
   ]
  },
  {
   "cell_type": "code",
   "execution_count": 10,
   "id": "c43892ab",
   "metadata": {
    "execution": {
     "iopub.execute_input": "2024-11-18T03:57:55.474413Z",
     "iopub.status.busy": "2024-11-18T03:57:55.473684Z",
     "iopub.status.idle": "2024-11-18T03:58:01.184795Z",
     "shell.execute_reply": "2024-11-18T03:58:01.183983Z"
    },
    "papermill": {
     "duration": 5.75959,
     "end_time": "2024-11-18T03:58:01.186713",
     "exception": false,
     "start_time": "2024-11-18T03:57:55.427123",
     "status": "completed"
    },
    "tags": []
   },
   "outputs": [
    {
     "name": "stdout",
     "output_type": "stream",
     "text": [
      "\u001b[1m35/35\u001b[0m \u001b[32m━━━━━━━━━━━━━━━━━━━━\u001b[0m\u001b[37m\u001b[0m \u001b[1m6s\u001b[0m 155ms/step\n"
     ]
    },
    {
     "data": {
      "text/plain": [
       "['alt.atheism', 'sci.space', 'soc.religion.christian']"
      ]
     },
     "execution_count": 10,
     "metadata": {},
     "output_type": "execute_result"
    }
   ],
   "source": [
    "import numpy as np\n",
    "from sklearn.metrics import classification_report, confusion_matrix, ConfusionMatrixDisplay\n",
    "\n",
    "predictions = model.predict(X_test)\n",
    "y_pred = np.argmax(predictions, axis=1)\n",
    "y_true = np.argmax(Y_test, axis=1)\n",
    "\n",
    "target_names = news_test.target_names\n",
    "target_names"
   ]
  },
  {
   "cell_type": "code",
   "execution_count": 11,
   "id": "a273cfe0",
   "metadata": {
    "execution": {
     "iopub.execute_input": "2024-11-18T03:58:01.285753Z",
     "iopub.status.busy": "2024-11-18T03:58:01.284963Z",
     "iopub.status.idle": "2024-11-18T03:58:01.298368Z",
     "shell.execute_reply": "2024-11-18T03:58:01.297271Z"
    },
    "papermill": {
     "duration": 0.064469,
     "end_time": "2024-11-18T03:58:01.300273",
     "exception": false,
     "start_time": "2024-11-18T03:58:01.235804",
     "status": "completed"
    },
    "tags": []
   },
   "outputs": [
    {
     "name": "stdout",
     "output_type": "stream",
     "text": [
      "                        precision    recall  f1-score   support\n",
      "\n",
      "           alt.atheism       0.75      0.66      0.70       319\n",
      "             sci.space       0.96      0.90      0.93       394\n",
      "soc.religion.christian       0.73      0.84      0.78       398\n",
      "\n",
      "              accuracy                           0.81      1111\n",
      "             macro avg       0.81      0.80      0.80      1111\n",
      "          weighted avg       0.82      0.81      0.81      1111\n",
      "\n"
     ]
    }
   ],
   "source": [
    "report = classification_report(y_true=y_true,\n",
    "                               y_pred=y_pred,\n",
    "                               target_names=target_names)\n",
    "print(report)"
   ]
  },
  {
   "cell_type": "markdown",
   "id": "1e9c9523",
   "metadata": {
    "papermill": {
     "duration": 0.047953,
     "end_time": "2024-11-18T03:58:01.396245",
     "exception": false,
     "start_time": "2024-11-18T03:58:01.348292",
     "status": "completed"
    },
    "tags": []
   },
   "source": [
    "## Paso 6. Análisis\n",
    "Explorar la diferencia entre precisión y recall y cómo estos afectan la clasificación en cada clase.\n",
    "\n",
    "Calcular la precisión y el recall de las clases seleccionadas usando diferentes umbrales de probabilidad para observar cómo cambian los valores. \n",
    "\n",
    "Imprimir los resultados de precisión y recall en un dataframe. "
   ]
  },
  {
   "cell_type": "code",
   "execution_count": 12,
   "id": "4db4851e",
   "metadata": {
    "execution": {
     "iopub.execute_input": "2024-11-18T03:58:01.495160Z",
     "iopub.status.busy": "2024-11-18T03:58:01.494629Z",
     "iopub.status.idle": "2024-11-18T03:58:01.500662Z",
     "shell.execute_reply": "2024-11-18T03:58:01.499818Z"
    },
    "papermill": {
     "duration": 0.057921,
     "end_time": "2024-11-18T03:58:01.502755",
     "exception": false,
     "start_time": "2024-11-18T03:58:01.444834",
     "status": "completed"
    },
    "tags": []
   },
   "outputs": [
    {
     "name": "stdout",
     "output_type": "stream",
     "text": [
      "Class: alt.atheism -> One-hot encoding: [1. 0. 0.] -> 0\n",
      "Class: sci.space -> One-hot encoding: [0. 1. 0.] -> 1\n",
      "Class: soc.religion.christian -> One-hot encoding: [0. 0. 1.] -> 2\n"
     ]
    }
   ],
   "source": [
    "# Convert class indices to one-hot encoded vectors \n",
    "class_indices = np.arange(len(news_test.target_names)) \n",
    "one_hot_encodings = to_categorical(class_indices)\n",
    "\n",
    "# Print the mappings \n",
    "for index, label in enumerate(news_test.target_names): \n",
    "    print(f\"Class: {label} -> One-hot encoding: {one_hot_encodings[index]} -> {np.argmax(one_hot_encodings[index])}\")"
   ]
  },
  {
   "cell_type": "code",
   "execution_count": 13,
   "id": "15269151",
   "metadata": {
    "execution": {
     "iopub.execute_input": "2024-11-18T03:58:01.601334Z",
     "iopub.status.busy": "2024-11-18T03:58:01.601026Z",
     "iopub.status.idle": "2024-11-18T03:58:01.637779Z",
     "shell.execute_reply": "2024-11-18T03:58:01.637113Z"
    },
    "papermill": {
     "duration": 0.088487,
     "end_time": "2024-11-18T03:58:01.639639",
     "exception": false,
     "start_time": "2024-11-18T03:58:01.551152",
     "status": "completed"
    },
    "tags": []
   },
   "outputs": [],
   "source": [
    "DEFAULT_CLASS = 1\n",
    "# umbral 0.5\n",
    "y_pred_50 = [np.argmax(x) if np.max(x) >= 0.5 else DEFAULT_CLASS for x in predictions ]\n",
    "\n",
    "# umbral 0.8\n",
    "y_pred_80 = [np.argmax(x) if np.max(x) >= 0.8 else DEFAULT_CLASS for x in predictions ]"
   ]
  },
  {
   "cell_type": "markdown",
   "id": "0895ad31",
   "metadata": {
    "papermill": {
     "duration": 0.048333,
     "end_time": "2024-11-18T03:58:01.736211",
     "exception": false,
     "start_time": "2024-11-18T03:58:01.687878",
     "status": "completed"
    },
    "tags": []
   },
   "source": [
    "Creando el dataframe"
   ]
  },
  {
   "cell_type": "code",
   "execution_count": 14,
   "id": "a9e5bcea",
   "metadata": {
    "execution": {
     "iopub.execute_input": "2024-11-18T03:58:01.835420Z",
     "iopub.status.busy": "2024-11-18T03:58:01.834803Z",
     "iopub.status.idle": "2024-11-18T03:58:01.863396Z",
     "shell.execute_reply": "2024-11-18T03:58:01.862547Z"
    },
    "papermill": {
     "duration": 0.080013,
     "end_time": "2024-11-18T03:58:01.865322",
     "exception": false,
     "start_time": "2024-11-18T03:58:01.785309",
     "status": "completed"
    },
    "tags": []
   },
   "outputs": [
    {
     "data": {
      "text/html": [
       "<div>\n",
       "<style scoped>\n",
       "    .dataframe tbody tr th:only-of-type {\n",
       "        vertical-align: middle;\n",
       "    }\n",
       "\n",
       "    .dataframe tbody tr th {\n",
       "        vertical-align: top;\n",
       "    }\n",
       "\n",
       "    .dataframe thead th {\n",
       "        text-align: right;\n",
       "    }\n",
       "</style>\n",
       "<table border=\"1\" class=\"dataframe\">\n",
       "  <thead>\n",
       "    <tr style=\"text-align: right;\">\n",
       "      <th></th>\n",
       "      <th>Precision_50</th>\n",
       "      <th>Precision_80</th>\n",
       "      <th>Recall_50</th>\n",
       "      <th>Recall_80</th>\n",
       "    </tr>\n",
       "  </thead>\n",
       "  <tbody>\n",
       "    <tr>\n",
       "      <th>alt.atheism</th>\n",
       "      <td>0.755474</td>\n",
       "      <td>0.907317</td>\n",
       "      <td>0.648903</td>\n",
       "      <td>0.583072</td>\n",
       "    </tr>\n",
       "    <tr>\n",
       "      <th>sci.space</th>\n",
       "      <td>0.937337</td>\n",
       "      <td>0.677305</td>\n",
       "      <td>0.911168</td>\n",
       "      <td>0.969543</td>\n",
       "    </tr>\n",
       "    <tr>\n",
       "      <th>soc.religion.christian</th>\n",
       "      <td>0.733480</td>\n",
       "      <td>0.830409</td>\n",
       "      <td>0.836683</td>\n",
       "      <td>0.713568</td>\n",
       "    </tr>\n",
       "  </tbody>\n",
       "</table>\n",
       "</div>"
      ],
      "text/plain": [
       "                        Precision_50  Precision_80  Recall_50  Recall_80\n",
       "alt.atheism                 0.755474      0.907317   0.648903   0.583072\n",
       "sci.space                   0.937337      0.677305   0.911168   0.969543\n",
       "soc.religion.christian      0.733480      0.830409   0.836683   0.713568"
      ]
     },
     "execution_count": 14,
     "metadata": {},
     "output_type": "execute_result"
    }
   ],
   "source": [
    "import pandas as pd\n",
    "from sklearn.metrics import precision_score, recall_score\n",
    "trade_off = pd.DataFrame({'Precision_50': precision_score(y_true=y_true,\n",
    "                                                          y_pred=y_pred_50,\n",
    "                                                          average=None),\n",
    "                          'Precision_80': precision_score(y_true=y_true,\n",
    "                                                          y_pred=y_pred_80,\n",
    "                                                          average=None),\n",
    "                          'Recall_50': recall_score(y_true=y_true,\n",
    "                                                    y_pred=y_pred_50,\n",
    "                                                    average=None),\n",
    "                          'Recall_80': recall_score(y_true=y_true,\n",
    "                                                    y_pred=y_pred_80,\n",
    "                                                    average=None)}, index=news_test.target_names)\n",
    "trade_off"
   ]
  },
  {
   "cell_type": "markdown",
   "id": "7283d7c8",
   "metadata": {
    "papermill": {
     "duration": 0.048347,
     "end_time": "2024-11-18T03:58:01.962564",
     "exception": false,
     "start_time": "2024-11-18T03:58:01.914217",
     "status": "completed"
    },
    "tags": []
   },
   "source": [
    "### Preguntas\n",
    "1. ¿Cuál es la diferencia entre precisión y recall en el contexto de este ejercicio? \n",
    "Precision y Recall difieren. Precision mide la proporcion de elementos que sí pertenecen a la clase que el modelo predice. En cambio recall busca determinar la proporción de elementos correctamente clasificados. \n",
    "2. ¿Cuál métrica es más importante en este caso si el objetivo es identificar la mayoría de los artículos en la categoría alt.atheism? Justificar la respuesta.\n",
    "Recall es más importante en este caso si el objetivo es identificar la mayoría de los artículos en la categoría alt.atheism.Esto se debe a que el recall mide la capacidad del modelo para identificar correctamente todos los artículos que realmente pertenecen a la categoría alt.atheism.Un alto recall significa que menos artículos verdaderamente pertenecientes a alt.atheismserán perdidos o clasificados incorrectamente en otras categorías.\n",
    "3. Observar los resultados a diferentes umbrales. ¿Cómo afecta el cambio de umbral en la capacidad del modelo para clasificar cada clase? \n",
    "Se observa una mejora en cuanto a la predicción ya que la clase con menor número de elementos mejora su precisión\n",
    "4. Si la precisión de la clase sci.space es alta, ¿qué significa esto sobre el modelo? \n",
    "    A. Predice bien los artículos de sci.space cuando clasifica esa clase. [X]\n",
    "    B. Puede identificar correctamente todos los artículos de sci.space. \n",
    "5. Si el recall de alt.atheism es bajo, ¿qué implicaciones tiene esto para la clasificación de los artículos? \n",
    "    A. El modelo está identificando la mayoría de los artículos de alt.atheism. \n",
    "    B. Es probable que muchos artículos de alt.atheism se clasifiquen incorrectamente en otras categorías. [X]\n"
   ]
  },
  {
   "cell_type": "markdown",
   "id": "0553358e",
   "metadata": {
    "papermill": {
     "duration": 0.048201,
     "end_time": "2024-11-18T03:58:02.058931",
     "exception": false,
     "start_time": "2024-11-18T03:58:02.010730",
     "status": "completed"
    },
    "tags": []
   },
   "source": [
    "## "
   ]
  }
 ],
 "metadata": {
  "accelerator": "GPU",
  "colab": {
   "gpuType": "T4",
   "include_colab_link": true,
   "provenance": [],
   "toc_visible": true
  },
  "kaggle": {
   "accelerator": "nvidiaTeslaT4",
   "dataSources": [
    {
     "sourceId": 119408755,
     "sourceType": "kernelVersion"
    }
   ],
   "dockerImageVersionId": 30786,
   "isGpuEnabled": true,
   "isInternetEnabled": true,
   "language": "python",
   "sourceType": "notebook"
  },
  "kernelspec": {
   "display_name": "Python 3",
   "language": "python",
   "name": "python3"
  },
  "language_info": {
   "codemirror_mode": {
    "name": "ipython",
    "version": 3
   },
   "file_extension": ".py",
   "mimetype": "text/x-python",
   "name": "python",
   "nbconvert_exporter": "python",
   "pygments_lexer": "ipython3",
   "version": "3.10.14"
  },
  "papermill": {
   "default_parameters": {},
   "duration": 273.667442,
   "end_time": "2024-11-18T03:58:03.829611",
   "environment_variables": {},
   "exception": null,
   "input_path": "__notebook__.ipynb",
   "output_path": "__notebook__.ipynb",
   "parameters": {},
   "start_time": "2024-11-18T03:53:30.162169",
   "version": "2.6.0"
  }
 },
 "nbformat": 4,
 "nbformat_minor": 5
}
